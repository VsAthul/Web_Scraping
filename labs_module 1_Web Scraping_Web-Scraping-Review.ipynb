{
 "cells": [
  {
   "cell_type": "markdown",
   "metadata": {},
   "source": [
    "<p style=\"text-align:center\">\n",
    "    <a href=\"https://skills.network\" target=\"_blank\">\n",
    "    <img src=\"https://cf-courses-data.s3.us.cloud-object-storage.appdomain.cloud/assets/logos/SN_web_lightmode.png\" width=\"200\" alt=\"Skills Network Logo\">\n",
    "    </a>\n",
    "</p>\n"
   ]
  },
  {
   "cell_type": "markdown",
   "metadata": {},
   "source": [
    "# **Web Scraping Lab**\n"
   ]
  },
  {
   "cell_type": "markdown",
   "metadata": {},
   "source": [
    "Estimated time needed: **30** minutes\n"
   ]
  },
  {
   "cell_type": "markdown",
   "metadata": {},
   "source": [
    "## Objectives\n"
   ]
  },
  {
   "cell_type": "markdown",
   "metadata": {},
   "source": [
    "\n",
    "After completing this lab you will be:\n",
    "\n",
    "* Familiar with the basics of the `BeautifulSoup` Python library \n",
    "* Be able to scrape webpages for data and filter the data \n"
   ]
  },
  {
   "cell_type": "markdown",
   "metadata": {},
   "source": [
    "<h2>Table of Contents</h2>\n",
    "<div class=\"alert alert-block alert-info\" style=\"margin-top: 20px\">\n",
    "    <ul>\n",
    "        <li>\n",
    "            <a href=\"BSO\">Beautiful Soup Object</a>\n",
    "            <ul>\n",
    "                <li>Tag</li>\n",
    "                <li>Children, Parents, and Siblings</li>\n",
    "                <li>HTML Attributes</li>\n",
    "                <li>Navigable String</li>\n",
    "            </ul>\n",
    "        </li>\n",
    "     </ul>\n",
    "    <ul>\n",
    "        <li>\n",
    "            <a href=\"filter\">Filter</a>\n",
    "            <ul>\n",
    "                <li>find All</li>\n",
    "                <li>find </li>\n",
    "                <li>HTML Attributes</li>\n",
    "                <li>Navigable String</li>\n",
    "            </ul>\n",
    "        </li>\n",
    "     </ul>\n",
    "     <ul>\n",
    "        <li>\n",
    "            <a href=\"DSCW\">Downloading And Scraping The Contents Of A Web</a>\n",
    "    </p>\n",
    "    \n",
    "</div>\n",
    "\n",
    "<hr>\n"
   ]
  },
  {
   "cell_type": "markdown",
   "metadata": {},
   "source": [
    "For this lab, we are going to be using Python and several Python libraries. Some of these libraries might be installed in your lab environment or in SN Labs. Others may need to be installed by you. The cells below will install these libraries when executed.\n"
   ]
  },
  {
   "cell_type": "code",
   "execution_count": null,
   "metadata": {},
   "outputs": [],
   "source": [
    "!pip install bs4\n",
    "!pip install requests pandas"
   ]
  },
  {
   "cell_type": "markdown",
   "metadata": {},
   "source": [
    "Import the required modules and functions\n"
   ]
  },
  {
   "cell_type": "code",
   "execution_count": 2,
   "metadata": {},
   "outputs": [],
   "source": [
    "from bs4 import BeautifulSoup # this module helps in web scrapping.\n",
    "import requests  # this module helps us to download a web page"
   ]
  },
  {
   "cell_type": "markdown",
   "metadata": {},
   "source": [
    "<h2 id=\"BSO\">Beautiful Soup Objects</h2>\n"
   ]
  },
  {
   "cell_type": "markdown",
   "metadata": {},
   "source": [
    "Beautiful Soup is a Python library for pulling data out of HTML and XML files, we will focus on HTML files. This is accomplished by representing the HTML as a set of objects with methods used to parse the HTML.  We can navigate the HTML as a tree, and/or filter out what we are looking for.  \n",
    "\n",
    "Consider the following HTML:\n"
   ]
  },
  {
   "cell_type": "code",
   "execution_count": 3,
   "metadata": {},
   "outputs": [
    {
     "data": {
      "text/html": [
       "<!DOCTYPE html>\n",
       "<html>\n",
       "<head>\n",
       "<title>Page Title</title>\n",
       "</head>\n",
       "<body>\n",
       "<h3><b id='boldest'>Lebron James</b></h3>\n",
       "<p> Salary: $ 92,000,000 </p>\n",
       "<h3> Stephen Curry</h3>\n",
       "<p> Salary: $85,000, 000 </p>\n",
       "<h3> Kevin Durant </h3>\n",
       "<p> Salary: $73,200, 000</p>\n",
       "</body>\n",
       "</html>\n"
      ],
      "text/plain": [
       "<IPython.core.display.HTML object>"
      ]
     },
     "metadata": {},
     "output_type": "display_data"
    }
   ],
   "source": [
    "%%html\n",
    "<!DOCTYPE html>\n",
    "<html>\n",
    "<head>\n",
    "<title>Page Title</title>\n",
    "</head>\n",
    "<body>\n",
    "<h3><b id='boldest'>Lebron James</b></h3>\n",
    "<p> Salary: $ 92,000,000 </p>\n",
    "<h3> Stephen Curry</h3>\n",
    "<p> Salary: $85,000, 000 </p>\n",
    "<h3> Kevin Durant </h3>\n",
    "<p> Salary: $73,200, 000</p>\n",
    "</body>\n",
    "</html>"
   ]
  },
  {
   "cell_type": "markdown",
   "metadata": {},
   "source": [
    "We can store it as a string in the variable HTML:\n"
   ]
  },
  {
   "cell_type": "code",
   "execution_count": 4,
   "metadata": {},
   "outputs": [],
   "source": [
    "html=\"<!DOCTYPE html><html><head><title>Page Title</title></head><body><h3><b id='boldest'>Lebron James</b></h3><p> Salary: $ 92,000,000 </p><h3> Stephen Curry</h3><p> Salary: $85,000, 000 </p><h3> Kevin Durant </h3><p> Salary: $73,200, 000</p></body></html>\""
   ]
  },
  {
   "cell_type": "markdown",
   "metadata": {},
   "source": [
    "To parse a document, pass it into the <code>BeautifulSoup</code> constructor. The <code>BeautifulSoup</code> object represents the document as a nested data structure:\n"
   ]
  },
  {
   "cell_type": "code",
   "execution_count": 5,
   "metadata": {},
   "outputs": [],
   "source": [
    "soup = BeautifulSoup(html, 'html.parser')"
   ]
  },
  {
   "cell_type": "markdown",
   "metadata": {},
   "source": [
    "First, the document is converted to Unicode (similar to ASCII) and HTML entities are converted to Unicode characters. Beautiful Soup transforms a complex HTML document into a complex tree of Python objects. The <code>BeautifulSoup</code> object can create other types of objects. In this lab, we will cover <code>BeautifulSoup</code> and <code>Tag</code> objects, that for the purposes of this lab are identical. Finally, we will look at <code>NavigableString</code> objects.\n"
   ]
  },
  {
   "cell_type": "markdown",
   "metadata": {},
   "source": [
    "We can use the method <code>prettify()</code> to display the HTML in the nested structure:\n"
   ]
  },
  {
   "cell_type": "code",
   "execution_count": 6,
   "metadata": {},
   "outputs": [
    {
     "name": "stdout",
     "output_type": "stream",
     "text": [
      "<!DOCTYPE html>\n",
      "<html>\n",
      " <head>\n",
      "  <title>\n",
      "   Page Title\n",
      "  </title>\n",
      " </head>\n",
      " <body>\n",
      "  <h3>\n",
      "   <b id=\"boldest\">\n",
      "    Lebron James\n",
      "   </b>\n",
      "  </h3>\n",
      "  <p>\n",
      "   Salary: $ 92,000,000\n",
      "  </p>\n",
      "  <h3>\n",
      "   Stephen Curry\n",
      "  </h3>\n",
      "  <p>\n",
      "   Salary: $85,000, 000\n",
      "  </p>\n",
      "  <h3>\n",
      "   Kevin Durant\n",
      "  </h3>\n",
      "  <p>\n",
      "   Salary: $73,200, 000\n",
      "  </p>\n",
      " </body>\n",
      "</html>\n",
      "\n"
     ]
    }
   ],
   "source": [
    "print(soup.prettify())"
   ]
  },
  {
   "cell_type": "markdown",
   "metadata": {},
   "source": [
    "## Tags\n"
   ]
  },
  {
   "cell_type": "markdown",
   "metadata": {},
   "source": [
    "Let's say we want the  title of the page and the name of the top paid player. We can use the <code>Tag</code>. The <code>Tag</code> object corresponds to an HTML tag in the original document, for example, the tag title.\n"
   ]
  },
  {
   "cell_type": "code",
   "execution_count": 7,
   "metadata": {},
   "outputs": [
    {
     "name": "stdout",
     "output_type": "stream",
     "text": [
      "tag object: <title>Page Title</title>\n"
     ]
    }
   ],
   "source": [
    "tag_object=soup.title\n",
    "print(\"tag object:\",tag_object)"
   ]
  },
  {
   "cell_type": "code",
   "execution_count": 8,
   "metadata": {},
   "outputs": [
    {
     "data": {
      "text/plain": [
       "<title>Page Title</title>"
      ]
     },
     "execution_count": 8,
     "metadata": {},
     "output_type": "execute_result"
    }
   ],
   "source": [
    "tag_object"
   ]
  },
  {
   "cell_type": "markdown",
   "metadata": {},
   "source": [
    "we can see the tag type <code>bs4.element.Tag</code>\n"
   ]
  },
  {
   "cell_type": "code",
   "execution_count": 9,
   "metadata": {},
   "outputs": [
    {
     "name": "stdout",
     "output_type": "stream",
     "text": [
      "tag object type: <class 'bs4.element.Tag'>\n"
     ]
    }
   ],
   "source": [
    "print(\"tag object type:\",type(tag_object))"
   ]
  },
  {
   "cell_type": "markdown",
   "metadata": {},
   "source": [
    "If there is more than one <code>Tag</code> with the same name, the first element with that <code>Tag</code> name is called. This corresponds to the most paid player: \n"
   ]
  },
  {
   "cell_type": "code",
   "execution_count": 10,
   "metadata": {},
   "outputs": [
    {
     "data": {
      "text/plain": [
       "<h3><b id=\"boldest\">Lebron James</b></h3>"
      ]
     },
     "execution_count": 10,
     "metadata": {},
     "output_type": "execute_result"
    }
   ],
   "source": [
    "tag_object=soup.h3\n",
    "tag_object"
   ]
  },
  {
   "cell_type": "markdown",
   "metadata": {},
   "source": [
    "Enclosed in the bold attribute <code>b</code>, it helps to use the tree representation. We can navigate down the tree using the child attribute to get the name. \n"
   ]
  },
  {
   "cell_type": "markdown",
   "metadata": {},
   "source": [
    "### Children, Parents, and Siblings\n"
   ]
  },
  {
   "cell_type": "markdown",
   "metadata": {},
   "source": [
    "As stated above, the <code>Tag</code> object is a tree of objects. We can access the child of the tag or navigate down the branch as follows:\n"
   ]
  },
  {
   "cell_type": "code",
   "execution_count": 11,
   "metadata": {},
   "outputs": [
    {
     "data": {
      "text/plain": [
       "<b id=\"boldest\">Lebron James</b>"
      ]
     },
     "execution_count": 11,
     "metadata": {},
     "output_type": "execute_result"
    }
   ],
   "source": [
    "tag_child =tag_object.b\n",
    "tag_child"
   ]
  },
  {
   "cell_type": "markdown",
   "metadata": {},
   "source": [
    "You can access the parent with the <code> parent</code>\n"
   ]
  },
  {
   "cell_type": "code",
   "execution_count": 12,
   "metadata": {},
   "outputs": [
    {
     "data": {
      "text/plain": [
       "<h3><b id=\"boldest\">Lebron James</b></h3>"
      ]
     },
     "execution_count": 12,
     "metadata": {},
     "output_type": "execute_result"
    }
   ],
   "source": [
    "parent_tag=tag_child.parent\n",
    "parent_tag"
   ]
  },
  {
   "cell_type": "markdown",
   "metadata": {},
   "source": [
    "this is identical to: \n"
   ]
  },
  {
   "cell_type": "code",
   "execution_count": 13,
   "metadata": {},
   "outputs": [
    {
     "data": {
      "text/plain": [
       "<h3><b id=\"boldest\">Lebron James</b></h3>"
      ]
     },
     "execution_count": 13,
     "metadata": {},
     "output_type": "execute_result"
    }
   ],
   "source": [
    "tag_object"
   ]
  },
  {
   "cell_type": "markdown",
   "metadata": {},
   "source": [
    "<code>tag_object</code> parent is the <code>body</code> element.\n"
   ]
  },
  {
   "cell_type": "code",
   "execution_count": 14,
   "metadata": {},
   "outputs": [
    {
     "data": {
      "text/plain": [
       "<body><h3><b id=\"boldest\">Lebron James</b></h3><p> Salary: $ 92,000,000 </p><h3> Stephen Curry</h3><p> Salary: $85,000, 000 </p><h3> Kevin Durant </h3><p> Salary: $73,200, 000</p></body>"
      ]
     },
     "execution_count": 14,
     "metadata": {},
     "output_type": "execute_result"
    }
   ],
   "source": [
    "tag_object.parent"
   ]
  },
  {
   "cell_type": "markdown",
   "metadata": {},
   "source": [
    "<code>tag_object</code> sibling is the <code>paragraph</code> element\n"
   ]
  },
  {
   "cell_type": "code",
   "execution_count": 15,
   "metadata": {},
   "outputs": [
    {
     "data": {
      "text/plain": [
       "<p> Salary: $ 92,000,000 </p>"
      ]
     },
     "execution_count": 15,
     "metadata": {},
     "output_type": "execute_result"
    }
   ],
   "source": [
    "sibling_1=tag_object.next_sibling\n",
    "sibling_1"
   ]
  },
  {
   "cell_type": "markdown",
   "metadata": {},
   "source": [
    "`sibling_2` is the `header` element, which is also a sibling of both `sibling_1` and `tag_object`\n"
   ]
  },
  {
   "cell_type": "code",
   "execution_count": 16,
   "metadata": {},
   "outputs": [
    {
     "data": {
      "text/plain": [
       "<h3> Stephen Curry</h3>"
      ]
     },
     "execution_count": 16,
     "metadata": {},
     "output_type": "execute_result"
    }
   ],
   "source": [
    "sibling_2=sibling_1.next_sibling\n",
    "sibling_2"
   ]
  },
  {
   "cell_type": "markdown",
   "metadata": {},
   "source": [
    "<h3 id=\"first_question\">Exercise: <code>next_sibling</code></h3>\n"
   ]
  },
  {
   "cell_type": "markdown",
   "metadata": {},
   "source": [
    "Use the object <code>sibling_2</code> and the method <code>next_sibling</code> to find the salary of Stephen Curry:\n"
   ]
  },
  {
   "cell_type": "code",
   "execution_count": 17,
   "metadata": {},
   "outputs": [
    {
     "data": {
      "text/plain": [
       "<p> Salary: $85,000, 000 </p>"
      ]
     },
     "execution_count": 17,
     "metadata": {},
     "output_type": "execute_result"
    }
   ],
   "source": [
    "salary=sibling_2.next_sibling\n",
    "salary"
   ]
  },
  {
   "cell_type": "markdown",
   "metadata": {},
   "source": [
    "<details><summary>Click here for the solution</summary>\n",
    "\n",
    "```\n",
    "sibling_2.next_sibling\n",
    "\n",
    "```\n",
    "\n",
    "</details>\n"
   ]
  },
  {
   "cell_type": "markdown",
   "metadata": {},
   "source": [
    "### HTML Attributes\n"
   ]
  },
  {
   "cell_type": "markdown",
   "metadata": {},
   "source": [
    "If the tag has attributes, the tag <code>id=\"boldest\"</code> has an attribute <code>id</code> whose value is <code>boldest</code>. You can access a tag’s attributes by treating the tag like a dictionary:\n"
   ]
  },
  {
   "cell_type": "code",
   "execution_count": 18,
   "metadata": {},
   "outputs": [
    {
     "data": {
      "text/plain": [
       "'boldest'"
      ]
     },
     "execution_count": 18,
     "metadata": {},
     "output_type": "execute_result"
    }
   ],
   "source": [
    "tag_child['id']"
   ]
  },
  {
   "cell_type": "markdown",
   "metadata": {},
   "source": [
    "You can access that dictionary directly as <code>attrs</code>:\n"
   ]
  },
  {
   "cell_type": "code",
   "execution_count": 19,
   "metadata": {},
   "outputs": [
    {
     "data": {
      "text/plain": [
       "{'id': 'boldest'}"
      ]
     },
     "execution_count": 19,
     "metadata": {},
     "output_type": "execute_result"
    }
   ],
   "source": [
    "tag_child.attrs"
   ]
  },
  {
   "cell_type": "markdown",
   "metadata": {},
   "source": [
    "You can also work with Multi-valued attributes. Check out <a href=\"https://www.crummy.com/software/BeautifulSoup/bs4/doc/\">[1]</a> for more.\n"
   ]
  },
  {
   "cell_type": "markdown",
   "metadata": {},
   "source": [
    "We can also obtain the content of the attribute of the <code>tag</code> using the Python <code>get()</code> method.\n"
   ]
  },
  {
   "cell_type": "code",
   "execution_count": 20,
   "metadata": {},
   "outputs": [
    {
     "data": {
      "text/plain": [
       "'boldest'"
      ]
     },
     "execution_count": 20,
     "metadata": {},
     "output_type": "execute_result"
    }
   ],
   "source": [
    "tag_child.get('id')"
   ]
  },
  {
   "cell_type": "markdown",
   "metadata": {},
   "source": [
    "### Navigable String\n"
   ]
  },
  {
   "cell_type": "markdown",
   "metadata": {},
   "source": [
    "A string corresponds to a bit of text or content within a tag. Beautiful Soup uses the <code>NavigableString</code> class to contain this text. In our HTML we can obtain the name of the first player by extracting the string of the <code>Tag</code> object <code>tag_child</code> as follows:\n"
   ]
  },
  {
   "cell_type": "code",
   "execution_count": 21,
   "metadata": {},
   "outputs": [
    {
     "data": {
      "text/plain": [
       "'Lebron James'"
      ]
     },
     "execution_count": 21,
     "metadata": {},
     "output_type": "execute_result"
    }
   ],
   "source": [
    "tag_string=tag_child.string\n",
    "tag_string"
   ]
  },
  {
   "cell_type": "markdown",
   "metadata": {},
   "source": [
    "we can verify the type is Navigable String\n"
   ]
  },
  {
   "cell_type": "code",
   "execution_count": 22,
   "metadata": {},
   "outputs": [
    {
     "data": {
      "text/plain": [
       "bs4.element.NavigableString"
      ]
     },
     "execution_count": 22,
     "metadata": {},
     "output_type": "execute_result"
    }
   ],
   "source": [
    "type(tag_string)"
   ]
  },
  {
   "cell_type": "markdown",
   "metadata": {},
   "source": [
    "A NavigableString is similar to a Python string or Unicode string. To be more precise, the main difference is that it also supports some <code>BeautifulSoup</code> features. We can convert it to string object in Python:\n"
   ]
  },
  {
   "cell_type": "code",
   "execution_count": 23,
   "metadata": {},
   "outputs": [
    {
     "data": {
      "text/plain": [
       "'Lebron James'"
      ]
     },
     "execution_count": 23,
     "metadata": {},
     "output_type": "execute_result"
    }
   ],
   "source": [
    "unicode_string = str(tag_string)\n",
    "unicode_string"
   ]
  },
  {
   "cell_type": "markdown",
   "metadata": {},
   "source": [
    "<h2 id=\"filter\">Filter</h2>\n"
   ]
  },
  {
   "cell_type": "markdown",
   "metadata": {},
   "source": [
    "Filters allow you to find complex patterns, the simplest filter is a string. In this section we will pass a string to a different filter method and Beautiful Soup will perform a match against that exact string. Consider the following HTML of rocket launches:\n"
   ]
  },
  {
   "cell_type": "code",
   "execution_count": 24,
   "metadata": {},
   "outputs": [
    {
     "data": {
      "text/html": [
       "<table>\n",
       "  <tr>\n",
       "    <td id='flight' >Flight No</td>\n",
       "    <td>Launch site</td> \n",
       "    <td>Payload mass</td>\n",
       "   </tr>\n",
       "  <tr> \n",
       "    <td>1</td>\n",
       "    <td><a href='https://en.wikipedia.org/wiki/Florida'>Florida</a></td>\n",
       "    <td>300 kg</td>\n",
       "  </tr>\n",
       "  <tr>\n",
       "    <td>2</td>\n",
       "    <td><a href='https://en.wikipedia.org/wiki/Texas'>Texas</a></td>\n",
       "    <td>94 kg</td>\n",
       "  </tr>\n",
       "  <tr>\n",
       "    <td>3</td>\n",
       "    <td><a href='https://en.wikipedia.org/wiki/Florida'>Florida<a> </td>\n",
       "    <td>80 kg</td>\n",
       "  </tr>\n",
       "</table>\n"
      ],
      "text/plain": [
       "<IPython.core.display.HTML object>"
      ]
     },
     "metadata": {},
     "output_type": "display_data"
    }
   ],
   "source": [
    "%%html\n",
    "<table>\n",
    "  <tr>\n",
    "    <td id='flight' >Flight No</td>\n",
    "    <td>Launch site</td> \n",
    "    <td>Payload mass</td>\n",
    "   </tr>\n",
    "  <tr> \n",
    "    <td>1</td>\n",
    "    <td><a href='https://en.wikipedia.org/wiki/Florida'>Florida</a></td>\n",
    "    <td>300 kg</td>\n",
    "  </tr>\n",
    "  <tr>\n",
    "    <td>2</td>\n",
    "    <td><a href='https://en.wikipedia.org/wiki/Texas'>Texas</a></td>\n",
    "    <td>94 kg</td>\n",
    "  </tr>\n",
    "  <tr>\n",
    "    <td>3</td>\n",
    "    <td><a href='https://en.wikipedia.org/wiki/Florida'>Florida<a> </td>\n",
    "    <td>80 kg</td>\n",
    "  </tr>\n",
    "</table>"
   ]
  },
  {
   "cell_type": "markdown",
   "metadata": {},
   "source": [
    "We can store it as a string in the variable <code>table</code>:\n"
   ]
  },
  {
   "cell_type": "code",
   "execution_count": 25,
   "metadata": {},
   "outputs": [],
   "source": [
    "table=\"<table><tr><td id='flight'>Flight No</td><td>Launch site</td> <td>Payload mass</td></tr><tr> <td>1</td><td><a href='https://en.wikipedia.org/wiki/Florida'>Florida<a></td><td>300 kg</td></tr><tr><td>2</td><td><a href='https://en.wikipedia.org/wiki/Texas'>Texas</a></td><td>94 kg</td></tr><tr><td>3</td><td><a href='https://en.wikipedia.org/wiki/Florida'>Florida<a> </td><td>80 kg</td></tr></table>\""
   ]
  },
  {
   "cell_type": "code",
   "execution_count": 28,
   "metadata": {},
   "outputs": [
    {
     "name": "stdout",
     "output_type": "stream",
     "text": [
      "<table>\n",
      " <tr>\n",
      "  <td id=\"flight\">\n",
      "   Flight No\n",
      "  </td>\n",
      "  <td>\n",
      "   Launch site\n",
      "  </td>\n",
      "  <td>\n",
      "   Payload mass\n",
      "  </td>\n",
      " </tr>\n",
      " <tr>\n",
      "  <td>\n",
      "   1\n",
      "  </td>\n",
      "  <td>\n",
      "   <a href=\"https://en.wikipedia.org/wiki/Florida\">\n",
      "    Florida\n",
      "    <a>\n",
      "    </a>\n",
      "   </a>\n",
      "  </td>\n",
      "  <td>\n",
      "   300 kg\n",
      "  </td>\n",
      " </tr>\n",
      " <tr>\n",
      "  <td>\n",
      "   2\n",
      "  </td>\n",
      "  <td>\n",
      "   <a href=\"https://en.wikipedia.org/wiki/Texas\">\n",
      "    Texas\n",
      "   </a>\n",
      "  </td>\n",
      "  <td>\n",
      "   94 kg\n",
      "  </td>\n",
      " </tr>\n",
      " <tr>\n",
      "  <td>\n",
      "   3\n",
      "  </td>\n",
      "  <td>\n",
      "   <a href=\"https://en.wikipedia.org/wiki/Florida\">\n",
      "    Florida\n",
      "    <a>\n",
      "    </a>\n",
      "   </a>\n",
      "  </td>\n",
      "  <td>\n",
      "   80 kg\n",
      "  </td>\n",
      " </tr>\n",
      "</table>\n",
      "\n"
     ]
    }
   ],
   "source": [
    "table_bs = BeautifulSoup(table, 'html.parser')\n",
    "print(table_bs.prettify())"
   ]
  },
  {
   "cell_type": "markdown",
   "metadata": {},
   "source": [
    "## find All\n"
   ]
  },
  {
   "cell_type": "markdown",
   "metadata": {},
   "source": [
    "The <code>find_all()</code> method looks through a tag’s descendants and retrieves all descendants that match your filters. \n",
    "\n",
    "<p>\n",
    "The Method signature for <code>find_all(name, attrs, recursive, string, limit, **kwargs)<c/ode>\n",
    "</p>\n",
    " \n"
   ]
  },
  {
   "cell_type": "markdown",
   "metadata": {},
   "source": [
    "### Name\n"
   ]
  },
  {
   "cell_type": "markdown",
   "metadata": {},
   "source": [
    "When we set the <code>name</code> parameter to a tag name, the method will extract all the tags with that name and its children.\n"
   ]
  },
  {
   "cell_type": "code",
   "execution_count": 29,
   "metadata": {},
   "outputs": [
    {
     "data": {
      "text/plain": [
       "[<tr><td id=\"flight\">Flight No</td><td>Launch site</td> <td>Payload mass</td></tr>,\n",
       " <tr> <td>1</td><td><a href=\"https://en.wikipedia.org/wiki/Florida\">Florida<a></a></a></td><td>300 kg</td></tr>,\n",
       " <tr><td>2</td><td><a href=\"https://en.wikipedia.org/wiki/Texas\">Texas</a></td><td>94 kg</td></tr>,\n",
       " <tr><td>3</td><td><a href=\"https://en.wikipedia.org/wiki/Florida\">Florida<a> </a></a></td><td>80 kg</td></tr>]"
      ]
     },
     "execution_count": 29,
     "metadata": {},
     "output_type": "execute_result"
    }
   ],
   "source": [
    "table_rows=table_bs.find_all('tr')\n",
    "table_rows"
   ]
  },
  {
   "cell_type": "markdown",
   "metadata": {},
   "source": [
    "The result is a Python Iterable just like a list, each element is a <code>tag</code> object:\n"
   ]
  },
  {
   "cell_type": "code",
   "execution_count": 30,
   "metadata": {},
   "outputs": [
    {
     "data": {
      "text/plain": [
       "<tr><td id=\"flight\">Flight No</td><td>Launch site</td> <td>Payload mass</td></tr>"
      ]
     },
     "execution_count": 30,
     "metadata": {},
     "output_type": "execute_result"
    }
   ],
   "source": [
    "first_row =table_rows[0]\n",
    "first_row"
   ]
  },
  {
   "cell_type": "markdown",
   "metadata": {},
   "source": [
    "The type is <code>tag</code>\n"
   ]
  },
  {
   "cell_type": "code",
   "execution_count": 31,
   "metadata": {},
   "outputs": [
    {
     "name": "stdout",
     "output_type": "stream",
     "text": [
      "<class 'bs4.element.Tag'>\n"
     ]
    }
   ],
   "source": [
    "print(type(first_row))"
   ]
  },
  {
   "cell_type": "markdown",
   "metadata": {},
   "source": [
    "we can obtain the child \n"
   ]
  },
  {
   "cell_type": "code",
   "execution_count": 32,
   "metadata": {},
   "outputs": [
    {
     "data": {
      "text/plain": [
       "<td id=\"flight\">Flight No</td>"
      ]
     },
     "execution_count": 32,
     "metadata": {},
     "output_type": "execute_result"
    }
   ],
   "source": [
    "first_row.td"
   ]
  },
  {
   "cell_type": "markdown",
   "metadata": {},
   "source": [
    "If we iterate through the list, each element corresponds to a row in the table:\n"
   ]
  },
  {
   "cell_type": "code",
   "execution_count": 33,
   "metadata": {},
   "outputs": [
    {
     "name": "stdout",
     "output_type": "stream",
     "text": [
      "row 0 is <tr><td id=\"flight\">Flight No</td><td>Launch site</td> <td>Payload mass</td></tr>\n",
      "row 1 is <tr> <td>1</td><td><a href=\"https://en.wikipedia.org/wiki/Florida\">Florida<a></a></a></td><td>300 kg</td></tr>\n",
      "row 2 is <tr><td>2</td><td><a href=\"https://en.wikipedia.org/wiki/Texas\">Texas</a></td><td>94 kg</td></tr>\n",
      "row 3 is <tr><td>3</td><td><a href=\"https://en.wikipedia.org/wiki/Florida\">Florida<a> </a></a></td><td>80 kg</td></tr>\n"
     ]
    }
   ],
   "source": [
    "for i,row in enumerate(table_rows):\n",
    "    print(\"row\",i,\"is\",row)\n",
    "    "
   ]
  },
  {
   "cell_type": "markdown",
   "metadata": {},
   "source": [
    "As <code>row</code> is a <code>cell</code> object, we can apply the method <code>find_all</code> to it and extract table cells in the object <code>cells</code> using the tag <code>td</code>, this is all the children with the name <code>td</code>. The result is a list, each element corresponds to a cell and is a <code>Tag</code> object, we can iterate through this list as well. We can extract the content using the <code>string</code> attribute.\n"
   ]
  },
  {
   "cell_type": "code",
   "execution_count": 34,
   "metadata": {},
   "outputs": [
    {
     "name": "stdout",
     "output_type": "stream",
     "text": [
      "row 0\n",
      "colunm 0 cell <td id=\"flight\">Flight No</td>\n",
      "colunm 1 cell <td>Launch site</td>\n",
      "colunm 2 cell <td>Payload mass</td>\n",
      "row 1\n",
      "colunm 0 cell <td>1</td>\n",
      "colunm 1 cell <td><a href=\"https://en.wikipedia.org/wiki/Florida\">Florida<a></a></a></td>\n",
      "colunm 2 cell <td>300 kg</td>\n",
      "row 2\n",
      "colunm 0 cell <td>2</td>\n",
      "colunm 1 cell <td><a href=\"https://en.wikipedia.org/wiki/Texas\">Texas</a></td>\n",
      "colunm 2 cell <td>94 kg</td>\n",
      "row 3\n",
      "colunm 0 cell <td>3</td>\n",
      "colunm 1 cell <td><a href=\"https://en.wikipedia.org/wiki/Florida\">Florida<a> </a></a></td>\n",
      "colunm 2 cell <td>80 kg</td>\n"
     ]
    }
   ],
   "source": [
    "for i,row in enumerate(table_rows):\n",
    "    print(\"row\",i)\n",
    "    cells=row.find_all('td')\n",
    "    for j,cell in enumerate(cells):\n",
    "        print('colunm',j,\"cell\",cell)"
   ]
  },
  {
   "cell_type": "markdown",
   "metadata": {},
   "source": [
    "If we use a list we can match against any item in that list.\n"
   ]
  },
  {
   "cell_type": "code",
   "execution_count": 35,
   "metadata": {},
   "outputs": [
    {
     "data": {
      "text/plain": [
       "[<tr><td id=\"flight\">Flight No</td><td>Launch site</td> <td>Payload mass</td></tr>,\n",
       " <td id=\"flight\">Flight No</td>,\n",
       " <td>Launch site</td>,\n",
       " <td>Payload mass</td>,\n",
       " <tr> <td>1</td><td><a href=\"https://en.wikipedia.org/wiki/Florida\">Florida<a></a></a></td><td>300 kg</td></tr>,\n",
       " <td>1</td>,\n",
       " <td><a href=\"https://en.wikipedia.org/wiki/Florida\">Florida<a></a></a></td>,\n",
       " <td>300 kg</td>,\n",
       " <tr><td>2</td><td><a href=\"https://en.wikipedia.org/wiki/Texas\">Texas</a></td><td>94 kg</td></tr>,\n",
       " <td>2</td>,\n",
       " <td><a href=\"https://en.wikipedia.org/wiki/Texas\">Texas</a></td>,\n",
       " <td>94 kg</td>,\n",
       " <tr><td>3</td><td><a href=\"https://en.wikipedia.org/wiki/Florida\">Florida<a> </a></a></td><td>80 kg</td></tr>,\n",
       " <td>3</td>,\n",
       " <td><a href=\"https://en.wikipedia.org/wiki/Florida\">Florida<a> </a></a></td>,\n",
       " <td>80 kg</td>]"
      ]
     },
     "execution_count": 35,
     "metadata": {},
     "output_type": "execute_result"
    }
   ],
   "source": [
    "list_input=table_bs .find_all(name=[\"tr\", \"td\"])\n",
    "list_input"
   ]
  },
  {
   "cell_type": "markdown",
   "metadata": {},
   "source": [
    "## Attributes \n"
   ]
  },
  {
   "cell_type": "markdown",
   "metadata": {},
   "source": [
    "If the argument is not recognized it will be turned into a filter on the tag’s attributes. For example with the <code>id</code> argument, Beautiful Soup will filter against each tag’s <code>id</code> attribute. For example, the first <code>td</code> elements have a value of <code>id</code> of <code>flight</code>, therefore we can filter based on that <code>id</code> value. \n"
   ]
  },
  {
   "cell_type": "code",
   "execution_count": 36,
   "metadata": {},
   "outputs": [
    {
     "data": {
      "text/plain": [
       "[<td id=\"flight\">Flight No</td>]"
      ]
     },
     "execution_count": 36,
     "metadata": {},
     "output_type": "execute_result"
    }
   ],
   "source": [
    "table_bs.find_all(id=\"flight\")"
   ]
  },
  {
   "cell_type": "markdown",
   "metadata": {},
   "source": [
    "We can find all the elements that have links to the Florida Wikipedia page:\n"
   ]
  },
  {
   "cell_type": "code",
   "execution_count": 37,
   "metadata": {},
   "outputs": [
    {
     "data": {
      "text/plain": [
       "[<a href=\"https://en.wikipedia.org/wiki/Florida\">Florida<a></a></a>,\n",
       " <a href=\"https://en.wikipedia.org/wiki/Florida\">Florida<a> </a></a>]"
      ]
     },
     "execution_count": 37,
     "metadata": {},
     "output_type": "execute_result"
    }
   ],
   "source": [
    "list_input=table_bs.find_all(href=\"https://en.wikipedia.org/wiki/Florida\")\n",
    "list_input"
   ]
  },
  {
   "cell_type": "markdown",
   "metadata": {},
   "source": [
    "If we set the <code>href</code> attribute to True, regardless of what the value is, the code finds all tags with <code>href</code> value:\n"
   ]
  },
  {
   "cell_type": "code",
   "execution_count": 38,
   "metadata": {},
   "outputs": [
    {
     "data": {
      "text/plain": [
       "[<a href=\"https://en.wikipedia.org/wiki/Florida\">Florida<a></a></a>,\n",
       " <a href=\"https://en.wikipedia.org/wiki/Texas\">Texas</a>,\n",
       " <a href=\"https://en.wikipedia.org/wiki/Florida\">Florida<a> </a></a>]"
      ]
     },
     "execution_count": 38,
     "metadata": {},
     "output_type": "execute_result"
    }
   ],
   "source": [
    "table_bs.find_all(href=True)"
   ]
  },
  {
   "cell_type": "markdown",
   "metadata": {},
   "source": [
    "There are other methods for dealing with attributes and other related methods. Check out the following <a href='https://www.crummy.com/software/BeautifulSoup/bs4/doc/#css-selectors'>link</a>\n"
   ]
  },
  {
   "cell_type": "markdown",
   "metadata": {},
   "source": [
    "<h3 id=\"exer_type\">Exercise: <code>find_all</code></h3>\n"
   ]
  },
  {
   "cell_type": "markdown",
   "metadata": {},
   "source": [
    "Find all the `<a>` tags without <code>href</code> value \n"
   ]
  },
  {
   "cell_type": "code",
   "execution_count": 40,
   "metadata": {},
   "outputs": [
    {
     "data": {
      "text/plain": [
       "[<a></a>, <a> </a>]"
      ]
     },
     "execution_count": 40,
     "metadata": {},
     "output_type": "execute_result"
    }
   ],
   "source": [
    "table_bs.find_all(lambda tag: tag.name == \"a\" and not tag.has_attr(\"href\"))\n"
   ]
  },
  {
   "cell_type": "code",
   "execution_count": 52,
   "metadata": {},
   "outputs": [
    {
     "name": "stdout",
     "output_type": "stream",
     "text": [
      "0\n"
     ]
    }
   ],
   "source": [
    "for i in table_bs:\n",
    "    if i.name=='a' and not i.has_attr(\"href\"):\n",
    "        print(i)\n",
    "    else:\n",
    "        print(\"0\")"
   ]
  },
  {
   "cell_type": "code",
   "execution_count": 48,
   "metadata": {},
   "outputs": [
    {
     "data": {
      "text/plain": [
       "[<a></a>, <a> </a>]"
      ]
     },
     "execution_count": 48,
     "metadata": {},
     "output_type": "execute_result"
    }
   ],
   "source": [
    "table_bs.find_all(lambda x: x.name == \"a\" and not x.has_attr(\"href\"))"
   ]
  },
  {
   "cell_type": "code",
   "execution_count": 42,
   "metadata": {},
   "outputs": [
    {
     "data": {
      "text/plain": [
       "[<a></a>, <a> </a>]"
      ]
     },
     "execution_count": 42,
     "metadata": {},
     "output_type": "execute_result"
    }
   ],
   "source": [
    "table_bs.find_all(lambda x: x.name=='a' and not x.has_attr(\"href\"))"
   ]
  },
  {
   "cell_type": "markdown",
   "metadata": {},
   "source": [
    "<details><summary>Click here for the solution</summary>\n",
    "\n",
    "```\n",
    "table_bs.find_all(lambda tag: tag.name == \"a\" and not tag.has_attr(\"href\"))\n",
    "\n",
    "```\n",
    "\n",
    "</details>\n"
   ]
  },
  {
   "cell_type": "markdown",
   "metadata": {},
   "source": [
    "Find all the elements that do not contain any links\n"
   ]
  },
  {
   "cell_type": "code",
   "execution_count": 56,
   "metadata": {},
   "outputs": [
    {
     "data": {
      "text/plain": [
       "[<tr><td id=\"flight\">Flight No</td><td>Launch site</td> <td>Payload mass</td></tr>,\n",
       " <td id=\"flight\">Flight No</td>,\n",
       " <td>Launch site</td>,\n",
       " <td>Payload mass</td>,\n",
       " <td>1</td>,\n",
       " <td>300 kg</td>,\n",
       " <td>2</td>,\n",
       " <td>94 kg</td>,\n",
       " <td>3</td>,\n",
       " <td>80 kg</td>]"
      ]
     },
     "execution_count": 56,
     "metadata": {},
     "output_type": "execute_result"
    }
   ],
   "source": [
    "table_bs.find_all(lambda x: x.name !='a' and not x.find(\"a\"))"
   ]
  },
  {
   "cell_type": "markdown",
   "metadata": {},
   "source": [
    "<details><summary>Click here for the solution</summary>\n",
    "\n",
    "```\n",
    "table_bs.find_all(lambda tag: tag.name != \"a\" and not tag.find('a'))\n",
    "\n",
    "```\n",
    "\n",
    "</details>\n"
   ]
  },
  {
   "cell_type": "markdown",
   "metadata": {},
   "source": [
    "Using the soup object <code>soup</code>, find the element with the <code>id</code> attribute content set to <code>\"boldest\"</code>. \n"
   ]
  },
  {
   "cell_type": "code",
   "execution_count": 59,
   "metadata": {},
   "outputs": [
    {
     "data": {
      "text/plain": [
       "<b id=\"boldest\">Lebron James</b>"
      ]
     },
     "execution_count": 59,
     "metadata": {},
     "output_type": "execute_result"
    }
   ],
   "source": [
    "soup.find(id=\"boldest\")"
   ]
  },
  {
   "cell_type": "markdown",
   "metadata": {},
   "source": [
    "<details><summary>Click here for the solution</summary>\n",
    "\n",
    "```\n",
    "soup.find_all(id=\"boldest\")\n",
    "\n",
    "```\n",
    "\n",
    "</details>\n"
   ]
  },
  {
   "cell_type": "markdown",
   "metadata": {},
   "source": [
    "### string\n"
   ]
  },
  {
   "cell_type": "markdown",
   "metadata": {},
   "source": [
    "With string you can search for strings instead of tags, where we find all the elments with Florida:\n"
   ]
  },
  {
   "cell_type": "code",
   "execution_count": 62,
   "metadata": {},
   "outputs": [
    {
     "data": {
      "text/plain": [
       "['Florida', 'Florida']"
      ]
     },
     "execution_count": 62,
     "metadata": {},
     "output_type": "execute_result"
    }
   ],
   "source": [
    "table_bs.find_all(string=\"Florida\")"
   ]
  },
  {
   "cell_type": "markdown",
   "metadata": {},
   "source": [
    "## find\n"
   ]
  },
  {
   "cell_type": "markdown",
   "metadata": {},
   "source": [
    "The <code>find_all()</code> method scans the entire document looking for results. It’s useful if you are looking for one element, as you can use the <code>find()</code> method to find the first element in the document. Consider the following two tables:\n"
   ]
  },
  {
   "cell_type": "code",
   "execution_count": 63,
   "metadata": {},
   "outputs": [
    {
     "data": {
      "text/html": [
       "<h3>Rocket Launch </h3>\n",
       "\n",
       "<p>\n",
       "<table class='rocket'>\n",
       "  <tr>\n",
       "    <td>Flight No</td>\n",
       "    <td>Launch site</td> \n",
       "    <td>Payload mass</td>\n",
       "  </tr>\n",
       "  <tr>\n",
       "    <td>1</td>\n",
       "    <td>Florida</td>\n",
       "    <td>300 kg</td>\n",
       "  </tr>\n",
       "  <tr>\n",
       "    <td>2</td>\n",
       "    <td>Texas</td>\n",
       "    <td>94 kg</td>\n",
       "  </tr>\n",
       "  <tr>\n",
       "    <td>3</td>\n",
       "    <td>Florida </td>\n",
       "    <td>80 kg</td>\n",
       "  </tr>\n",
       "</table>\n",
       "</p>\n",
       "<p>\n",
       "\n",
       "<h3>Pizza Party  </h3>\n",
       "  \n",
       "    \n",
       "<table class='pizza'>\n",
       "  <tr>\n",
       "    <td>Pizza Place</td>\n",
       "    <td>Orders</td> \n",
       "    <td>Slices </td>\n",
       "   </tr>\n",
       "  <tr>\n",
       "    <td>Domino's Pizza</td>\n",
       "    <td>10</td>\n",
       "    <td>100</td>\n",
       "  </tr>\n",
       "  <tr>\n",
       "    <td>Little Caesars</td>\n",
       "    <td>12</td>\n",
       "    <td >144 </td>\n",
       "  </tr>\n",
       "  <tr>\n",
       "    <td>Papa John's </td>\n",
       "    <td>15 </td>\n",
       "    <td>165</td>\n",
       "  </tr>\n"
      ],
      "text/plain": [
       "<IPython.core.display.HTML object>"
      ]
     },
     "metadata": {},
     "output_type": "display_data"
    }
   ],
   "source": [
    "%%html\n",
    "<h3>Rocket Launch </h3>\n",
    "\n",
    "<p>\n",
    "<table class='rocket'>\n",
    "  <tr>\n",
    "    <td>Flight No</td>\n",
    "    <td>Launch site</td> \n",
    "    <td>Payload mass</td>\n",
    "  </tr>\n",
    "  <tr>\n",
    "    <td>1</td>\n",
    "    <td>Florida</td>\n",
    "    <td>300 kg</td>\n",
    "  </tr>\n",
    "  <tr>\n",
    "    <td>2</td>\n",
    "    <td>Texas</td>\n",
    "    <td>94 kg</td>\n",
    "  </tr>\n",
    "  <tr>\n",
    "    <td>3</td>\n",
    "    <td>Florida </td>\n",
    "    <td>80 kg</td>\n",
    "  </tr>\n",
    "</table>\n",
    "</p>\n",
    "<p>\n",
    "\n",
    "<h3>Pizza Party  </h3>\n",
    "  \n",
    "    \n",
    "<table class='pizza'>\n",
    "  <tr>\n",
    "    <td>Pizza Place</td>\n",
    "    <td>Orders</td> \n",
    "    <td>Slices </td>\n",
    "   </tr>\n",
    "  <tr>\n",
    "    <td>Domino's Pizza</td>\n",
    "    <td>10</td>\n",
    "    <td>100</td>\n",
    "  </tr>\n",
    "  <tr>\n",
    "    <td>Little Caesars</td>\n",
    "    <td>12</td>\n",
    "    <td >144 </td>\n",
    "  </tr>\n",
    "  <tr>\n",
    "    <td>Papa John's </td>\n",
    "    <td>15 </td>\n",
    "    <td>165</td>\n",
    "  </tr>\n"
   ]
  },
  {
   "cell_type": "markdown",
   "metadata": {},
   "source": [
    "We store the HTML as a Python string and assign <code>two_tables</code>:\n"
   ]
  },
  {
   "cell_type": "code",
   "execution_count": 64,
   "metadata": {},
   "outputs": [],
   "source": [
    "two_tables=\"<h3>Rocket Launch </h3><p><table class='rocket'><tr><td>Flight No</td><td>Launch site</td> <td>Payload mass</td></tr><tr><td>1</td><td>Florida</td><td>300 kg</td></tr><tr><td>2</td><td>Texas</td><td>94 kg</td></tr><tr><td>3</td><td>Florida </td><td>80 kg</td></tr></table></p><p><h3>Pizza Party  </h3><table class='pizza'><tr><td>Pizza Place</td><td>Orders</td> <td>Slices </td></tr><tr><td>Domino's Pizza</td><td>10</td><td>100</td></tr><tr><td>Little Caesars</td><td>12</td><td >144 </td></tr><tr><td>Papa John's </td><td>15 </td><td>165</td></tr>\""
   ]
  },
  {
   "cell_type": "markdown",
   "metadata": {},
   "source": [
    "We create a <code>BeautifulSoup</code> object  <code>two_tables_bs</code>\n"
   ]
  },
  {
   "cell_type": "code",
   "execution_count": 65,
   "metadata": {},
   "outputs": [],
   "source": [
    "two_tables_bs= BeautifulSoup(two_tables, 'html.parser')"
   ]
  },
  {
   "cell_type": "markdown",
   "metadata": {},
   "source": [
    "We can find the first table using the tag name table\n"
   ]
  },
  {
   "cell_type": "code",
   "execution_count": 66,
   "metadata": {},
   "outputs": [
    {
     "data": {
      "text/plain": [
       "<table class=\"rocket\"><tr><td>Flight No</td><td>Launch site</td> <td>Payload mass</td></tr><tr><td>1</td><td>Florida</td><td>300 kg</td></tr><tr><td>2</td><td>Texas</td><td>94 kg</td></tr><tr><td>3</td><td>Florida </td><td>80 kg</td></tr></table>"
      ]
     },
     "execution_count": 66,
     "metadata": {},
     "output_type": "execute_result"
    }
   ],
   "source": [
    "two_tables_bs.find(\"table\")"
   ]
  },
  {
   "cell_type": "markdown",
   "metadata": {},
   "source": [
    "We can filter on the class attribute to find the second table, but because class is a keyword in Python, we add an underscore to differentiate them.\n"
   ]
  },
  {
   "cell_type": "code",
   "execution_count": 70,
   "metadata": {},
   "outputs": [
    {
     "name": "stdout",
     "output_type": "stream",
     "text": [
      "<table class=\"pizza\">\n",
      " <tr>\n",
      "  <td>\n",
      "   Pizza Place\n",
      "  </td>\n",
      "  <td>\n",
      "   Orders\n",
      "  </td>\n",
      "  <td>\n",
      "   Slices\n",
      "  </td>\n",
      " </tr>\n",
      " <tr>\n",
      "  <td>\n",
      "   Domino's Pizza\n",
      "  </td>\n",
      "  <td>\n",
      "   10\n",
      "  </td>\n",
      "  <td>\n",
      "   100\n",
      "  </td>\n",
      " </tr>\n",
      " <tr>\n",
      "  <td>\n",
      "   Little Caesars\n",
      "  </td>\n",
      "  <td>\n",
      "   12\n",
      "  </td>\n",
      "  <td>\n",
      "   144\n",
      "  </td>\n",
      " </tr>\n",
      " <tr>\n",
      "  <td>\n",
      "   Papa John's\n",
      "  </td>\n",
      "  <td>\n",
      "   15\n",
      "  </td>\n",
      "  <td>\n",
      "   165\n",
      "  </td>\n",
      " </tr>\n",
      "</table>\n",
      "\n"
     ]
    }
   ],
   "source": [
    "print(two_tables_bs.find(\"table\",class_='pizza').prettify())"
   ]
  },
  {
   "cell_type": "markdown",
   "metadata": {},
   "source": [
    "<h2 id=\"DSCW\">Downloading And Scraping The Contents Of A Web Page</h2> \n"
   ]
  },
  {
   "cell_type": "markdown",
   "metadata": {},
   "source": [
    "We Download the contents of the web page:\n"
   ]
  },
  {
   "cell_type": "code",
   "execution_count": 71,
   "metadata": {},
   "outputs": [],
   "source": [
    "url = \"http://www.ibm.com\""
   ]
  },
  {
   "cell_type": "markdown",
   "metadata": {},
   "source": [
    "We use <code>get</code> to download the contents of the webpage in text format and store in a variable called <code>data</code>:\n"
   ]
  },
  {
   "cell_type": "code",
   "execution_count": 72,
   "metadata": {},
   "outputs": [],
   "source": [
    "data  = requests.get(url).text "
   ]
  },
  {
   "cell_type": "code",
   "execution_count": 73,
   "metadata": {},
   "outputs": [
    {
     "data": {
      "text/plain": [
       "'\\n<!DOCTYPE HTML>\\n<html lang=\"en\">\\n<head>\\r\\n    \\r\\n    \\r\\n    \\r\\n    \\r\\n    \\r\\n    \\r\\n    \\r\\n      \\r\\n    \\r\\n    \\r\\n    \\r\\n    \\r\\n    <meta charset=\"UTF-8\"/>\\r\\n    <meta name=\"languageCode\" content=\"en\"/>\\r\\n    <meta name=\"countryCode\" content=\"us\"/>\\r\\n    <meta name=\"searchTitle\" content=\"IBM\"/>\\r\\n    <meta name=\"focusArea\" content=\"Cross IBM SDRs\"/>\\r\\n    <meta name=\"siteSection\" content=\"home\"/>\\r\\n    <title>IBM</title>\\r\\n      <script defer=\"defer\" type=\"text/javascript\" src=\"https://rum.hlx.page/.rum/@adobe/helix-rum-js@%5E2/dist/rum-standalone.js\" data-routing=\"program=131558,environment=1281329,tier=publish\"></script>\\n<link rel=\"icon\" sizes=\"16x16\" href=\"/content/dam/adobe-cms/default-images/icon-16x16.png\"/>\\r\\n      <link rel=\"icon\" sizes=\"32x32\" href=\"/content/dam/adobe-cms/default-images/icon-32x32.png\"/>\\r\\n      <link rel=\"icon\" sizes=\"150x150\" href=\"/content/dam/adobe-cms/default-images/icon-150x150.png\"/>\\r\\n      <link rel=\"icon\" sizes=\"192x192\" href=\"/content/dam/adobe-cms/default-images/icon-192x192.png\"/>\\r\\n      <link rel=\"icon\" sizes=\"512x512\" href=\"/content/dam/adobe-cms/default-images/icon-512x512.png\"/>\\r\\n      <link rel=\"apple-touch-icon\" sizes=\"57x57\" href=\"/content/dam/adobe-cms/default-images/apple-touch-icon-57x57.png\"/>\\r\\n      <link rel=\"apple-touch-icon\" sizes=\"76x76\" href=\"/content/dam/adobe-cms/default-images/apple-touch-icon-76x76.png\"/>\\r\\n      <link rel=\"apple-touch-icon\" sizes=\"120x120\" href=\"/content/dam/adobe-cms/default-images/apple-touch-icon-120x120.png\"/>\\r\\n      <link rel=\"apple-touch-icon\" sizes=\"152x152\" href=\"/content/dam/adobe-cms/default-images/apple-touch-icon-152x152.png\"/>\\r\\n      <link rel=\"apple-touch-icon\" sizes=\"180x180\" href=\"/content/dam/adobe-cms/default-images/apple-touch-icon-180x180.png\"/>\\r\\n\\r\\n    \\r\\n    <meta name=\"description\" content=\"For more than a century, IBM has been a global technology innovator, leading advances in AI, automation and hybrid cloud solutions that help businesses grow.\"/>\\r\\n    <meta name=\"template\" content=\"full-width-layout\"/>\\r\\n    <meta name=\"viewport\" content=\"width=device-width, initial-scale=1\"/>\\r\\n    <meta name=\"robots\" content=\"index, follow, max-image-preview:large\"/>\\r\\n    \\r\\n    \\r\\n      \\r\\n      \\r\\n      \\r\\n      \\r\\n      \\r\\n    <link rel=\"canonical\" href=\"https://www.ibm.com/us-en\"/>\\r\\n\\r\\n    \\n    <link rel=\"preload\" href=\"/etc.clientlibs/adobe-cms/clientlibs/clientlib-masthead-container.lc-e10a4a09a962282c534f31c4e2df5d9d-lc.min.js\" as=\"script\">\\n\\n\\r\\n\\r\\n      \\r\\n\\r\\n      \\r\\n      <script type=\"text/javascript\">\\r\\n          !function(e, a, n, t) {\\r\\n              var i = e.head;\\r\\n              if (i) {\\r\\n                  if (a) return;\\r\\n                  var o = e.createElement(\"style\");\\r\\n                  o.id = \"alloy-prehiding\", o.innerText = n, i.appendChild(o),\\r\\n                      setTimeout(function() {\\r\\n                          o.parentNode && o.parentNode.removeChild(o)\\r\\n                      }, t)\\r\\n              }\\r\\n          }\\r\\n          (document, document.location.href.indexOf(\"adobe_authoring_enabled\") !== -1, \"body { opacity: 0 !important }\", 900);\\r\\n      </script>\\r\\n      \\r\\n      \\r\\n<!--      <script type=\"text/javascript\">\\r\\n          (function(c,l,a,r,i,t,y){\\r\\n              c[a]=c[a]||function(){(c[a].q=c[a].q||[]).push(arguments)};\\r\\n              t=l.createElement(r);t.async=1;t.src=\"https://www.clarity.ms/tag/\"+i;\\r\\n              y=l.getElementsByTagName(r)[0];y.parentNode.insertBefore(t,y);\\r\\n          })(window, document, \"clarity\", \"script\", \"s52kp7iw7g\");\\r\\n      </script>-->\\r\\n      \\r\\n    <style id=\"prevent-layout-shift-style\">\\n    c4d-masthead-container:not(:defined) {\\n        min-height: 114px; /* Reserve space before it loads */\\n        display: block !important; \\n        opacity: 0; /* Hide visually but keep space */\\n        transition: opacity 0.3s ease-in-out;\\n    }\\n\\n    c4d-masthead-container:defined {\\n        transition: opacity 0.3s ease-in-out;\\n        opacity: 1;\\n    }\\n\\n    c4d-leadspace:not(:defined) {\\n        display:none;\\n    }\\n\\n    c4d-table-of-contents:not(:defined) {\\n        display:none;\\n    }\\n\\n    c4d-link-list:not(:defined) {\\n        display:none;\\n    }\\n</style>\\r\\n\\r\\n      <script src=\"https://assets.adobedtm.com/0f2de1d5b89a/565c2aeb0d39/launch-560e54b3e83c.min.js\" type=\"text/javascript\" async=\"async\"></script>\\r\\n     <script type=\"text/javascript\" async=\"async\">\\r\\n\\tvar adobeDataLayer = window.adobeDataLayer || [];\\r\\n\\t</script>\\r\\n\\r\\n    <script type=\"text/javascript\">\\r\\n        window.searchKey = {\\r\\n            templateName: \\'full\\\\u002Dwidth\\\\u002Dlayout\\',\\r\\n            taxonomylist: \\'taxonomy : Brands \\\\/ IBM\\',\\r\\n            L0Tag: \\'Topics,Brands,Industries,Geography,Compliance Entities,Products,Events,Computer Languages,Content Format,Series,Content Type,CMaaS Focus Areas,brands,Deployment Types,Product Types,Search Index,Unified Taxonomy,topics_v2,Site Sections\\',\\r\\n        }\\r\\n    </script>\\r\\n\\r\\n    \\r\\n        <link rel=\"alternate\" hreflang=\"ar-sa\" href=\"https://www.ibm.com/sa-ar\"/>\\r\\n    \\r\\n        <link rel=\"alternate\" hreflang=\"de-de\" href=\"https://www.ibm.com/de-de\"/>\\r\\n    \\r\\n        <link rel=\"alternate\" hreflang=\"en-us\" href=\"https://www.ibm.com/us-en\"/>\\r\\n    \\r\\n        <link rel=\"alternate\" hreflang=\"en-ca\" href=\"https://www.ibm.com/ca-en\"/>\\r\\n    \\r\\n        <link rel=\"alternate\" hreflang=\"ko-kr\" href=\"https://www.ibm.com/kr-ko\"/>\\r\\n    \\r\\n        <link rel=\"alternate\" hreflang=\"pt-br\" href=\"https://www.ibm.com/br-pt\"/>\\r\\n    \\r\\n        <link rel=\"alternate\" hreflang=\"ar-qa\" href=\"https://www.ibm.com/qa-ar\"/>\\r\\n    \\r\\n        <link rel=\"alternate\" hreflang=\"en-in\" href=\"https://www.ibm.com/in-en\"/>\\r\\n    \\r\\n        <link rel=\"alternate\" hreflang=\"es-es\" href=\"https://www.ibm.com/es-es\"/>\\r\\n    \\r\\n        <link rel=\"alternate\" hreflang=\"ar-ae\" href=\"https://www.ibm.com/ae-ar\"/>\\r\\n    \\r\\n        <link rel=\"alternate\" hreflang=\"zh-cn\" href=\"https://www.ibm.com/cn-zh\"/>\\r\\n    \\r\\n        <link rel=\"alternate\" hreflang=\"es-mx\" href=\"https://www.ibm.com/mx-es\"/>\\r\\n    \\r\\n        <link rel=\"alternate\" hreflang=\"fr-ca\" href=\"https://www.ibm.com/ca-fr\"/>\\r\\n    \\r\\n        <link rel=\"alternate\" hreflang=\"it-it\" href=\"https://www.ibm.com/it-it\"/>\\r\\n    \\r\\n        <link rel=\"alternate\" hreflang=\"x-default\" href=\"https://www.ibm.com/\"/>\\r\\n    \\r\\n        <link rel=\"alternate\" hreflang=\"id-id\" href=\"https://www.ibm.com/id-id\"/>\\r\\n    \\r\\n        <link rel=\"alternate\" hreflang=\"en-au\" href=\"https://www.ibm.com/au-en\"/>\\r\\n    \\r\\n        <link rel=\"alternate\" hreflang=\"en-uk\" href=\"https://www.ibm.com/uk-en\"/>\\r\\n    \\r\\n        <link rel=\"alternate\" hreflang=\"fr-fr\" href=\"https://www.ibm.com/fr-fr\"/>\\r\\n    \\r\\n        <link rel=\"alternate\" hreflang=\"ja-jp\" href=\"https://www.ibm.com/jp-ja\"/>\\r\\n    \\r\\n\\r\\n    <script type=\"text/javascript\">\\r\\n        var languageCode = document.getElementsByName(\\'languageCode\\')[0].content;\\r\\n        var countryCode = document.getElementsByName(\\'countryCode\\')[0].content;\\r\\n        var focusArea = document.getElementsByName(\\'focusArea\\')[0].content;\\r\\n        /* Define digital data object based on _appInfo object */\\r\\n          window._ibmAnalytics = {\\r\\n              settings: {\\r\\n                 name: \"AEM Sites\",\\r\\n                 tealiumProfileName: \"adobe-launch\"\\r\\n              },\\r\\n           };\\r\\n        window.digitalData = {\\r\\n            page: {\\r\\n                category: {\\r\\n                    primaryCategory: \\'\\',\\r\\n                },\\r\\n                pageInfo: {\\r\\n                    language: languageCode + \\'-\\' + countryCode,\\r\\n                    ibm: {\\r\\n                        siteID: \\'MarketingAEM\\',\\r\\n                        country: countryCode,\\r\\n                        messaging: {\\r\\n                            routing: {\\r\\n                                focusArea: focusArea,\\r\\n                                languageCode: languageCode,\\r\\n                                regionCode: countryCode\\r\\n                            },\\r\\n                            translation: {\\r\\n                                languageCode: languageCode,\\r\\n                                regionCode: countryCode\\r\\n                            }\\r\\n                        },\\r\\n                        sections: 0,\\r\\n                        patterns: 0,\\r\\n                    },\\r\\n                    carbon: {\\r\\n                        \\'@carbon/web-components\\': \\'\\',\\r\\n                        \\'@carbon/ibmdotcom-web-components\\': \\'\\',\\r\\n                        \\'carbon-for-aem\\': \\'\\',\\r\\n                    },\\r\\n                },\\r\\n            },\\r\\n        };\\r\\n    </script>\\r\\n    \\r\\n    \\r\\n    \\r\\n\\r\\n      <!-- Instana script specific to Dev environment start -->\\r\\n<!--      <script>\\r\\n          (function(s,t,a,n){s[t]||(s[t]=a,n=s[a]=function(){n.q.push(arguments)},\\r\\n          n.q=[],n.v=2,n.l=1*new Date)})(window,\"InstanaEumObject\",\"ineum\");\\r\\n\\r\\n          ineum(\\'reportingUrl\\', \\'https://eum-orange-saas.instana.io\\');\\r\\n          ineum(\\'key\\', \\'mFJnYtpBSiCKl9zenWHXtg\\');\\r\\n          ineum(\\'trackSessions\\');\\r\\n      </script>\\r\\n      <script defer crossorigin=\"anonymous\" src=https://eum.instana.io/1.7.2/eum.min.js\\r\\n              integrity=\"sha384-cgeSlevgebehPauohUhsnAeBrpjXzaj94mSv3L2EXjCQH0RRb9xSQ2ErGOWkthIJ\"></script>-->\\r\\n      <!-- Instana script specific to Dev environment end -->\\r\\n\\r\\n    \\n    \\n        <meta property=\"og:url\" content=\"https://www.ibm.com/us-en\"/>\\n    \\n        <meta property=\"og:type\" content=\"website\"/>\\n    \\n        <meta property=\"og:title\" content=\"IBM\"/>\\n    \\n        <meta property=\"og:description\" content=\"For more than a century, IBM has been a global technology innovator, leading advances in AI, automation and hybrid cloud solutions that help businesses grow.\"/>\\n    \\n        \\n    \\n    \\n        <meta property=\"og:image\" content=\"https://www.ibm.com/content/dam/connectedassets-adobe-cms/worldwide-content/creative-assets/s-migr/ul/g/18/f9/ibm_logo_pos_blue60_rgb.png/_jcr_content/renditions/cq5dam.thumbnail.1280.1280.png\"/>\\n    \\n\\r\\n    <script src=\"https://1.www.s81c.com/common/stats/ibm-common.js\" type=\"text/javascript\" fetchpriority=\"high\" async=\"async\"></script>\\r\\n\\r\\n    <link rel=\"preload\" href=\"https://hybrid-cloud-widgets-production.s3.us.cloud-object-storage.appdomain.cloud/loader.js\" as=\"script\"/>\\r\\n    <script src=\"https://hybrid-cloud-widgets-production.s3.us.cloud-object-storage.appdomain.cloud/loader.js\" type=\"application/javascript\"></script>\\r\\n\\r\\n    \\n    \\n    \\n<link rel=\"stylesheet\" href=\"/etc.clientlibs/adobe-cms/clientlibs/clientlib-base.lc-30313e00669f877069f15dd099f23454-lc.min.css\" type=\"text/css\">\\n<link rel=\"stylesheet\" href=\"/etc.clientlibs/adobe-cms/clientlibs/clientlib-idlStylesCarbon.lc-762e7de983b0428e460174d4dedab9c2-lc.min.css\" type=\"text/css\">\\n<link rel=\"stylesheet\" href=\"/etc.clientlibs/adobe-cms/clientlibs/clientlib-idlStyles.lc-af7843a8961fa0444235c085d00c1765-lc.min.css\" type=\"text/css\">\\n\\n\\n\\n    \\n    <link rel=\"stylesheet\" href=\"https://1.www.s81c.com/common/carbon-for-ibm-dotcom/tag/v1/latest/plex.css\"/>\\n    <link rel=\"stylesheet\" href=\"https://1.www.s81c.com/common/carbon/plex/sans.css\"/>\\n    \\n    \\n\\n\\r\\n    \\n    \\n    \\n\\n    \\n\\n    \\n\\n\\n\\n    \\n    \\n    \\n\\n\\n\\n    \\n\\r\\n    \\r\\n    \\n\\n\\r\\n</head>\\n<body class=\"content-page page basicpage publish\" id=\"content-page-c8104b3589\" data-cmp-data-layer-enabled data-fullwidthtemplate=\"true\">\\n<script>\\n    window.adobeDataLayer = window.adobeDataLayer || [];\\n    adobeDataLayer.push({\\n        page: JSON.parse(\"{\\\\x22content\\\\u002Dpage\\\\u002Dc8104b3589\\\\x22:{\\\\x22@type\\\\x22:\\\\x22adobe\\\\u002Dcms\\\\/components\\\\/structure\\\\/content\\\\u002Dpage\\\\x22,\\\\x22repo:modifyDate\\\\x22:\\\\x222025\\\\u002D08\\\\u002D28T07:50:36Z\\\\x22,\\\\x22dc:title\\\\x22:\\\\x22Homepage\\\\x22,\\\\x22xdm:template\\\\x22:\\\\x22\\\\/conf\\\\/adobe\\\\u002Dcms\\\\u002Deditable\\\\/settings\\\\/wcm\\\\/templates\\\\/full\\\\u002Dwidth\\\\u002Dlayout\\\\x22,\\\\x22xdm:language\\\\x22:\\\\x22en\\\\x22,\\\\x22xdm:tags\\\\x22:[],\\\\x22repo:path\\\\x22:\\\\x22\\\\/content\\\\/adobe\\\\u002Dcms\\\\/us\\\\/en\\\\/homepage.html\\\\x22}}\"),\\n        event: \\'cmp:show\\',\\n        eventInfo: {\\n            path: \\'page.content\\\\u002Dpage\\\\u002Dc8104b3589\\'\\n        }\\n    });\\n</script>\\n\\n\\n    \\n\\n\\n\\n\\n    \\n\\n\\n\\n    \\n<c4d-video-cta-container>\\n     <div class=\"root container responsivegrid\">\\n\\n    \\n    \\n    \\n    <div id=\"container-9225520bd9\" class=\"cmp-container\">\\n        \\n        <div class=\"masthead\">\\r\\n\\r\\n\\r\\n\\r\\n\\r\\n\\r\\n\\r\\n<c4d-masthead-container data-endpoint=\"#\" auth-method=\"profile-api\" has-contact=\"true\" has-global=\"true\" has-profile has-search has-cart current-region-text=\"Your current region is\" different-region-text=\"Select a different region\" no-other-region-text=\"This page is not available in any other regions\"></c4d-masthead-container>\\r\\n\\r\\n\\r\\n\\n    <script defer src=\"/etc.clientlibs/adobe-cms/clientlibs/clientlib-masthead-container.lc-e10a4a09a962282c534f31c4e2df5d9d-lc.min.js\"></script>\\n\\n\\r\\n\\n    \\n<script src=\"/etc.clientlibs/clientlibs/granite/jquery.lc-f9e8e8c279baf6a1a278042afe4f395a-lc.min.js\"></script>\\n<script src=\"/etc.clientlibs/adobe-cms/components/structure/navigation/masthead/clientlibs/site.lc-8ca21e94b6e8dd16840d0ee394a8421e-lc.min.js\"></script>\\n\\n\\n\\r\\n\\r\\n\\r\\n    \\n    \\n<script src=\"/etc.clientlibs/adobe-cms/components/structure/navigation/masthead/clientlibs/country-restoration.lc-c5b15c8454f3327b958e14ccf4e41d92-lc.min.js\"></script>\\n\\n\\n\\r\\n\\r\\n\\r\\n<script>\\r\\n    let l0Json = \"{\\\\x22profileMenu\\\\x22:{\\\\x22signedout\\\\x22:[{\\\\x22title\\\\x22:\\\\x22My IBM\\\\x22,\\\\x22url\\\\x22:\\\\x22https:\\\\/\\\\/myibm.ibm.com\\\\/?lnk=mmi\\\\x22},{\\\\x22title\\\\x22:\\\\x22Log in\\\\x22,\\\\x22url\\\\x22:\\\\x22https:\\\\/\\\\/login.ibm.com\\\\/oidc\\\\/endpoint\\\\/default\\\\/authorize?redirect_uri=https%3A%2F%2Fmyibm.ibm.com%2FOIDCHandler.html\\\\x26response_type=token\\\\x26client_id=v18LoginProdCI\\\\x26scope=openid\\\\x26state=https%3A%2F%2Fwww.ibm.com\\\\x26nonce=8675309\\\\x22}],\\\\x22signedin\\\\x22:[{\\\\x22title\\\\x22:\\\\x22My IBM\\\\x22,\\\\x22url\\\\x22:\\\\x22https:\\\\/\\\\/myibm.ibm.com\\\\/?lnk=mmi\\\\x22},{\\\\x22title\\\\x22:\\\\x22Profile\\\\x22,\\\\x22url\\\\x22:\\\\x22https:\\\\/\\\\/myibm.ibm.com\\\\/profile\\\\/?lnk=mmi\\\\x22},{\\\\x22title\\\\x22:\\\\x22Billing\\\\x22,\\\\x22url\\\\x22:\\\\x22https:\\\\/\\\\/myibm.ibm.com\\\\/billing\\\\/?lnk=mmi\\\\x22},{\\\\x22title\\\\x22:\\\\x22Log out\\\\x22,\\\\x22url\\\\x22:\\\\x22https:\\\\/\\\\/myibm.ibm.com\\\\/pkmslogout?filename=accountRedir.html\\\\x22}]},\\\\x22mastheadNav\\\\x22:{\\\\x22links\\\\x22:[{\\\\x22title\\\\x22:\\\\x22AI\\\\x22,\\\\x22url\\\\x22:\\\\x22\\\\x22,\\\\x22submenu\\\\x22:{\\\\x22sections\\\\x22:[{\\\\x22heading\\\\x22:{\\\\x22title\\\\x22:\\\\x22\\\\x22,\\\\x22description\\\\x22:\\\\x22\\\\x22},\\\\x22groups\\\\x22:[{\\\\x22heading\\\\x22:{\\\\x22title\\\\x22:\\\\x22Overview\\\\x22,\\\\x22url\\\\x22:\\\\x22https:\\\\/\\\\/www.ibm.com\\\\/artificial\\\\u002Dintelligence\\\\x22,\\\\x22description\\\\x22:\\\\x22\\\\x22},\\\\x22links\\\\x22:[]},{\\\\x22heading\\\\x22:{\\\\x22title\\\\x22:\\\\x22Consulting\\\\x22,\\\\x22url\\\\x22:\\\\x22https:\\\\/\\\\/www.ibm.com\\\\/consulting\\\\/artificial\\\\u002Dintelligence\\\\x22,\\\\x22description\\\\x22:\\\\x22\\\\x22},\\\\x22links\\\\x22:[]},{\\\\x22heading\\\\x22:{\\\\x22title\\\\x22:\\\\x22watsonx\\\\x22,\\\\x22url\\\\x22:\\\\x22https:\\\\/\\\\/www.ibm.com\\\\/products\\\\/watsonx\\\\x22,\\\\x22description\\\\x22:\\\\x22\\\\x22},\\\\x22links\\\\x22:[]},{\\\\x22heading\\\\x22:{\\\\x22title\\\\x22:\\\\x22Research\\\\x22,\\\\x22url\\\\x22:\\\\x22https:\\\\/\\\\/research.ibm.com\\\\/artificial\\\\u002Dintelligence\\\\x22,\\\\x22description\\\\x22:\\\\x22\\\\x22},\\\\x22links\\\\x22:[]},{\\\\x22heading\\\\x22:{\\\\x22title\\\\x22:\\\\x22Agents\\\\x22,\\\\x22url\\\\x22:\\\\x22https:\\\\/\\\\/www.ibm.com\\\\/ai\\\\u002Dagents\\\\x22,\\\\x22description\\\\x22:\\\\x22\\\\x22},\\\\x22links\\\\x22:[]},{\\\\x22heading\\\\x22:{\\\\x22title\\\\x22:\\\\x22Ethics and governance\\\\x22,\\\\x22url\\\\x22:\\\\x22https:\\\\/\\\\/www.ibm.com\\\\/artificial\\\\u002Dintelligence\\\\/ai\\\\u002Dethics\\\\x22,\\\\x22description\\\\x22:\\\\x22\\\\x22},\\\\x22links\\\\x22:[]},{\\\\x22heading\\\\x22:{\\\\x22title\\\\x22:\\\\x22Granite models\\\\x22,\\\\x22url\\\\x22:\\\\x22https:\\\\/\\\\/www.ibm.com\\\\/granite\\\\x22,\\\\x22description\\\\x22:\\\\x22\\\\x22},\\\\x22links\\\\x22:[]},{\\\\x22heading\\\\x22:{\\\\x22title\\\\x22:\\\\x22Security\\\\x22,\\\\x22url\\\\x22:\\\\x22https:\\\\/\\\\/www.ibm.com\\\\/solutions\\\\/ai\\\\u002Dcybersecurity\\\\x22,\\\\x22description\\\\x22:\\\\x22\\\\x22},\\\\x22links\\\\x22:[]},{\\\\x22heading\\\\x22:{\\\\x22title\\\\x22:\\\\x22\\\\x22,\\\\x22description\\\\x22:\\\\x22\\\\x22},\\\\x22links\\\\x22:[]}]}],\\\\x22viewAll\\\\x22:{\\\\x22title\\\\x22:\\\\x22\\\\x22,\\\\x22url\\\\x22:\\\\x22\\\\x22}}},{\\\\x22title\\\\x22:\\\\x22Hybrid Cloud\\\\x22,\\\\x22url\\\\x22:\\\\x22\\\\x22,\\\\x22submenu\\\\x22:{\\\\x22sections\\\\x22:[{\\\\x22heading\\\\x22:{\\\\x22title\\\\x22:\\\\x22\\\\x22,\\\\x22description\\\\x22:\\\\x22\\\\x22},\\\\x22groups\\\\x22:[{\\\\x22heading\\\\x22:{\\\\x22title\\\\x22:\\\\x22Overview\\\\x22,\\\\x22url\\\\x22:\\\\x22https:\\\\/\\\\/www.ibm.com\\\\/solutions\\\\/hybrid\\\\u002Dcloud\\\\x22,\\\\x22description\\\\x22:\\\\x22\\\\x22},\\\\x22links\\\\x22:[]},{\\\\x22heading\\\\x22:{\\\\x22title\\\\x22:\\\\x22IT infrastructure\\\\x22,\\\\x22url\\\\x22:\\\\x22https:\\\\/\\\\/www.ibm.com\\\\/solutions\\\\/it\\\\u002Dinfrastructure\\\\x22,\\\\x22description\\\\x22:\\\\x22\\\\x22},\\\\x22links\\\\x22:[]},{\\\\x22heading\\\\x22:{\\\\x22title\\\\x22:\\\\x22Consulting\\\\x22,\\\\x22url\\\\x22:\\\\x22https:\\\\/\\\\/www.ibm.com\\\\/cloud\\\\/transformation\\\\x22,\\\\x22description\\\\x22:\\\\x22\\\\x22},\\\\x22links\\\\x22:[]},{\\\\x22heading\\\\x22:{\\\\x22title\\\\x22:\\\\x22Quantum computing\\\\x22,\\\\x22url\\\\x22:\\\\x22https:\\\\/\\\\/www.ibm.com\\\\/quantum\\\\x22,\\\\x22description\\\\x22:\\\\x22\\\\x22},\\\\x22links\\\\x22:[]},{\\\\x22heading\\\\x22:{\\\\x22title\\\\x22:\\\\x22Cloud platform\\\\x22,\\\\x22url\\\\x22:\\\\x22https:\\\\/\\\\/www.ibm.com\\\\/cloud\\\\x22,\\\\x22description\\\\x22:\\\\x22\\\\x22},\\\\x22links\\\\x22:[]},{\\\\x22heading\\\\x22:{\\\\x22title\\\\x22:\\\\x22Research\\\\x22,\\\\x22url\\\\x22:\\\\x22https:\\\\/\\\\/research.ibm.com\\\\/hybrid\\\\u002Dcloud\\\\x22,\\\\x22description\\\\x22:\\\\x22\\\\x22},\\\\x22links\\\\x22:[]},{\\\\x22heading\\\\x22:{\\\\x22title\\\\x22:\\\\x22\\\\x22,\\\\x22description\\\\x22:\\\\x22\\\\x22},\\\\x22links\\\\x22:[]}]}],\\\\x22viewAll\\\\x22:{\\\\x22title\\\\x22:\\\\x22\\\\x22,\\\\x22url\\\\x22:\\\\x22\\\\x22}}},{\\\\x22title\\\\x22:\\\\x22Products\\\\x22,\\\\x22url\\\\x22:\\\\x22\\\\x22,\\\\x22submenu\\\\x22:{\\\\x22sections\\\\x22:[{\\\\x22heading\\\\x22:{\\\\x22title\\\\x22:\\\\x22Featured\\\\x22,\\\\x22description\\\\x22:\\\\x22\\\\x22},\\\\x22groups\\\\x22:[{\\\\x22heading\\\\x22:{\\\\x22title\\\\x22:\\\\x22\\\\x22,\\\\x22description\\\\x22:\\\\x22\\\\x22},\\\\x22links\\\\x22:[{\\\\x22title\\\\x22:\\\\x22Concert\\\\x22,\\\\x22url\\\\x22:\\\\x22https:\\\\/\\\\/www.ibm.com\\\\/products\\\\/concert?lnk=flatitem\\\\x22,\\\\x22description\\\\x22:\\\\x22Software to manage applications, mitigate risks and enhance resilience\\\\x22},{\\\\x22title\\\\x22:\\\\x22FlashSystem\\\\x22,\\\\x22url\\\\x22:\\\\x22https:\\\\/\\\\/www.ibm.com\\\\/products\\\\/flashsystem?lnk=flatitem\\\\x22,\\\\x22description\\\\x22:\\\\x22Primary storage for performance and latency sensitive workloads\\\\x22},{\\\\x22title\\\\x22:\\\\x22HashiCorp\\\\x22,\\\\x22url\\\\x22:\\\\x22https:\\\\/\\\\/www.ibm.com\\\\/products\\\\/hashicorp?lnk=flatitem\\\\x22,\\\\x22description\\\\x22:\\\\x22Manage cloud infrastructure and security\\\\x22},{\\\\x22title\\\\x22:\\\\x22IBM Cloud\\\\x22,\\\\x22url\\\\x22:\\\\x22https:\\\\/\\\\/www.ibm.com\\\\/cloud?lnk=flatitem\\\\x22,\\\\x22description\\\\x22:\\\\x22On\\\\u002Ddemand cloud computing platform and APIs\\\\x22},{\\\\x22title\\\\x22:\\\\x22IBM Z\\\\x22,\\\\x22url\\\\x22:\\\\x22https:\\\\/\\\\/www.ibm.com\\\\/z?lnk=flatitem\\\\x22,\\\\x22description\\\\x22:\\\\x22Flagship mainframe with on\\\\u002Dchip AI and quantum\\\\u002Dsafe cryptography\\\\x22},{\\\\x22title\\\\x22:\\\\x22IBM webMethods Hybrid Integration\\\\x22,\\\\x22url\\\\x22:\\\\x22https:\\\\/\\\\/www.ibm.com\\\\/products\\\\/webmethods\\\\u002Dhybrid\\\\u002Dintegration?lnk=flatitem\\\\x22,\\\\x22description\\\\x22:\\\\x22AI powered automation software to unify integration workflows\\\\x22},{\\\\x22title\\\\x22:\\\\x22Instana\\\\x22,\\\\x22url\\\\x22:\\\\x22https:\\\\/\\\\/www.ibm.com\\\\/products\\\\/instana?lnk=flatitem\\\\x22,\\\\x22description\\\\x22:\\\\x22Software for application performance monitoring and automation\\\\x22},{\\\\x22title\\\\x22:\\\\x22MaaS360\\\\x22,\\\\x22url\\\\x22:\\\\x22https:\\\\/\\\\/www.ibm.com\\\\/products\\\\/maas360?lnk=flatitem\\\\x22,\\\\x22description\\\\x22:\\\\x22Unified endpoint management software for many device types\\\\x22},{\\\\x22title\\\\x22:\\\\x22Maximo\\\\x22,\\\\x22url\\\\x22:\\\\x22https:\\\\/\\\\/www.ibm.com\\\\/products\\\\/maximo?lnk=flatitem\\\\x22,\\\\x22description\\\\x22:\\\\x22Software for asset management and related workflows\\\\x22},{\\\\x22title\\\\x22:\\\\x22Planning Analytics\\\\x22,\\\\x22url\\\\x22:\\\\x22https:\\\\/\\\\/www.ibm.com\\\\/products\\\\/planning\\\\u002Danalytics?lnk=flatitem\\\\x22,\\\\x22description\\\\x22:\\\\x22Software to automate financial and operational planning\\\\x22},{\\\\x22title\\\\x22:\\\\x22Robotic Process Automation (RPA)\\\\x22,\\\\x22url\\\\x22:\\\\x22https:\\\\/\\\\/www.ibm.com\\\\/products\\\\/robotic\\\\u002Dprocess\\\\u002Dautomation?lnk=flatitem\\\\x22,\\\\x22description\\\\x22:\\\\x22Software to automate workflows and business processes\\\\x22},{\\\\x22title\\\\x22:\\\\x22Storage Scale\\\\x22,\\\\x22url\\\\x22:\\\\x22https:\\\\/\\\\/www.ibm.com\\\\/products\\\\/storage\\\\u002Dscale?lnk=flatitem\\\\x22,\\\\x22description\\\\x22:\\\\x22Software defined storage for AI and high performance workloads\\\\x22},{\\\\x22title\\\\x22:\\\\x22Turbonomic\\\\x22,\\\\x22url\\\\x22:\\\\x22https:\\\\/\\\\/www.ibm.com\\\\/products\\\\/turbonomic?lnk=flatitem\\\\x22,\\\\x22description\\\\x22:\\\\x22Software to manage and optimize IT resource usage\\\\x22},{\\\\x22title\\\\x22:\\\\x22Verify\\\\x22,\\\\x22url\\\\x22:\\\\x22https:\\\\/\\\\/www.ibm.com\\\\/verify?lnk=flatitem\\\\x22,\\\\x22description\\\\x22:\\\\x22Identity, authentication, and access control software\\\\x22},{\\\\x22title\\\\x22:\\\\x22watsonx\\\\x22,\\\\x22url\\\\x22:\\\\x22https:\\\\/\\\\/www.ibm.com\\\\/watsonx?lnk=flatitem\\\\x22,\\\\x22description\\\\x22:\\\\x22AI and data platform\\\\x22},{\\\\x22title\\\\x22:\\\\x22watsonx Orchestrate\\\\x22,\\\\x22url\\\\x22:\\\\x22https:\\\\/\\\\/www.ibm.com\\\\/products\\\\/watsonx\\\\u002Dorchestrate?lnk=flatitem\\\\x22,\\\\x22description\\\\x22:\\\\x22Personal\\\\u002Dassistant software that automates repetitive tasks\\\\x22},{\\\\x22title\\\\x22:\\\\x22watsonx.data\\\\x22,\\\\x22url\\\\x22:\\\\x22https:\\\\/\\\\/www.ibm.com\\\\/products\\\\/watsonx\\\\u002Ddata\\\\x22,\\\\x22description\\\\x22:\\\\x22Hybrid, open data lakehouse for AI and analytics\\\\x22}]}]},{\\\\x22heading\\\\x22:{\\\\x22title\\\\x22:\\\\x22AI \\\\x26 machine learning\\\\x22,\\\\x22url\\\\x22:\\\\x22https:\\\\/\\\\/www.ibm.com\\\\/artificial\\\\u002Dintelligence?lnk=flathl\\\\x22,\\\\x22description\\\\x22:\\\\x22Use IBM Watson’s AI or build your own machine learning models\\\\x22},\\\\x22groups\\\\x22:[{\\\\x22heading\\\\x22:{\\\\x22title\\\\x22:\\\\x22\\\\x22,\\\\x22description\\\\x22:\\\\x22\\\\x22},\\\\x22links\\\\x22:[{\\\\x22title\\\\x22:\\\\x22Cloud Pak for AIOps\\\\x22,\\\\x22url\\\\x22:\\\\x22https:\\\\/\\\\/www.ibm.com\\\\/products\\\\/cloud\\\\u002Dpak\\\\u002Dfor\\\\u002Daiops12323?lnk=flatitem\\\\x22,\\\\x22description\\\\x22:\\\\x22DevOps management tool with AI analysis and recommendations\\\\x22},{\\\\x22title\\\\x22:\\\\x22Cloud Pak for Data\\\\x22,\\\\x22url\\\\x22:\\\\x22https:\\\\/\\\\/www.ibm.com\\\\/products\\\\/cloud\\\\u002Dpak\\\\u002Dfor\\\\u002Ddata?lnk=flatitem\\\\x22,\\\\x22description\\\\x22:\\\\x22Tools for data analysis, organization and management\\\\x22},{\\\\x22title\\\\x22:\\\\x22InstructLab\\\\x22,\\\\x22url\\\\x22:\\\\x22https:\\\\/\\\\/www.ibm.com\\\\/cloud\\\\/redhat\\\\x22,\\\\x22description\\\\x22:\\\\x22Deploy custom AI models as a service \\\\x22},{\\\\x22title\\\\x22:\\\\x22Knowledge Catalog\\\\x22,\\\\x22url\\\\x22:\\\\x22https:\\\\/\\\\/www.ibm.com\\\\/products\\\\/knowledge\\\\u002Dcatalog?lnk=flatitem\\\\x22,\\\\x22description\\\\x22:\\\\x22SaaS to catalog data, AI models, metadata, policies and more\\\\x22},{\\\\x22title\\\\x22:\\\\x22Watson Discovery\\\\x22,\\\\x22url\\\\x22:\\\\x22https:\\\\/\\\\/www.ibm.com\\\\/products\\\\/watson\\\\u002Ddiscovery?lnk=flatitem\\\\x22,\\\\x22description\\\\x22:\\\\x22AI to search in and answer questions about business documents\\\\x22},{\\\\x22title\\\\x22:\\\\x22Watson Natural Language Understanding\\\\x22,\\\\x22url\\\\x22:\\\\x22https:\\\\/\\\\/www.ibm.com\\\\/products\\\\/natural\\\\u002Dlanguage\\\\u002Dunderstanding?lnk=flatitem\\\\x22,\\\\x22description\\\\x22:\\\\x22API for text analysis and metadata extraction\\\\x22},{\\\\x22title\\\\x22:\\\\x22Watson Speech to Text\\\\x22,\\\\x22url\\\\x22:\\\\x22https:\\\\/\\\\/www.ibm.com\\\\/products\\\\/speech\\\\u002Dto\\\\u002Dtext?lnk=flatitem\\\\x22,\\\\x22description\\\\x22:\\\\x22API for real\\\\u002Dtime speech recognition and transcription\\\\x22},{\\\\x22title\\\\x22:\\\\x22Watson Studio\\\\x22,\\\\x22url\\\\x22:\\\\x22https:\\\\/\\\\/www.ibm.com\\\\/products\\\\/watson\\\\u002Dstudio?lnk=flatitem\\\\x22,\\\\x22description\\\\x22:\\\\x22IDE to build, run and manage AI models\\\\x22},{\\\\x22title\\\\x22:\\\\x22Watson Text to Speech\\\\x22,\\\\x22url\\\\x22:\\\\x22https:\\\\/\\\\/www.ibm.com\\\\/products\\\\/text\\\\u002Dto\\\\u002Dspeech?lnk=flatitem\\\\x22,\\\\x22description\\\\x22:\\\\x22API for real\\\\u002Dtime text to speech conversion\\\\x22},{\\\\x22title\\\\x22:\\\\x22Z Anomaly Analytics\\\\x22,\\\\x22url\\\\x22:\\\\x22https:\\\\/\\\\/www.ibm.com\\\\/products\\\\/z\\\\u002Danomaly\\\\u002Danalytics?lnk=flatitem\\\\x22,\\\\x22description\\\\x22:\\\\x22Operational anomaly detection software for mainframes\\\\x22},{\\\\x22title\\\\x22:\\\\x22watsonx\\\\x22,\\\\x22url\\\\x22:\\\\x22https:\\\\/\\\\/www.ibm.com\\\\/watsonx?lnk=flatitem\\\\x22,\\\\x22description\\\\x22:\\\\x22AI and data platform\\\\x22},{\\\\x22title\\\\x22:\\\\x22watsonx Assistant\\\\x22,\\\\x22url\\\\x22:\\\\x22https:\\\\/\\\\/www.ibm.com\\\\/products\\\\/watsonx\\\\u002Dassistant?lnk=flatitem\\\\x22,\\\\x22description\\\\x22:\\\\x22Virtual agents customizable to any domain\\\\x22},{\\\\x22title\\\\x22:\\\\x22watsonx Code Assistant\\\\x22,\\\\x22url\\\\x22:\\\\x22https:\\\\/\\\\/www.ibm.com\\\\/products\\\\/watsonx\\\\u002Dcode\\\\u002Dassistant?lnk=flatitem\\\\x22,\\\\x22description\\\\x22:\\\\x22AI tool to generate code\\\\x22},{\\\\x22title\\\\x22:\\\\x22watsonx.data\\\\x22,\\\\x22url\\\\x22:\\\\x22https:\\\\/\\\\/www.ibm.com\\\\/products\\\\/watsonx\\\\u002Ddata\\\\x22,\\\\x22description\\\\x22:\\\\x22Hybrid, open data lakehouse for AI and analytics\\\\x22},{\\\\x22title\\\\x22:\\\\x22watsonx.data integration\\\\x22,\\\\x22url\\\\x22:\\\\x22https:\\\\/\\\\/www.ibm.com\\\\/products\\\\/watsonx\\\\u002Ddata\\\\u002Dintegration\\\\x22,\\\\x22description\\\\x22:\\\\x22Scale data delivery with unified integration\\\\x22},{\\\\x22title\\\\x22:\\\\x22watsonx.data intelligence\\\\x22,\\\\x22url\\\\x22:\\\\x22https:\\\\/\\\\/www.ibm.com\\\\/products\\\\/watsonx\\\\u002Ddata\\\\u002Dintelligence\\\\x22,\\\\x22description\\\\x22:\\\\x22Discover, govern, and share trusted data\\\\x22}]}]},{\\\\x22heading\\\\x22:{\\\\x22title\\\\x22:\\\\x22Analytics\\\\x22,\\\\x22url\\\\x22:\\\\x22https:\\\\/\\\\/www.ibm.com\\\\/solutions\\\\/analytics?lnk=flathl\\\\x22,\\\\x22description\\\\x22:\\\\x22Aggregate and analyze large datasets\\\\x22},\\\\x22groups\\\\x22:[{\\\\x22heading\\\\x22:{\\\\x22title\\\\x22:\\\\x22\\\\x22,\\\\x22description\\\\x22:\\\\x22\\\\x22},\\\\x22links\\\\x22:[{\\\\x22title\\\\x22:\\\\x22Business Analytics Enterprise\\\\x22,\\\\x22url\\\\x22:\\\\x22https:\\\\/\\\\/www.ibm.com\\\\/products\\\\/business\\\\u002Danalytics\\\\u002Denterprise?lnk=flatitem\\\\x22,\\\\x22description\\\\x22:\\\\x22Software for business planning and analysis\\\\x22},{\\\\x22title\\\\x22:\\\\x22CPLEX\\\\x22,\\\\x22url\\\\x22:\\\\x22https:\\\\/\\\\/www.ibm.com\\\\/products\\\\/ilog\\\\u002Dcplex\\\\u002Doptimization\\\\u002Dstudio?lnk=flatitem\\\\x22,\\\\x22description\\\\x22:\\\\x22Software to build and solve complex optimization models\\\\x22},{\\\\x22title\\\\x22:\\\\x22Cloud Pak for Data\\\\x22,\\\\x22url\\\\x22:\\\\x22https:\\\\/\\\\/www.ibm.com\\\\/products\\\\/cloud\\\\u002Dpak\\\\u002Dfor\\\\u002Ddata?lnk=flatitem\\\\x22,\\\\x22description\\\\x22:\\\\x22Tools for data analysis, organization and management\\\\x22},{\\\\x22title\\\\x22:\\\\x22Cognos Analytics\\\\x22,\\\\x22url\\\\x22:\\\\x22https:\\\\/\\\\/www.ibm.com\\\\/products\\\\/cognos\\\\u002Danalytics?lnk=flatitem\\\\x22,\\\\x22description\\\\x22:\\\\x22Software for business intelligence and performance management\\\\x22},{\\\\x22title\\\\x22:\\\\x22Databand\\\\x22,\\\\x22url\\\\x22:\\\\x22https:\\\\/\\\\/www.ibm.com\\\\/products\\\\/databand?lnk=flatitem\\\\x22,\\\\x22description\\\\x22:\\\\x22Data observability software for data engineers and DataOps teams\\\\x22},{\\\\x22title\\\\x22:\\\\x22InfoSphere Information Server\\\\x22,\\\\x22url\\\\x22:\\\\x22https:\\\\/\\\\/www.ibm.com\\\\/information\\\\u002Dserver?lnk=flatitem\\\\x22,\\\\x22description\\\\x22:\\\\x22Data integration suite for ETL, governance and analysis\\\\x22},{\\\\x22title\\\\x22:\\\\x22Netezza\\\\x22,\\\\x22url\\\\x22:\\\\x22https:\\\\/\\\\/www.ibm.com\\\\/products\\\\/netezza?lnk=flatitem\\\\x22,\\\\x22description\\\\x22:\\\\x22Data warehousing and analytics system on custom hardware\\\\x22},{\\\\x22title\\\\x22:\\\\x22Optim\\\\x22,\\\\x22url\\\\x22:\\\\x22https:\\\\/\\\\/www.ibm.com\\\\/infosphere\\\\u002Doptim?lnk=flatitem\\\\x22,\\\\x22description\\\\x22:\\\\x22Software to manage test, production, and archived data\\\\x22},{\\\\x22title\\\\x22:\\\\x22Planning Analytics\\\\x22,\\\\x22url\\\\x22:\\\\x22https:\\\\/\\\\/www.ibm.com\\\\/products\\\\/planning\\\\u002Danalytics?lnk=flatitem\\\\x22,\\\\x22description\\\\x22:\\\\x22Software to automate financial and operational planning\\\\x22},{\\\\x22title\\\\x22:\\\\x22SPSS\\\\x22,\\\\x22url\\\\x22:\\\\x22https:\\\\/\\\\/www.ibm.com\\\\/spss?lnk=flatitem\\\\x22,\\\\x22description\\\\x22:\\\\x22Software for statistical analysis and business intelligence\\\\x22},{\\\\x22title\\\\x22:\\\\x22Spectrum Computing\\\\x22,\\\\x22url\\\\x22:\\\\x22https:\\\\/\\\\/www.ibm.com\\\\/high\\\\u002Dperformance\\\\u002Dcomputing?lnk=flatitem\\\\x22,\\\\x22description\\\\x22:\\\\x22Software to optimize resources in complex computing clusters\\\\x22},{\\\\x22title\\\\x22:\\\\x22StreamSets\\\\x22,\\\\x22url\\\\x22:\\\\x22https:\\\\/\\\\/www.ibm.com\\\\/products\\\\/streamsets?lnk=flatitem\\\\x22,\\\\x22description\\\\x22:\\\\x22Graphical interface to build and manage streaming data pipelines\\\\x22},{\\\\x22title\\\\x22:\\\\x22Watson Discovery\\\\x22,\\\\x22url\\\\x22:\\\\x22https:\\\\/\\\\/www.ibm.com\\\\/products\\\\/watson\\\\u002Ddiscovery?lnk=flatitem\\\\x22,\\\\x22description\\\\x22:\\\\x22AI to search in and answer questions about business documents\\\\x22},{\\\\x22title\\\\x22:\\\\x22Watson Studio\\\\x22,\\\\x22url\\\\x22:\\\\x22https:\\\\/\\\\/www.ibm.com\\\\/products\\\\/watson\\\\u002Dstudio?lnk=flatitem\\\\x22,\\\\x22description\\\\x22:\\\\x22IDE to build, run and manage AI models\\\\x22},{\\\\x22title\\\\x22:\\\\x22watsonx.data integration\\\\x22,\\\\x22url\\\\x22:\\\\x22https:\\\\/\\\\/www.ibm.com\\\\/products\\\\/watsonx\\\\u002Ddata\\\\u002Dintegration\\\\x22,\\\\x22description\\\\x22:\\\\x22Scale data delivery with unified integration\\\\x22},{\\\\x22title\\\\x22:\\\\x22watsonx.data intelligence\\\\x22,\\\\x22url\\\\x22:\\\\x22https:\\\\/\\\\/www.ibm.com\\\\/products\\\\/watsonx\\\\u002Ddata\\\\u002Dintelligence\\\\x22,\\\\x22description\\\\x22:\\\\x22Discover, govern, and share trusted data\\\\x22}]}]},{\\\\x22heading\\\\x22:{\\\\x22title\\\\x22:\\\\x22Asset lifecycle management\\\\x22,\\\\x22url\\\\x22:\\\\x22https:\\\\/\\\\/www.ibm.com\\\\/solutions\\\\/asset\\\\u002Dlifecycle\\\\u002Dmanagement\\\\x22,\\\\x22description\\\\x22:\\\\x22Manage and maintain physical assets\\\\x22},\\\\x22groups\\\\x22:[{\\\\x22heading\\\\x22:{\\\\x22title\\\\x22:\\\\x22\\\\x22,\\\\x22description\\\\x22:\\\\x22\\\\x22},\\\\x22links\\\\x22:[{\\\\x22title\\\\x22:\\\\x22Environmental Intelligence\\\\x22,\\\\x22url\\\\x22:\\\\x22https:\\\\/\\\\/www.ibm.com\\\\/products\\\\/environmental\\\\u002Dintelligence?lnk=flatitem\\\\x22,\\\\x22description\\\\x22:\\\\x22SaaS for predicting and responding to weather and climate events\\\\x22},{\\\\x22title\\\\x22:\\\\x22Envizi\\\\x22,\\\\x22url\\\\x22:\\\\x22https:\\\\/\\\\/www.ibm.com\\\\/products\\\\/envizi?lnk=flatitem\\\\x22,\\\\x22description\\\\x22:\\\\x22ESG data management, reporting and analysis SaaS\\\\x22},{\\\\x22title\\\\x22:\\\\x22Maximo\\\\x22,\\\\x22url\\\\x22:\\\\x22https:\\\\/\\\\/www.ibm.com\\\\/products\\\\/maximo?lnk=flatitem\\\\x22,\\\\x22description\\\\x22:\\\\x22Software for asset management and related workflows\\\\x22},{\\\\x22title\\\\x22:\\\\x22TRIRIGA\\\\x22,\\\\x22url\\\\x22:\\\\x22https:\\\\/\\\\/www.ibm.com\\\\/products\\\\/tririga?lnk=flatitem\\\\x22,\\\\x22description\\\\x22:\\\\x22Software for real estate and workplace management\\\\x22}]}]},{\\\\x22heading\\\\x22:{\\\\x22title\\\\x22:\\\\x22Business automation\\\\x22,\\\\x22description\\\\x22:\\\\x22Automate workflows and business processes\\\\x22},\\\\x22groups\\\\x22:[{\\\\x22heading\\\\x22:{\\\\x22title\\\\x22:\\\\x22\\\\x22,\\\\x22description\\\\x22:\\\\x22\\\\x22},\\\\x22links\\\\x22:[{\\\\x22title\\\\x22:\\\\x22Blueworks Live\\\\x22,\\\\x22url\\\\x22:\\\\x22https:\\\\/\\\\/www.ibm.com\\\\/products\\\\/blueworkslive?lnk=flatitem\\\\x22,\\\\x22description\\\\x22:\\\\x22SaaS for collaboratively modeling business processes\\\\x22},{\\\\x22title\\\\x22:\\\\x22Business Automation Manager Open Editions\\\\x22,\\\\x22url\\\\x22:\\\\x22https:\\\\/\\\\/www.ibm.com\\\\/products\\\\/business\\\\u002Dautomation\\\\u002Dmanager\\\\u002Dopen\\\\u002Deditions?lnk=flatitem\\\\x22,\\\\x22description\\\\x22:\\\\x22Workflow automation and decision management software\\\\x22},{\\\\x22title\\\\x22:\\\\x22Business Automation Workflow\\\\x22,\\\\x22url\\\\x22:\\\\x22https:\\\\/\\\\/www.ibm.com\\\\/products\\\\/business\\\\u002Dautomation\\\\u002Dworkflow?lnk=flatitem\\\\x22,\\\\x22description\\\\x22:\\\\x22Cloud Pak for Business Automation add\\\\u002Don to automate workflows\\\\x22},{\\\\x22title\\\\x22:\\\\x22Cloud Pak for Business Automation\\\\x22,\\\\x22url\\\\x22:\\\\x22https:\\\\/\\\\/www.ibm.com\\\\/products\\\\/cloud\\\\u002Dpak\\\\u002Dfor\\\\u002Dbusiness\\\\u002Dautomation?lnk=flatitem\\\\x22,\\\\x22description\\\\x22:\\\\x22Operations management software with AI insights\\\\x22},{\\\\x22title\\\\x22:\\\\x22Datacap\\\\x22,\\\\x22url\\\\x22:\\\\x22https:\\\\/\\\\/www.ibm.com\\\\/products\\\\/data\\\\u002Dcapture\\\\u002Dand\\\\u002Dimaging?lnk=flatitem\\\\x22,\\\\x22description\\\\x22:\\\\x22Document management for IBM Cloud Pak for Business Automation\\\\x22},{\\\\x22title\\\\x22:\\\\x22FileNet Content Manager\\\\x22,\\\\x22url\\\\x22:\\\\x22https:\\\\/\\\\/www.ibm.com\\\\/products\\\\/filenet\\\\u002Dcontent\\\\u002Dmanager?lnk=flatitem\\\\x22,\\\\x22description\\\\x22:\\\\x22Content management solution for Cloud Pak for Business Automation\\\\x22},{\\\\x22title\\\\x22:\\\\x22Operational Decision Manager\\\\x22,\\\\x22url\\\\x22:\\\\x22https:\\\\/\\\\/www.ibm.com\\\\/products\\\\/operational\\\\u002Ddecision\\\\u002Dmanager?lnk=flatitem\\\\x22,\\\\x22description\\\\x22:\\\\x22Cloud Pak for Business Automation addon for rule\\\\u002Dbased decisions\\\\x22},{\\\\x22title\\\\x22:\\\\x22Process Mining\\\\x22,\\\\x22url\\\\x22:\\\\x22https:\\\\/\\\\/www.ibm.com\\\\/products\\\\/process\\\\u002Dmining?lnk=flatitem\\\\x22,\\\\x22description\\\\x22:\\\\x22Software to extract process data from business applications\\\\x22},{\\\\x22title\\\\x22:\\\\x22Robotic Process Automation (RPA)\\\\x22,\\\\x22url\\\\x22:\\\\x22https:\\\\/\\\\/www.ibm.com\\\\/products\\\\/robotic\\\\u002Dprocess\\\\u002Dautomation?lnk=flatitem\\\\x22,\\\\x22description\\\\x22:\\\\x22Software to automate workflows and business processes\\\\x22},{\\\\x22title\\\\x22:\\\\x22watsonx Orchestrate\\\\x22,\\\\x22url\\\\x22:\\\\x22https:\\\\/\\\\/www.ibm.com\\\\/products\\\\/watsonx\\\\u002Dorchestrate?lnk=flatitem\\\\x22,\\\\x22description\\\\x22:\\\\x22Personal\\\\u002Dassistant software that automates repetitive tasks\\\\x22}]}]},{\\\\x22heading\\\\x22:{\\\\x22title\\\\x22:\\\\x22Containers\\\\x22,\\\\x22url\\\\x22:\\\\x22https:\\\\/\\\\/www.ibm.com\\\\/solutions\\\\/containers?lnk=flathl\\\\x22,\\\\x22description\\\\x22:\\\\x22Allocate compute infrastructure on demand\\\\x22},\\\\x22groups\\\\x22:[{\\\\x22heading\\\\x22:{\\\\x22title\\\\x22:\\\\x22\\\\x22,\\\\x22description\\\\x22:\\\\x22\\\\x22},\\\\x22links\\\\x22:[{\\\\x22title\\\\x22:\\\\x22Cloud Satellite\\\\x22,\\\\x22url\\\\x22:\\\\x22https:\\\\/\\\\/www.ibm.com\\\\/products\\\\/satellite?lnk=flatitem\\\\x22,\\\\x22description\\\\x22:\\\\x22Platform for running managed cloud services on any infrastructure\\\\x22},{\\\\x22title\\\\x22:\\\\x22Code Engine\\\\x22,\\\\x22url\\\\x22:\\\\x22https:\\\\/\\\\/www.ibm.com\\\\/products\\\\/code\\\\u002Dengine?lnk=flatitem\\\\x22,\\\\x22description\\\\x22:\\\\x22Managed serverless runtime for containers, batch jobs, or code\\\\x22},{\\\\x22title\\\\x22:\\\\x22Container Registry\\\\x22,\\\\x22url\\\\x22:\\\\x22https:\\\\/\\\\/www.ibm.com\\\\/products\\\\/container\\\\u002Dregistry?lnk=flatitem\\\\x22,\\\\x22description\\\\x22:\\\\x22Private SaaS registry for container storage and management\\\\x22},{\\\\x22title\\\\x22:\\\\x22Kubernetes Service\\\\x22,\\\\x22url\\\\x22:\\\\x22https:\\\\/\\\\/www.ibm.com\\\\/products\\\\/kubernetes\\\\u002Dservice?lnk=flatitem\\\\x22,\\\\x22description\\\\x22:\\\\x22Managed Kubernetes for high availability container deployments\\\\x22},{\\\\x22title\\\\x22:\\\\x22Red Hat OpenShift on IBM Cloud\\\\x22,\\\\x22url\\\\x22:\\\\x22https:\\\\/\\\\/www.ibm.com\\\\/products\\\\/openshift?lnk=flatitem\\\\x22,\\\\x22description\\\\x22:\\\\x22Managed service with tools for security, management and monitoring\\\\x22}]}]},{\\\\x22heading\\\\x22:{\\\\x22title\\\\x22:\\\\x22Databases\\\\x22,\\\\x22url\\\\x22:\\\\x22https:\\\\/\\\\/www.ibm.com\\\\/solutions\\\\/database\\\\x22,\\\\x22description\\\\x22:\\\\x22Store, query and analyze structured data\\\\x22},\\\\x22groups\\\\x22:[{\\\\x22heading\\\\x22:{\\\\x22title\\\\x22:\\\\x22\\\\x22,\\\\x22description\\\\x22:\\\\x22\\\\x22},\\\\x22links\\\\x22:[{\\\\x22title\\\\x22:\\\\x22Cloudant\\\\x22,\\\\x22url\\\\x22:\\\\x22https:\\\\/\\\\/www.ibm.com\\\\/products\\\\/cloudant?lnk=flatitem\\\\x22,\\\\x22description\\\\x22:\\\\x22Managed PCI\\\\u002Dcompliant JSON document store on Apache CouchDB\\\\x22},{\\\\x22title\\\\x22:\\\\x22Db2\\\\x22,\\\\x22url\\\\x22:\\\\x22https:\\\\/\\\\/www.ibm.com\\\\/products\\\\/db2\\\\u002Ddatabase?lnk=flatitem\\\\x22,\\\\x22description\\\\x22:\\\\x22Data management software including IBM Db2 Database\\\\x22},{\\\\x22title\\\\x22:\\\\x22Db2 for z\\\\/OS\\\\x22,\\\\x22url\\\\x22:\\\\x22https:\\\\/\\\\/www.ibm.com\\\\/products\\\\/db2\\\\u002Dfor\\\\u002Dzos?lnk=flatitem\\\\x22,\\\\x22description\\\\x22:\\\\x22IBM Db2 Database for IBM Z mainframes\\\\x22},{\\\\x22title\\\\x22:\\\\x22IBM Cloud Databases for Elastic Search\\\\x22,\\\\x22url\\\\x22:\\\\x22https:\\\\/\\\\/www.ibm.com\\\\/products\\\\/databases\\\\u002Dfor\\\\u002Delasticsearch?lnk=flatitem\\\\x22,\\\\x22description\\\\x22:\\\\x22JSON document store for full\\\\u002Dtext search\\\\x22},{\\\\x22title\\\\x22:\\\\x22IBM Cloud Databases for MongoDB\\\\x22,\\\\x22url\\\\x22:\\\\x22https:\\\\/\\\\/www.ibm.com\\\\/products\\\\/databases\\\\u002Dfor\\\\u002Dmongodb?lnk=flatitem\\\\x22,\\\\x22description\\\\x22:\\\\x22Managed NoSQL JSON document store\\\\x22},{\\\\x22title\\\\x22:\\\\x22IBM Cloud Databases for MySQL\\\\x22,\\\\x22url\\\\x22:\\\\x22https:\\\\/\\\\/www.ibm.com\\\\/products\\\\/databases\\\\u002Dfor\\\\u002Dmysql?lnk=flatitem\\\\x22,\\\\x22description\\\\x22:\\\\x22Managed SQL database\\\\x22},{\\\\x22title\\\\x22:\\\\x22IBM Cloud Databases for PostgreSQL\\\\x22,\\\\x22url\\\\x22:\\\\x22https:\\\\/\\\\/www.ibm.com\\\\/products\\\\/databases\\\\u002Dfor\\\\u002Dpostgresql?lnk=flatitem\\\\x22,\\\\x22description\\\\x22:\\\\x22Managed SQL database with advanced features\\\\x22},{\\\\x22title\\\\x22:\\\\x22Information Management System (IMS)\\\\x22,\\\\x22url\\\\x22:\\\\x22https:\\\\/\\\\/www.ibm.com\\\\/products\\\\/ims?lnk=flatitem\\\\x22,\\\\x22description\\\\x22:\\\\x22Database and management system for high\\\\u002Dvolume transactions\\\\x22},{\\\\x22title\\\\x22:\\\\x22Informix\\\\x22,\\\\x22url\\\\x22:\\\\x22https:\\\\/\\\\/www.ibm.com\\\\/products\\\\/informix?lnk=flatitem\\\\x22,\\\\x22description\\\\x22:\\\\x22Embeddable database for SQL, NoSQL, time\\\\u002Dseries and spatial data\\\\x22}]}]},{\\\\x22heading\\\\x22:{\\\\x22title\\\\x22:\\\\x22DevOps \\\\x26 Engineering\\\\x22,\\\\x22url\\\\x22:\\\\x22https:\\\\/\\\\/www.ibm.com\\\\/solutions\\\\/devops\\\\x22,\\\\x22description\\\\x22:\\\\x22Manage infrastructure, environments and deployments\\\\x22},\\\\x22groups\\\\x22:[{\\\\x22heading\\\\x22:{\\\\x22title\\\\x22:\\\\x22\\\\x22,\\\\x22description\\\\x22:\\\\x22\\\\x22},\\\\x22links\\\\x22:[{\\\\x22title\\\\x22:\\\\x22Application Delivery Foundation for z\\\\/OS\\\\x22,\\\\x22url\\\\x22:\\\\x22https:\\\\/\\\\/www.ibm.com\\\\/products\\\\/app\\\\u002Ddelivery\\\\u002Dfoundation\\\\u002Dfor\\\\u002Dzos?lnk=flatitem\\\\x22,\\\\x22description\\\\x22:\\\\x22Application development and DevOps tools for z\\\\/OS\\\\x22},{\\\\x22title\\\\x22:\\\\x22Application Discovery and Delivery Intelligence\\\\x22,\\\\x22url\\\\x22:\\\\x22https:\\\\/\\\\/www.ibm.com\\\\/products\\\\/app\\\\u002Ddiscovery\\\\u002Dand\\\\u002Ddelivery\\\\u002Dintelligence?lnk=flatitem\\\\x22,\\\\x22description\\\\x22:\\\\x22Analysis tool for visualizing applications, data and jobs on z\\\\/OS\\\\x22},{\\\\x22title\\\\x22:\\\\x22Cloud Continuous Delivery\\\\x22,\\\\x22url\\\\x22:\\\\x22https:\\\\/\\\\/www.ibm.com\\\\/products\\\\/continuous\\\\u002Ddelivery?lnk=flatitem\\\\x22,\\\\x22description\\\\x22:\\\\x22Toolchains to automate building and deploying applications\\\\x22},{\\\\x22title\\\\x22:\\\\x22Cloud Pak for AIOps\\\\x22,\\\\x22url\\\\x22:\\\\x22https:\\\\/\\\\/www.ibm.com\\\\/products\\\\/cloud\\\\u002Dpak\\\\u002Dfor\\\\u002Daiops?lnk=flatitem\\\\x22,\\\\x22description\\\\x22:\\\\x22DevOps management tool with AI analysis and recommendations\\\\x22},{\\\\x22title\\\\x22:\\\\x22DevOps Build\\\\x22,\\\\x22url\\\\x22:\\\\x22https:\\\\/\\\\/www.ibm.com\\\\/products\\\\/devops\\\\u002Dbuild?lnk=flatitem\\\\x22,\\\\x22description\\\\x22:\\\\x22Management tool for configuring and running software builds\\\\x22},{\\\\x22title\\\\x22:\\\\x22DevOps Code ClearCase\\\\x22,\\\\x22url\\\\x22:\\\\x22https:\\\\/\\\\/www.ibm.com\\\\/products\\\\/devops\\\\u002Dcode\\\\u002Dclearcase?lnk=flatitem\\\\x22,\\\\x22description\\\\x22:\\\\x22Configuration management system for software asset access control\\\\x22},{\\\\x22title\\\\x22:\\\\x22DevOps Deploy\\\\x22,\\\\x22url\\\\x22:\\\\x22https:\\\\/\\\\/www.ibm.com\\\\/products\\\\/devops\\\\u002Ddeploy?lnk=flatitem\\\\x22,\\\\x22description\\\\x22:\\\\x22Automation software for continuous delivery and deployment\\\\x22},{\\\\x22title\\\\x22:\\\\x22DevOps Plan\\\\x22,\\\\x22url\\\\x22:\\\\x22https:\\\\/\\\\/www.ibm.com\\\\/products\\\\/devops\\\\u002Dplan?lnk=flatitem\\\\x22,\\\\x22description\\\\x22:\\\\x22Streamline delivery with low\\\\u002Dcode workflow management\\\\x22},{\\\\x22title\\\\x22:\\\\x22DevOps Test\\\\x22,\\\\x22url\\\\x22:\\\\x22https:\\\\/\\\\/www.ibm.com\\\\/products\\\\/devops\\\\u002Dtest?lnk=flatitem\\\\x22,\\\\x22description\\\\x22:\\\\x22Continuous testing and virtualization platform\\\\x22},{\\\\x22title\\\\x22:\\\\x22DevOps Velocity\\\\x22,\\\\x22url\\\\x22:\\\\x22https:\\\\/\\\\/www.ibm.com\\\\/products\\\\/devops\\\\u002Dvelocity?lnk=flatitem\\\\x22,\\\\x22description\\\\x22:\\\\x22Release management software for pipeline orchestration and analytics\\\\x22},{\\\\x22title\\\\x22:\\\\x22Engineering Lifecycle Management\\\\x22,\\\\x22url\\\\x22:\\\\x22https:\\\\/\\\\/www.ibm.com\\\\/products\\\\/engineering\\\\u002Dlifecycle\\\\u002Dmanagement?lnk=flatitem\\\\x22,\\\\x22description\\\\x22:\\\\x22Software for product and application lifecycle management\\\\x22},{\\\\x22title\\\\x22:\\\\x22IBM DevOps Automation\\\\x22,\\\\x22url\\\\x22:\\\\x22https:\\\\/\\\\/www.ibm.com\\\\/devops\\\\u002Dautomation?lnk=flatitem\\\\x22,\\\\x22description\\\\x22:\\\\x22Automate software delivery processes\\\\x22},{\\\\x22title\\\\x22:\\\\x22IBM i Modernization Engine\\\\x22,\\\\x22url\\\\x22:\\\\x22https:\\\\/\\\\/www.ibm.com\\\\/products\\\\/ibm\\\\u002Di\\\\u002Dmerlin?lnk=flatitem\\\\x22,\\\\x22description\\\\x22:\\\\x22Development and modernization tools for IBM i applications\\\\x22},{\\\\x22title\\\\x22:\\\\x22Test Accelerator for Z\\\\x22,\\\\x22url\\\\x22:\\\\x22https:\\\\/\\\\/www.ibm.com\\\\/products\\\\/test\\\\u002Daccelerator\\\\u002Dz?lnk=flatitem\\\\x22,\\\\x22description\\\\x22:\\\\x22Test automation and test generation framework for z\\\\/OS\\\\x22}]}]},{\\\\x22heading\\\\x22:{\\\\x22title\\\\x22:\\\\x22IT automation\\\\x22,\\\\x22url\\\\x22:\\\\x22https:\\\\/\\\\/www.ibm.com\\\\/solutions\\\\/automation\\\\x22,\\\\x22description\\\\x22:\\\\x22Automate IT applications and infrastructure management\\\\x22},\\\\x22groups\\\\x22:[{\\\\x22heading\\\\x22:{\\\\x22title\\\\x22:\\\\x22\\\\x22,\\\\x22description\\\\x22:\\\\x22\\\\x22},\\\\x22links\\\\x22:[{\\\\x22title\\\\x22:\\\\x22Apptio\\\\x22,\\\\x22url\\\\x22:\\\\x22https:\\\\/\\\\/www.ibm.com\\\\/products\\\\/apptio?lnk=flatitem\\\\x22,\\\\x22description\\\\x22:\\\\x22Hybrid cloud financial management and planning software\\\\x22},{\\\\x22title\\\\x22:\\\\x22Cloud App Configuration\\\\x22,\\\\x22url\\\\x22:\\\\x22https:\\\\/\\\\/www.ibm.com\\\\/products\\\\/app\\\\u002Dconfiguration?lnk=flatitem\\\\x22,\\\\x22description\\\\x22:\\\\x22Feature management and configuration service for web and mobile apps\\\\x22},{\\\\x22title\\\\x22:\\\\x22Cloud Event Notifications\\\\x22,\\\\x22url\\\\x22:\\\\x22https:\\\\/\\\\/www.ibm.com\\\\/products\\\\/event\\\\u002Dnotifications?lnk=flatitem\\\\x22,\\\\x22description\\\\x22:\\\\x22Notification and workflow automation service for IBM Cloud events\\\\x22},{\\\\x22title\\\\x22:\\\\x22Cloud Logs\\\\x22,\\\\x22url\\\\x22:\\\\x22https:\\\\/\\\\/www.ibm.com\\\\/products\\\\/cloud\\\\u002Dlogs?lnk=flatitem\\\\x22,\\\\x22description\\\\x22:\\\\x22Logging and observability service for applications and infrastructure\\\\x22},{\\\\x22title\\\\x22:\\\\x22Cloud Monitoring\\\\x22,\\\\x22url\\\\x22:\\\\x22https:\\\\/\\\\/www.ibm.com\\\\/products\\\\/cloud\\\\u002Dmonitoring?lnk=flatitem\\\\x22,\\\\x22description\\\\x22:\\\\x22Hosted monitoring tool for organization\\\\u002Dwide system performance\\\\x22},{\\\\x22title\\\\x22:\\\\x22Cloud Pak for AIOps\\\\x22,\\\\x22url\\\\x22:\\\\x22https:\\\\/\\\\/www.ibm.com\\\\/products\\\\/cloud\\\\u002Dpak\\\\u002Dfor\\\\u002Daiops?lnk=flatitem\\\\x22,\\\\x22description\\\\x22:\\\\x22DevOps management tool with AI analysis and recommendations\\\\x22},{\\\\x22title\\\\x22:\\\\x22Cloud Schematics\\\\x22,\\\\x22url\\\\x22:\\\\x22https:\\\\/\\\\/www.ibm.com\\\\/products\\\\/schematics?lnk=flatitem\\\\x22,\\\\x22description\\\\x22:\\\\x22Management and provisionining of cloud infrastructure with code\\\\x22},{\\\\x22title\\\\x22:\\\\x22Concert\\\\x22,\\\\x22url\\\\x22:\\\\x22https:\\\\/\\\\/www.ibm.com\\\\/products\\\\/concert?lnk=flatitem\\\\x22,\\\\x22description\\\\x22:\\\\x22Software to manage applications, mitigate risks and enhance resilience\\\\x22},{\\\\x22title\\\\x22:\\\\x22Flexera One\\\\x22,\\\\x22url\\\\x22:\\\\x22https:\\\\/\\\\/www.ibm.com\\\\/products\\\\/flexera\\\\u002Done?lnk=flatitem\\\\x22,\\\\x22description\\\\x22:\\\\x22IT asset management software\\\\x22},{\\\\x22title\\\\x22:\\\\x22HashiCorp\\\\x22,\\\\x22url\\\\x22:\\\\x22https:\\\\/\\\\/www.ibm.com\\\\/products\\\\/hashicorp?lnk=flatitem\\\\x22,\\\\x22description\\\\x22:\\\\x22Manage cloud infrastructure and security\\\\x22},{\\\\x22title\\\\x22:\\\\x22Instana\\\\x22,\\\\x22url\\\\x22:\\\\x22https:\\\\/\\\\/www.ibm.com\\\\/products\\\\/instana?lnk=flatitem\\\\x22,\\\\x22description\\\\x22:\\\\x22Software for application performance monitoring and automation\\\\x22},{\\\\x22title\\\\x22:\\\\x22Turbonomic\\\\x22,\\\\x22url\\\\x22:\\\\x22https:\\\\/\\\\/www.ibm.com\\\\/products\\\\/turbonomic?lnk=flatitem\\\\x22,\\\\x22description\\\\x22:\\\\x22Software to manage and optimize IT resource usage\\\\x22},{\\\\x22title\\\\x22:\\\\x22Z IntelliMagic Vision for z\\\\/OS\\\\x22,\\\\x22url\\\\x22:\\\\x22https:\\\\/\\\\/www.ibm.com\\\\/products\\\\/z\\\\u002Dintellimagic\\\\u002Dvision\\\\u002Dfor\\\\u002Dzos?lnk=flatitem\\\\x22,\\\\x22description\\\\x22:\\\\x22Infrastructure performance management and monitoring software\\\\x22},{\\\\x22title\\\\x22:\\\\x22Z Service Management Suite\\\\x22,\\\\x22url\\\\x22:\\\\x22https:\\\\/\\\\/www.ibm.com\\\\/products\\\\/z\\\\u002Dservice\\\\u002Dmanagement\\\\u002Dsuite?lnk=flatitem\\\\x22,\\\\x22description\\\\x22:\\\\x22Monitoring, control, and automation suite for Z\\\\x22}]}]},{\\\\x22heading\\\\x22:{\\\\x22title\\\\x22:\\\\x22Middleware\\\\x22,\\\\x22url\\\\x22:\\\\x22https:\\\\/\\\\/www.ibm.com\\\\/solutions\\\\/automation\\\\x22,\\\\x22description\\\\x22:\\\\x22Connect your applications, data and events\\\\x22},\\\\x22groups\\\\x22:[{\\\\x22heading\\\\x22:{\\\\x22title\\\\x22:\\\\x22\\\\x22,\\\\x22description\\\\x22:\\\\x22\\\\x22},\\\\x22links\\\\x22:[{\\\\x22title\\\\x22:\\\\x22API Connect\\\\x22,\\\\x22url\\\\x22:\\\\x22https:\\\\/\\\\/www.ibm.com\\\\/products\\\\/api\\\\u002Dconnect?lnk=flatitem\\\\x22,\\\\x22description\\\\x22:\\\\x22Software to rapidly create, protect, socialize and manage APIs\\\\x22},{\\\\x22title\\\\x22:\\\\x22App Connect\\\\x22,\\\\x22url\\\\x22:\\\\x22https:\\\\/\\\\/www.ibm.com\\\\/products\\\\/app\\\\u002Dconnect?lnk=flatitem\\\\x22,\\\\x22description\\\\x22:\\\\x22Codeless connectors for your data, apps and APIs\\\\x22},{\\\\x22title\\\\x22:\\\\x22Aspera\\\\x22,\\\\x22url\\\\x22:\\\\x22https:\\\\/\\\\/www.ibm.com\\\\/products\\\\/aspera?lnk=flatitem\\\\x22,\\\\x22description\\\\x22:\\\\x22System to transfer, sync or stream huge data globally\\\\x22},{\\\\x22title\\\\x22:\\\\x22CICS Transaction Server for z\\\\/OS\\\\x22,\\\\x22url\\\\x22:\\\\x22https:\\\\/\\\\/www.ibm.com\\\\/products\\\\/cics\\\\u002Dtransaction\\\\u002Dserver?lnk=flatitem\\\\x22,\\\\x22description\\\\x22:\\\\x22Application server for online transaction processing\\\\x22},{\\\\x22title\\\\x22:\\\\x22Cloud Pak for Applications\\\\x22,\\\\x22url\\\\x22:\\\\x22https:\\\\/\\\\/www.ibm.com\\\\/products\\\\/cloud\\\\u002Dpak\\\\u002Dfor\\\\u002Dapplications?lnk=flatitem\\\\x22,\\\\x22description\\\\x22:\\\\x22Kubernetes\\\\u002Dbased platform for hybrid cloud applications\\\\x22},{\\\\x22title\\\\x22:\\\\x22Cloud Pak for Integration\\\\x22,\\\\x22url\\\\x22:\\\\x22https:\\\\/\\\\/www.ibm.com\\\\/products\\\\/cloud\\\\u002Dpak\\\\u002Dfor\\\\u002Dintegration?lnk=flatitem\\\\x22,\\\\x22description\\\\x22:\\\\x22Tools to connect all of your apps, data and events\\\\x22},{\\\\x22title\\\\x22:\\\\x22DataPower\\\\x22,\\\\x22url\\\\x22:\\\\x22https:\\\\/\\\\/www.ibm.com\\\\/products\\\\/datapower\\\\u002Dgateway?lnk=flatitem\\\\x22,\\\\x22description\\\\x22:\\\\x22Physical or virtual multi\\\\u002Dprotocol network gateway\\\\x22},{\\\\x22title\\\\x22:\\\\x22Event Automation\\\\x22,\\\\x22url\\\\x22:\\\\x22https:\\\\/\\\\/www.ibm.com\\\\/products\\\\/event\\\\u002Dautomation?lnk=flatitem\\\\x22,\\\\x22description\\\\x22:\\\\x22No\\\\u002Dcode tool for building automated event driven workflows\\\\x22},{\\\\x22title\\\\x22:\\\\x22Event Streams\\\\x22,\\\\x22url\\\\x22:\\\\x22https:\\\\/\\\\/www.ibm.com\\\\/products\\\\/event\\\\u002Dstreams?lnk=flatitem\\\\x22,\\\\x22description\\\\x22:\\\\x22PaaS stream processing based on Apache Kafka\\\\x22},{\\\\x22title\\\\x22:\\\\x22IBM Cloud Messages for RabbitMQ\\\\x22,\\\\x22url\\\\x22:\\\\x22https:\\\\/\\\\/www.ibm.com\\\\/products\\\\/messages\\\\u002Dfor\\\\u002Drabbitmq?lnk=flatitem\\\\x22,\\\\x22description\\\\x22:\\\\x22Managed open\\\\u002Dsource message broker\\\\x22},{\\\\x22title\\\\x22:\\\\x22IBM Sterling \\\\u002D Data Exchange\\\\x22,\\\\x22url\\\\x22:\\\\x22https:\\\\/\\\\/www.ibm.com\\\\/sterling\\\\x22,\\\\x22description\\\\x22:\\\\x22B2B Integration\\\\/EDI and managed file transfer software and SaaS\\\\x22},{\\\\x22title\\\\x22:\\\\x22IBM webMethods Hybrid Integration\\\\x22,\\\\x22url\\\\x22:\\\\x22https:\\\\/\\\\/www.ibm.com\\\\/products\\\\/webmethods\\\\u002Dhybrid\\\\u002Dintegration?lnk=flatitem\\\\x22,\\\\x22description\\\\x22:\\\\x22AI powered automation software to unify integration workflows\\\\x22},{\\\\x22title\\\\x22:\\\\x22Information Management System\\\\x22,\\\\x22url\\\\x22:\\\\x22https:\\\\/\\\\/www.ibm.com\\\\/products\\\\/ims?lnk=flatitem\\\\x22,\\\\x22description\\\\x22:\\\\x22Hierarchical database and transaction processor for Z\\\\x22},{\\\\x22title\\\\x22:\\\\x22MQ\\\\x22,\\\\x22url\\\\x22:\\\\x22https:\\\\/\\\\/www.ibm.com\\\\/products\\\\/mq?lnk=flatitem\\\\x22,\\\\x22description\\\\x22:\\\\x22Software and hardware for messaging between distributed systems\\\\x22},{\\\\x22title\\\\x22:\\\\x22z\\\\/OS Connect\\\\x22,\\\\x22url\\\\x22:\\\\x22https:\\\\/\\\\/www.ibm.com\\\\/products\\\\/zos\\\\u002Dconnect?lnk=flatitem\\\\x22,\\\\x22description\\\\x22:\\\\x22Software to build and serve RESTful APIs to z\\\\/OS applications\\\\x22}]}]},{\\\\x22heading\\\\x22:{\\\\x22title\\\\x22:\\\\x22Network\\\\x22,\\\\x22url\\\\x22:\\\\x22https:\\\\/\\\\/www.ibm.com\\\\/network\\\\u002Dmanagement?lnk=flathl\\\\x22,\\\\x22description\\\\x22:\\\\x22Run and manage public, private and virtual networks\\\\x22},\\\\x22groups\\\\x22:[{\\\\x22heading\\\\x22:{\\\\x22title\\\\x22:\\\\x22\\\\x22,\\\\x22description\\\\x22:\\\\x22\\\\x22},\\\\x22links\\\\x22:[{\\\\x22title\\\\x22:\\\\x22Hybrid Cloud Mesh\\\\x22,\\\\x22url\\\\x22:\\\\x22https:\\\\/\\\\/www.ibm.com\\\\/products\\\\/hybrid\\\\u002Dcloud\\\\u002Dmesh?lnk=flatitem\\\\x22,\\\\x22description\\\\x22:\\\\x22Accelerate hybrid cloud application connectivity\\\\x22},{\\\\x22title\\\\x22:\\\\x22NS1 Connect\\\\x22,\\\\x22url\\\\x22:\\\\x22https:\\\\/\\\\/www.ibm.com\\\\/products\\\\/ns1\\\\u002Dconnect?lnk=flatitem\\\\x22,\\\\x22description\\\\x22:\\\\x22Managed authoritative DNS for traffic steering\\\\x22},{\\\\x22title\\\\x22:\\\\x22SevOne\\\\x22,\\\\x22url\\\\x22:\\\\x22https:\\\\/\\\\/www.ibm.com\\\\/products\\\\/sevone\\\\u002Dnetwork\\\\u002Dperformance\\\\u002Dmanagement?lnk=flatitem\\\\x22,\\\\x22description\\\\x22:\\\\x22Drive application\\\\u002Dcentric network observability\\\\x22}]}]},{\\\\x22heading\\\\x22:{\\\\x22title\\\\x22:\\\\x22Operating systems\\\\x22,\\\\x22description\\\\x22:\\\\x22Run critical workloads on specialized operating systems\\\\x22},\\\\x22groups\\\\x22:[{\\\\x22heading\\\\x22:{\\\\x22title\\\\x22:\\\\x22\\\\x22,\\\\x22description\\\\x22:\\\\x22\\\\x22},\\\\x22links\\\\x22:[{\\\\x22title\\\\x22:\\\\x22AIX\\\\x22,\\\\x22url\\\\x22:\\\\x22https:\\\\/\\\\/www.ibm.com\\\\/products\\\\/aix?lnk=flatitem\\\\x22,\\\\x22description\\\\x22:\\\\x22UNIX operating system for Power servers\\\\x22},{\\\\x22title\\\\x22:\\\\x22IBM i\\\\x22,\\\\x22url\\\\x22:\\\\x22https:\\\\/\\\\/www.ibm.com\\\\/products\\\\/ibm\\\\u002Di?lnk=flatitem\\\\x22,\\\\x22description\\\\x22:\\\\x22Integrated operating system for Power servers\\\\x22},{\\\\x22title\\\\x22:\\\\x22Linux\\\\x22,\\\\x22url\\\\x22:\\\\x22https:\\\\/\\\\/www.ibm.com\\\\/linux?lnk=flatitem\\\\x22,\\\\x22description\\\\x22:\\\\x22Run Linux workloads on IBM servers\\\\x22},{\\\\x22title\\\\x22:\\\\x22z\\\\/OS\\\\x22,\\\\x22url\\\\x22:\\\\x22https:\\\\/\\\\/www.ibm.com\\\\/products\\\\/zos?lnk=flatitem\\\\x22,\\\\x22description\\\\x22:\\\\x22Flagship OS for continuous, high\\\\u002Dvolume mainframe operation\\\\x22},{\\\\x22title\\\\x22:\\\\x22z\\\\/TPF\\\\x22,\\\\x22url\\\\x22:\\\\x22https:\\\\/\\\\/www.ibm.com\\\\/products\\\\/z\\\\u002Dtransaction\\\\u002Dprocessing\\\\u002Dfacility?lnk=flatitem\\\\x22,\\\\x22description\\\\x22:\\\\x22Real\\\\u002Dtime operating system for mainframes\\\\x22},{\\\\x22title\\\\x22:\\\\x22z\\\\/VM\\\\x22,\\\\x22url\\\\x22:\\\\x22https:\\\\/\\\\/www.ibm.com\\\\/products\\\\/zvm?lnk=flatitem\\\\x22,\\\\x22description\\\\x22:\\\\x22Hypervisor and virtualization software for IBM Z and LinuxONE\\\\x22}]}]},{\\\\x22heading\\\\x22:{\\\\x22title\\\\x22:\\\\x22Quantum\\\\x22,\\\\x22url\\\\x22:\\\\x22https:\\\\/\\\\/www.ibm.com\\\\/quantum?lnk=flathl\\\\x22,\\\\x22description\\\\x22:\\\\x22Use IBM quantum computing technology to explore applications for the era of quantum advantage\\\\x22},\\\\x22groups\\\\x22:[{\\\\x22heading\\\\x22:{\\\\x22title\\\\x22:\\\\x22\\\\x22,\\\\x22description\\\\x22:\\\\x22\\\\x22},\\\\x22links\\\\x22:[{\\\\x22title\\\\x22:\\\\x22IBM Quantum Platform\\\\x22,\\\\x22url\\\\x22:\\\\x22https:\\\\/\\\\/quantum.cloud.ibm.com\\\\/\\\\x22,\\\\x22description\\\\x22:\\\\x22Get access to IBM quantum computers and learning resources\\\\x22},{\\\\x22title\\\\x22:\\\\x22Qiskit\\\\x22,\\\\x22url\\\\x22:\\\\x22https:\\\\/\\\\/www.ibm.com\\\\/quantum\\\\/qiskit?lnk=flatitem\\\\x22,\\\\x22description\\\\x22:\\\\x22Research quantum applications with full stack software and development tools\\\\x22},{\\\\x22title\\\\x22:\\\\x22Quantum Safe\\\\x22,\\\\x22url\\\\x22:\\\\x22https:\\\\/\\\\/www.ibm.com\\\\/quantum\\\\/quantum\\\\u002Dsafe?lnk=flatitem\\\\x22,\\\\x22description\\\\x22:\\\\x22Services and tools to help organizations secure data for the quantum era\\\\x22},{\\\\x22title\\\\x22:\\\\x22Technology\\\\x22,\\\\x22url\\\\x22:\\\\x22https:\\\\/\\\\/www.ibm.com\\\\/quantum\\\\/technology?lnk=flatitem\\\\x22,\\\\x22description\\\\x22:\\\\x22Learn about IBM quantum computing hardware and software\\\\x22}]}]},{\\\\x22heading\\\\x22:{\\\\x22title\\\\x22:\\\\x22Security \\\\x26 identity\\\\x22,\\\\x22url\\\\x22:\\\\x22https:\\\\/\\\\/www.ibm.com\\\\/solutions\\\\/security?lnk=flathl\\\\x22,\\\\x22description\\\\x22:\\\\x22Cloud\\\\u002Dnative software to secure resources and simplify compliance\\\\x22},\\\\x22groups\\\\x22:[{\\\\x22heading\\\\x22:{\\\\x22title\\\\x22:\\\\x22\\\\x22,\\\\x22description\\\\x22:\\\\x22\\\\x22},\\\\x22links\\\\x22:[{\\\\x22title\\\\x22:\\\\x22Cloud AppID\\\\x22,\\\\x22url\\\\x22:\\\\x22https:\\\\/\\\\/www.ibm.com\\\\/products\\\\/app\\\\u002Did?lnk=flatitem\\\\x22,\\\\x22description\\\\x22:\\\\x22Authentication and user profiles as a service for mobile and web apps\\\\x22},{\\\\x22title\\\\x22:\\\\x22Cloud Security and Compliance Center\\\\x22,\\\\x22url\\\\x22:\\\\x22https:\\\\/\\\\/www.ibm.com\\\\/products\\\\/security\\\\u002Dand\\\\u002Dcompliance\\\\u002Dcenter?lnk=flatitem\\\\x22,\\\\x22description\\\\x22:\\\\x22SaaS to define and audit the compliance posture of your cloud\\\\x22},{\\\\x22title\\\\x22:\\\\x22Guardium\\\\x22,\\\\x22url\\\\x22:\\\\x22https:\\\\/\\\\/www.ibm.com\\\\/guardium?lnk=flatitem\\\\x22,\\\\x22description\\\\x22:\\\\x22Suite for data encryption, management and simplified compliance\\\\x22},{\\\\x22title\\\\x22:\\\\x22Key Protect for IBM Cloud\\\\x22,\\\\x22url\\\\x22:\\\\x22https:\\\\/\\\\/www.ibm.com\\\\/products\\\\/key\\\\u002Dprotect?lnk=flatitem\\\\x22,\\\\x22description\\\\x22:\\\\x22Tool to provision and store keys for apps across IBM Cloud services\\\\x22},{\\\\x22title\\\\x22:\\\\x22MaaS360\\\\x22,\\\\x22url\\\\x22:\\\\x22https:\\\\/\\\\/www.ibm.com\\\\/products\\\\/maas360?lnk=flatitem\\\\x22,\\\\x22description\\\\x22:\\\\x22Unified endpoint management for mobile workforces\\\\x22},{\\\\x22title\\\\x22:\\\\x22QRadar EDR\\\\x22,\\\\x22url\\\\x22:\\\\x22https:\\\\/\\\\/www.ibm.com\\\\/products\\\\/qradar\\\\u002Dedr?lnk=flatitem\\\\x22,\\\\x22description\\\\x22:\\\\x22Advanced AI threat detection and response for endpoints\\\\x22},{\\\\x22title\\\\x22:\\\\x22QRadar SIEM\\\\x22,\\\\x22url\\\\x22:\\\\x22https:\\\\/\\\\/www.ibm.com\\\\/products\\\\/qradar\\\\u002Dsiem?lnk=flatitem\\\\x22,\\\\x22description\\\\x22:\\\\x22Threat detection and prioritization for real\\\\u002Dtime visibility\\\\x22},{\\\\x22title\\\\x22:\\\\x22QRadar SOAR\\\\x22,\\\\x22url\\\\x22:\\\\x22https:\\\\/\\\\/www.ibm.com\\\\/products\\\\/qradar\\\\u002Dsoar?lnk=flatitem\\\\x22,\\\\x22description\\\\x22:\\\\x22Automation and workflow management for security operations\\\\x22},{\\\\x22title\\\\x22:\\\\x22Secrets Manager\\\\x22,\\\\x22url\\\\x22:\\\\x22https:\\\\/\\\\/www.ibm.com\\\\/products\\\\/secrets\\\\u002Dmanager\\\\x22,\\\\x22description\\\\x22:\\\\x22Centrally manage your secrets in a single\\\\u002Dtenant, dedicated instance\\\\x22},{\\\\x22title\\\\x22:\\\\x22Trusteer\\\\x22,\\\\x22url\\\\x22:\\\\x22https:\\\\/\\\\/www.ibm.com\\\\/trusteer?lnk=flatitem\\\\x22,\\\\x22description\\\\x22:\\\\x22Software to authenticate customers, detect fraud and assess risk\\\\x22},{\\\\x22title\\\\x22:\\\\x22Verify\\\\x22,\\\\x22url\\\\x22:\\\\x22https:\\\\/\\\\/www.ibm.com\\\\/verify?lnk=flatitem\\\\x22,\\\\x22description\\\\x22:\\\\x22Identity, authentication, and access control software\\\\x22},{\\\\x22title\\\\x22:\\\\x22zSecure\\\\x22,\\\\x22url\\\\x22:\\\\x22https:\\\\/\\\\/www.ibm.com\\\\/zsecure?lnk=flatitem\\\\x22,\\\\x22description\\\\x22:\\\\x22Security, risk management and compliance tools for Z hardware\\\\x22}]}]},{\\\\x22heading\\\\x22:{\\\\x22title\\\\x22:\\\\x22Servers\\\\x22,\\\\x22url\\\\x22:\\\\x22https:\\\\/\\\\/www.ibm.com\\\\/solutions\\\\/servers?lnk=flathl\\\\x22,\\\\x22description\\\\x22:\\\\x22Run workloads on hybrid cloud infrastructure\\\\x22},\\\\x22groups\\\\x22:[{\\\\x22heading\\\\x22:{\\\\x22title\\\\x22:\\\\x22\\\\x22,\\\\x22description\\\\x22:\\\\x22\\\\x22},\\\\x22links\\\\x22:[{\\\\x22title\\\\x22:\\\\x22GPUs and AI Accelerators\\\\x22,\\\\x22url\\\\x22:\\\\x22https:\\\\/\\\\/www.ibm.com\\\\/cloud\\\\/gpu\\\\u002Dai\\\\u002Daccelerator\\\\x22,\\\\x22description\\\\x22:\\\\x22Access GPUs and AI Accelerators from NVIDIA, Intel Gaudi 3 and AMD\\\\x22},{\\\\x22title\\\\x22:\\\\x22IBM Cloud Bare Metal Servers\\\\x22,\\\\x22url\\\\x22:\\\\x22https:\\\\/\\\\/www.ibm.com\\\\/products\\\\/bare\\\\u002Dmetal\\\\u002Dservers?lnk=flatitem\\\\x22,\\\\x22description\\\\x22:\\\\x22Dedicated hardware for maximum performance\\\\x22},{\\\\x22title\\\\x22:\\\\x22IBM Cloud Virtual Servers for VPC\\\\x22,\\\\x22url\\\\x22:\\\\x22https:\\\\/\\\\/www.ibm.com\\\\/products\\\\/virtual\\\\u002Dservers?lnk=flatitem\\\\x22,\\\\x22description\\\\x22:\\\\x22Virtual servers with Intel Xeon or IBM Z CPUs\\\\x22},{\\\\x22title\\\\x22:\\\\x22LinuxONE 5\\\\x22,\\\\x22url\\\\x22:\\\\x22https:\\\\/\\\\/www.ibm.com\\\\/products\\\\/linuxone\\\\u002D5?lnk=flatitem\\\\x22,\\\\x22description\\\\x22:\\\\x22Physical and virtual servers for running Linux\\\\x22},{\\\\x22title\\\\x22:\\\\x22Power\\\\x22,\\\\x22url\\\\x22:\\\\x22https:\\\\/\\\\/www.ibm.com\\\\/power?lnk=flatitem\\\\x22,\\\\x22description\\\\x22:\\\\x22Physical and virtual servers with IBM Power CPUs\\\\x22},{\\\\x22title\\\\x22:\\\\x22z17\\\\x22,\\\\x22url\\\\x22:\\\\x22https:\\\\/\\\\/www.ibm.com\\\\/products\\\\/z17?lnk=flatitem\\\\x22,\\\\x22description\\\\x22:\\\\x22Flagship mainframe with on\\\\u002Dchip AI and quantum\\\\u002Dsafe cryptography\\\\x22}]}]},{\\\\x22heading\\\\x22:{\\\\x22title\\\\x22:\\\\x22Storage\\\\x22,\\\\x22url\\\\x22:\\\\x22https:\\\\/\\\\/www.ibm.com\\\\/solutions\\\\/storage?lnk=flathl\\\\x22,\\\\x22description\\\\x22:\\\\x22Software, hardware and services for critical and operational workloads and data\\\\x22},\\\\x22groups\\\\x22:[{\\\\x22heading\\\\x22:{\\\\x22title\\\\x22:\\\\x22\\\\x22,\\\\x22description\\\\x22:\\\\x22\\\\x22},\\\\x22links\\\\x22:[{\\\\x22title\\\\x22:\\\\x22Ceph\\\\x22,\\\\x22url\\\\x22:\\\\x22https:\\\\/\\\\/www.ibm.com\\\\/products\\\\/storage\\\\u002Dceph?lnk=flatitem\\\\x22,\\\\x22description\\\\x22:\\\\x22Multi\\\\u002Dprotocol software\\\\u002Ddefined enterprise storage platform\\\\x22},{\\\\x22title\\\\x22:\\\\x22Cloud Block Storage\\\\x22,\\\\x22url\\\\x22:\\\\x22https:\\\\/\\\\/www.ibm.com\\\\/products\\\\/block\\\\u002Dstorage?lnk=flatitem\\\\x22,\\\\x22description\\\\x22:\\\\x22Managed service optimized for low latency and high transfer rates\\\\x22},{\\\\x22title\\\\x22:\\\\x22Cloud File Storage\\\\x22,\\\\x22url\\\\x22:\\\\x22https:\\\\/\\\\/www.ibm.com\\\\/products\\\\/file\\\\u002Dstorage?lnk=flatitem\\\\x22,\\\\x22description\\\\x22:\\\\x22Managed service for flash\\\\u002Dbacked, durable, NFS\\\\u002Dbased file storage\\\\x22},{\\\\x22title\\\\x22:\\\\x22Cloud Object Storage\\\\x22,\\\\x22url\\\\x22:\\\\x22https:\\\\/\\\\/www.ibm.com\\\\/products\\\\/cloud\\\\u002Dobject\\\\u002Dstorage?lnk=flatitem\\\\x22,\\\\x22description\\\\x22:\\\\x22Unstructured data storage accessible via cloud APIs\\\\x22},{\\\\x22title\\\\x22:\\\\x22DS8000\\\\x22,\\\\x22url\\\\x22:\\\\x22https:\\\\/\\\\/www.ibm.com\\\\/products\\\\/ds8000?lnk=flatitem\\\\x22,\\\\x22description\\\\x22:\\\\x22High\\\\u002Dcapacity, high\\\\u002Davailability mainframe storage system\\\\x22},{\\\\x22title\\\\x22:\\\\x22Defender\\\\x22,\\\\x22url\\\\x22:\\\\x22https:\\\\/\\\\/www.ibm.com\\\\/products\\\\/storage\\\\u002Ddefender?lnk=flatitem\\\\x22,\\\\x22description\\\\x22:\\\\x22Data resiliency software for threat detection and data recovery\\\\x22},{\\\\x22title\\\\x22:\\\\x22FlashSystem\\\\x22,\\\\x22url\\\\x22:\\\\x22https:\\\\/\\\\/www.ibm.com\\\\/products\\\\/flashsystem?lnk=flatitem\\\\x22,\\\\x22description\\\\x22:\\\\x22All\\\\u002Dflash array with performance and capacity for any workload\\\\x22},{\\\\x22title\\\\x22:\\\\x22Fusion\\\\x22,\\\\x22url\\\\x22:\\\\x22https:\\\\/\\\\/www.ibm.com\\\\/products\\\\/storage\\\\u002Dfusion?lnk=flatitem\\\\x22,\\\\x22description\\\\x22:\\\\x22Container\\\\u002Dnative storage and data orchestration for OpenShift\\\\x22},{\\\\x22title\\\\x22:\\\\x22Insights\\\\x22,\\\\x22url\\\\x22:\\\\x22https:\\\\/\\\\/www.ibm.com\\\\/products\\\\/storage\\\\u002Dinsights?lnk=flatitem\\\\x22,\\\\x22description\\\\x22:\\\\x22Storage AIOps for metrics\\\\u002Dpowered analysis and decisions\\\\x22},{\\\\x22title\\\\x22:\\\\x22Protect\\\\x22,\\\\x22url\\\\x22:\\\\x22https:\\\\/\\\\/www.ibm.com\\\\/products\\\\/storage\\\\u002Dprotect?lnk=flatitem\\\\x22,\\\\x22description\\\\x22:\\\\x22Data resiliency, backup and recovery delivered via SaaS\\\\x22},{\\\\x22title\\\\x22:\\\\x22Protect for Cloud\\\\x22,\\\\x22url\\\\x22:\\\\x22https:\\\\/\\\\/www.ibm.com\\\\/products\\\\/storage\\\\u002Dprotect\\\\u002Dfor\\\\u002Dcloud?lnk=flatitem\\\\x22,\\\\x22description\\\\x22:\\\\x22Backup and recovery SaaS for data in public cloud services\\\\x22},{\\\\x22title\\\\x22:\\\\x22SAN Switches\\\\x22,\\\\x22url\\\\x22:\\\\x22https:\\\\/\\\\/www.ibm.com\\\\/products\\\\/storage\\\\u002Darea\\\\u002Dnetwork?lnk=flatitem\\\\x22,\\\\x22description\\\\x22:\\\\x22Scalable and highly available storage area network solutions\\\\x22},{\\\\x22title\\\\x22:\\\\x22Scale\\\\x22,\\\\x22url\\\\x22:\\\\x22https:\\\\/\\\\/www.ibm.com\\\\/products\\\\/storage\\\\u002Dscale?lnk=flatitem\\\\x22,\\\\x22description\\\\x22:\\\\x22Software defined storage for AI and high performance workloads\\\\x22},{\\\\x22title\\\\x22:\\\\x22Scale System\\\\x22,\\\\x22url\\\\x22:\\\\x22https:\\\\/\\\\/www.ibm.com\\\\/products\\\\/storage\\\\u002Dscale\\\\u002Dsystem?lnk=flatitem\\\\x22,\\\\x22description\\\\x22:\\\\x22All\\\\u002Dflash or hybrid performant storage for cloud scale use\\\\u002Dcases\\\\x22},{\\\\x22title\\\\x22:\\\\x22Tape Systems\\\\x22,\\\\x22url\\\\x22:\\\\x22https:\\\\/\\\\/www.ibm.com\\\\/solutions\\\\/tape\\\\u002Dstorage?lnk=flatitem\\\\x22,\\\\x22description\\\\x22:\\\\x22Software and hardware for encrypted and air\\\\u002Dgapped archives\\\\x22}]}]}],\\\\x22viewAll\\\\x22:{\\\\x22title\\\\x22:\\\\x22View all products\\\\x22,\\\\x22url\\\\x22:\\\\x22https:\\\\/\\\\/www.ibm.com\\\\/products\\\\x22}}},{\\\\x22title\\\\x22:\\\\x22Consulting\\\\x22,\\\\x22url\\\\x22:\\\\x22https:\\\\/\\\\/www.ibm.com\\\\/consulting?lnk=L0G\\\\x22},{\\\\x22title\\\\x22:\\\\x22Support\\\\x22,\\\\x22url\\\\x22:\\\\x22\\\\x22,\\\\x22submenu\\\\x22:{\\\\x22sections\\\\x22:[{\\\\x22heading\\\\x22:{\\\\x22title\\\\x22:\\\\x22\\\\x22,\\\\x22description\\\\x22:\\\\x22\\\\x22},\\\\x22groups\\\\x22:[{\\\\x22heading\\\\x22:{\\\\x22title\\\\x22:\\\\x22What\\\\x27s New\\\\x22,\\\\x22url\\\\x22:\\\\x22https:\\\\/\\\\/www.ibm.com\\\\/new?lnk=flathl\\\\x22,\\\\x22description\\\\x22:\\\\x22\\\\x22},\\\\x22links\\\\x22:[]},{\\\\x22heading\\\\x22:{\\\\x22title\\\\x22:\\\\x22Community\\\\x22,\\\\x22url\\\\x22:\\\\x22https:\\\\/\\\\/community.ibm.com\\\\/community\\\\/user\\\\/community?lnk=flathl\\\\x22,\\\\x22description\\\\x22:\\\\x22\\\\x22},\\\\x22links\\\\x22:[]},{\\\\x22heading\\\\x22:{\\\\x22title\\\\x22:\\\\x22Developer\\\\x22,\\\\x22url\\\\x22:\\\\x22https:\\\\/\\\\/developer.ibm.com\\\\/?lnk=flathl\\\\x22,\\\\x22description\\\\x22:\\\\x22\\\\x22},\\\\x22links\\\\x22:[{\\\\x22title\\\\x22:\\\\x22Call for Code\\\\x22,\\\\x22url\\\\x22:\\\\x22https:\\\\/\\\\/developer.ibm.com\\\\/callforcode\\\\/?lnk=flatitem\\\\x22},{\\\\x22title\\\\x22:\\\\x22Generative AI\\\\x22,\\\\x22url\\\\x22:\\\\x22https:\\\\/\\\\/developer.ibm.com\\\\/get\\\\u002Dstarted\\\\/generative\\\\u002Dai\\\\/\\\\x22},{\\\\x22title\\\\x22:\\\\x22Hackathons\\\\x22,\\\\x22url\\\\x22:\\\\x22https:\\\\/\\\\/developer.ibm.com\\\\/hackathons\\\\/\\\\x22},{\\\\x22title\\\\x22:\\\\x22Open Source @ IBM\\\\x22,\\\\x22url\\\\x22:\\\\x22https:\\\\/\\\\/www.ibm.com\\\\/opensource\\\\/?lnk=flatitem\\\\x22},{\\\\x22title\\\\x22:\\\\x22Technologies\\\\x22,\\\\x22url\\\\x22:\\\\x22https:\\\\/\\\\/developer.ibm.com\\\\/technologies\\\\/?lnk=flatitem\\\\x22}]},{\\\\x22heading\\\\x22:{\\\\x22title\\\\x22:\\\\x22Documentation\\\\x22,\\\\x22url\\\\x22:\\\\x22https:\\\\/\\\\/www.ibm.com\\\\/docs\\\\/en?lnk=flathl\\\\x22,\\\\x22description\\\\x22:\\\\x22\\\\x22},\\\\x22links\\\\x22:[{\\\\x22title\\\\x22:\\\\x22All product documentation\\\\x22,\\\\x22url\\\\x22:\\\\x22https:\\\\/\\\\/www.ibm.com\\\\/docs\\\\/en?lnk=flatitem\\\\x22},{\\\\x22title\\\\x22:\\\\x22IBM Cloud documentation\\\\x22,\\\\x22url\\\\x22:\\\\x22https:\\\\/\\\\/cloud.ibm.com\\\\/docs?lnk=flatitem\\\\x22},{\\\\x22title\\\\x22:\\\\x22IBM Redbooks\\\\x22,\\\\x22url\\\\x22:\\\\x22https:\\\\/\\\\/www.redbooks.ibm.com\\\\/?lnk=flatitem\\\\x22}]},{\\\\x22heading\\\\x22:{\\\\x22title\\\\x22:\\\\x22IBM Cloud platform support\\\\x22,\\\\x22url\\\\x22:\\\\x22https:\\\\/\\\\/www.ibm.com\\\\/cloud\\\\/support?lnk=flathl\\\\x22,\\\\x22description\\\\x22:\\\\x22\\\\x22},\\\\x22links\\\\x22:[]},{\\\\x22heading\\\\x22:{\\\\x22title\\\\x22:\\\\x22Implementation\\\\x22,\\\\x22description\\\\x22:\\\\x22\\\\x22},\\\\x22links\\\\x22:[{\\\\x22title\\\\x22:\\\\x22Expert Labs\\\\x22,\\\\x22url\\\\x22:\\\\x22https:\\\\/\\\\/www.ibm.com\\\\/products\\\\/expertlabs?lnk=flatitem\\\\x22}]},{\\\\x22heading\\\\x22:{\\\\x22title\\\\x22:\\\\x22Support\\\\x22,\\\\x22url\\\\x22:\\\\x22https:\\\\/\\\\/www.ibm.com\\\\/mysupport\\\\/s\\\\/?language=en_US\\\\x26lnk=flathl\\\\x22,\\\\x22description\\\\x22:\\\\x22\\\\x22},\\\\x22links\\\\x22:[{\\\\x22title\\\\x22:\\\\x22Download fixes, updates \\\\x26 drivers\\\\x22,\\\\x22url\\\\x22:\\\\x22https:\\\\/\\\\/www.ibm.com\\\\/support\\\\/fixcentral?lnk=flatitem\\\\x22},{\\\\x22title\\\\x22:\\\\x22Download licensed software \\\\u002D Passport Advantage\\\\x22,\\\\x22url\\\\x22:\\\\x22https:\\\\/\\\\/www.ibm.com\\\\/software\\\\/passportadvantage\\\\/pao_customer.html?lnk=flatitem\\\\x22},{\\\\x22title\\\\x22:\\\\x22IBM Software Licensing\\\\x22,\\\\x22url\\\\x22:\\\\x22https:\\\\/\\\\/www.ibm.com\\\\/about\\\\/software\\\\u002Dlicensing\\\\/?lnk=flatitem\\\\x22},{\\\\x22title\\\\x22:\\\\x22Open a case\\\\x22,\\\\x22url\\\\x22:\\\\x22https:\\\\/\\\\/www.ibm.com\\\\/mysupport\\\\/s\\\\/redirecttoopencasepage?lnk=flatitem\\\\x22},{\\\\x22title\\\\x22:\\\\x22View more\\\\x22,\\\\x22url\\\\x22:\\\\x22https:\\\\/\\\\/www.ibm.com\\\\/mysupport\\\\/s\\\\/?language=en_US\\\\x26lnk=flatitem\\\\x22},{\\\\x22title\\\\x22:\\\\x22View support plans\\\\x22,\\\\x22url\\\\x22:\\\\x22https:\\\\/\\\\/www.ibm.com\\\\/support\\\\/pages\\\\/ibm\\\\u002Dsupport\\\\u002Dofferings?lnk=flatitem\\\\x22},{\\\\x22title\\\\x22:\\\\x22View your cases\\\\x22,\\\\x22url\\\\x22:\\\\x22https:\\\\/\\\\/www.ibm.com\\\\/mysupport\\\\/s\\\\/my\\\\u002Dcases?lnk=flatitem\\\\x22}]},{\\\\x22heading\\\\x22:{\\\\x22title\\\\x22:\\\\x22Technology Lifecycle Services\\\\x22,\\\\x22url\\\\x22:\\\\x22https:\\\\/\\\\/www.ibm.com\\\\/services\\\\/technology\\\\u002Dlifecycle\\\\u002Dservices?lnk=flathl\\\\x22,\\\\x22description\\\\x22:\\\\x22\\\\x22},\\\\x22links\\\\x22:[{\\\\x22title\\\\x22:\\\\x22Enterprise networking and security\\\\x22,\\\\x22url\\\\x22:\\\\x22https:\\\\/\\\\/www.ibm.com\\\\/services\\\\/networking\\\\u002Dsupport?lnk=flatitem\\\\x22},{\\\\x22title\\\\x22:\\\\x22Servers and storage\\\\x22,\\\\x22url\\\\x22:\\\\x22https:\\\\/\\\\/www.ibm.com\\\\/services\\\\/systems\\\\u002Dsupport?lnk=flatitem\\\\x22},{\\\\x22title\\\\x22:\\\\x22Software\\\\x22,\\\\x22url\\\\x22:\\\\x22https:\\\\/\\\\/www.ibm.com\\\\/services\\\\/software\\\\u002Dsupport?lnk=flatitem\\\\x22}]},{\\\\x22heading\\\\x22:{\\\\x22title\\\\x22:\\\\x22Training\\\\x22,\\\\x22url\\\\x22:\\\\x22https:\\\\/\\\\/www.ibm.com\\\\/training\\\\/?lnk=flathl\\\\x22,\\\\x22description\\\\x22:\\\\x22\\\\x22},\\\\x22links\\\\x22:[{\\\\x22title\\\\x22:\\\\x22Courses\\\\x22,\\\\x22url\\\\x22:\\\\x22https:\\\\/\\\\/www.ibm.com\\\\/training\\\\/search?q=course\\\\x26lnk=flatitem\\\\x22},{\\\\x22title\\\\x22:\\\\x22Digital learning subscriptions\\\\x22,\\\\x22url\\\\x22:\\\\x22https:\\\\/\\\\/www.ibm.com\\\\/training\\\\/subscriptions?lnk=flatitem\\\\x22},{\\\\x22title\\\\x22:\\\\x22Learning paths \\\\x26 collections\\\\x22,\\\\x22url\\\\x22:\\\\x22https:\\\\/\\\\/www.ibm.com\\\\/training\\\\/learning\\\\u002Dpaths\\\\u002Dand\\\\u002Dcollections?lnk=flatitem\\\\x22},{\\\\x22title\\\\x22:\\\\x22Professional certifications\\\\x22,\\\\x22url\\\\x22:\\\\x22https:\\\\/\\\\/www.ibm.com\\\\/training\\\\/credentials?lnk=flatitem\\\\x22}]}]}],\\\\x22viewAll\\\\x22:{\\\\x22title\\\\x22:\\\\x22\\\\x22,\\\\x22url\\\\x22:\\\\x22\\\\x22}}},{\\\\x22title\\\\x22:\\\\x22Think\\\\x22,\\\\x22url\\\\x22:\\\\x22https:\\\\/\\\\/www.ibm.com\\\\/think\\\\x22}]}}\";\\r\\n    const searchPlaceholderText = \"Search all of IBM\";\\r\\n    const links = JSON.parse(l0Json).mastheadNav.links;\\r\\n    const unAuthenticated = JSON.parse(l0Json).profileMenu.signedout;\\r\\n    const authenticated = JSON.parse(l0Json).profileMenu.signedin;\\r\\n\\r\\n    const mastheadContainerEl = document.querySelector(\\'c4d-masthead-container\\');\\r\\n\\r\\n    mastheadContainerEl.navLinks = links;\\r\\n    mastheadContainerEl.unauthenticatedProfileItems = unAuthenticated;\\r\\n    mastheadContainerEl.authenticatedProfileItems = authenticated;\\r\\n\\r\\n    const appendSearchPlaceholderText = () => {\\r\\n        const typeheadEl = mastheadContainerEl.querySelector(\\'c4d-search-with-typeahead\\');\\r\\n        if (typeheadEl) {\\r\\n            typeheadEl.searchPlaceholder = searchPlaceholderText;\\r\\n            observer.disconnect();\\r\\n        }\\r\\n    }\\r\\n    let observer = new MutationObserver(appendSearchPlaceholderText);\\r\\n    observer.observe(mastheadContainerEl, {subtree: true, childList: true});\\r\\n</script>\\r\\n\\r\\n    \\r\\n\\r\\n    \\r\\n\\r\\n    \\r\\n\\r\\n    \\r\\n\\r\\n    \\r\\n\\r\\n    \\r\\n\\r\\n\\r\\n\\r\\n\\r\\n\\r\\n<script type=\"text/javascript\">\\r\\n    if(window.location.href.includes(\"/careers\")){\\r\\n       document.querySelector(\\'c4d-masthead-container\\').setAttribute(\"has-search\",\"false\");\\r\\n       document.querySelector(\\'c4d-masthead-container\\').setAttribute(\"has-profile\",\"false\");\\r\\n    }\\r\\n     document.addEventListener(\"DOMContentLoaded\", function() {\\r\\n        const mastheadContainer = document.querySelector(\"c4d-masthead-container\");\\r\\n        if (mastheadContainer && mastheadContainer.getAttribute(\"has-global\") === \"false\") {\\r\\n            document.querySelector(\\'.earth-language-icon\\').style.display = \\'none\\';\\r\\n        }\\r\\n        else{\\r\\n               document.querySelector(\\'.earth-language-icon\\').style.setProperty(\\'display\\', \\'block\\', \\'important\\');\\r\\n        }\\r\\n    });\\r\\n</script>\\r\\n</div>\\n<div class=\"container responsivegrid\">\\n\\n    \\n    \\n    \\n    <div id=\"container-35bfd5ef7a\" class=\"cmp-container\">\\n        \\n        \\n        \\n    </div>\\n\\n</div>\\n<div class=\"leadspace-container container responsivegrid\" id=\"mbox-leadspace\">\\n\\n    \\n    \\n    \\n    <div id=\"leadspace-container-1e918979ca\" class=\"cmp-container\">\\n        \\n        <div class=\"leadspace-expanded leadspace\">\\r\\n\\r\\n\\r\\n\\r\\n\\r\\n\\r\\n    \\r\\n\\r\\n\\r\\n\\r\\n    \\r\\n        \\r\\n        \\r\\n    \\r\\n\\r\\n\\r\\n<section class=\"cds--grid theme-white leadspace-expanded__container leadspace-expanded__container--tall leadspace-expanded__container--aside\">\\r\\n    <div class=\"cds--row leadspace-expanded__row\">\\r\\n        <div class=\"cds--col-lg-6 leadspace-expanded__column leadspace-expanded__column--content\">\\r\\n            <div>\\r\\n                \\r\\n                    \\r\\n                <div class=\"leadspace-expanded__navigation leadspace-expanded__navigation--tags\">\\r\\n                    \\r\\n                </div>\\r\\n\\r\\n                <div id=\"mbox-heading\">\\r\\n                    <h1 class=\"leadspace-expanded__heading expressive-heading-05\" id=\"leadspaceSimpleTitle\">\\r\\n                        \\n\\n\\n    \\n\\n  \\n\\n<span class=\"enhanced-title text-color-blue-60\">You see break points. IBM sees data points.</span>\\n\\n\\n\\n    \\n\\n\\n\\n\\n\\n\\n\\n    \\n\\n\\r\\n                    </h1>\\r\\n                </div>\\r\\n            </div>\\r\\n            <div>\\r\\n                <span class=\"lead-in\">\\r\\n                    <div id=\"mbox-subheading\">\\r\\n                        <div class=\"cms-richtext \" id=\"rich-text-96264db101\" data-dynamic-inner-content=\"description\">\\n    <p contenteditable=\"true\" class=\"monday-block-1\" data-monday-block-type=\"1\" data-monday-block-content=\"[{&#34;attributes&#34;:{&#34;sanitizedSize&#34;:&#34;16px&#34;},&#34;insert&#34;:&#34;Unlock smarter decisions and faster insights that empower your business to forecast, adapt and thrive&#34;}]\" data-inline-monday=\"true\">Explore how we&#39;re helping the US Open elevate their fan experiences and create a smarter business with AI, automation and hybrid cloud</p>\\r\\n\\n    \\n    \\n    \\n    \\n\\n</div>\\r\\n                    \\r\\n                    </div>\\r\\n                </span>\\r\\n\\r\\n                \\r\\n\\r\\n                \\r\\n\\r\\n                \\r\\n\\r\\n                \\r\\n                    <div id=\"mbox-leadspace_cta\">\\r\\n                        <c4d-button-group class=\"leadspace-expanded__action leadspace-expanded__action--button-group\">\\r\\n                            \\r\\n                                \\r\\n                                \\n\\n\\n\\n\\n<!-- Determine if selector includes \\'tagName=c4d-button-group-item\\' -->\\n\\n\\n\\n<!-- C4D Markup for publish mode -->\\n\\n    \\n    \\n    \\n    \\n    \\n    <a href=\"https://www.ibm.com/sports/usopen?lnk=hpls1us\" target=\"_self\">\\n        <c4d-button-group-item href=\"https://www.ibm.com/sports/usopen?lnk=hpls1us\" target=\"_self\" kind=\"primary\" cta-type=\"local\" data-aem-autoid=\"aem--leadspace_cta-0\" data-video-modal-type=\"media-center\">\\n            <span>Learn how IBM powers the US Open</span>\\n            \\n            \\n        </c4d-button-group-item>\\n    </a>\\n    \\n    \\n    \\n    <script defer src=\"/etc.clientlibs/adobe-cms/clientlibs/clientlib-button.lc-67a2601204a7ff6653b284115aa328c5-lc.min.js\"></script>\\n\\n\\n    \\n\\n     \\n\\n    \\n    \\n    \\n    \\n    \\n    <a href=\"https://www.ibm.com/think/insights/lets-create-smarter-business?lnk=hpls2us\" target=\"_self\">\\n        <c4d-button-group-item href=\"https://www.ibm.com/think/insights/lets-create-smarter-business?lnk=hpls2us\" target=\"_self\" kind=\"tertiary\" cta-type=\"local\" data-aem-autoid=\"aem--leadspace_cta-1\" data-video-modal-type=\"media-center\">\\n            <span>Discover what it takes to be a smarter business</span>\\n            \\n            \\n        </c4d-button-group-item>\\n    </a>\\n    \\n    \\n    \\n    \\n\\n    \\n\\n     \\n\\n\\n\\n<!-- Fallback for author/edit mode -->\\n\\r\\n                            \\r\\n                        </c4d-button-group>\\r\\n                    </div>\\r\\n                \\r\\n            </div>\\r\\n        </div>\\r\\n        <div class=\"cds--col-lg-8 leadspace-expanded__column leadspace-expanded__column--media\">\\r\\n            <div class=\"leadspace-expanded__column-inner\">\\r\\n                <div id=\"mbox-leadspace_visual\">\\r\\n                    \\r\\n\\r\\n                    \\r\\n                            \\r\\n                            <caem-video-player-container class=\"leadspace-expanded__media\" aspect-ratio=\"4x3\" video-id=\"1_udminw5c\" caption-alignment=\"left\" background-mode=\"true\" button-position=\"bottom-right\" intersection-mode=\"\" hide-caption=\"true\" playing-mode=\"inline\"></caem-video-player-container>\\r\\n                        \\n    <script defer src=\"/etc.clientlibs/adobe-cms/clientlibs/clientlib-caem-video-player.lc-38902693049e0bee6b0992e30c6f1482-lc.min.js\"></script>\\n\\n\\r\\n                        \\r\\n                    \\r\\n\\r\\n                    \\r\\n                </div>\\r\\n            </div>\\r\\n        </div>\\r\\n        <div class=\"cds--col-lg-2 leadspace-expanded__column leadspace-expanded__column--aside\">\\r\\n            <div class=\"leadspace-expanded__column-inner\" id=\"mbox-leadspace-side\">\\r\\n                \\r\\n                    \\r\\n                \\r\\n\\r\\n                \\r\\n                    \\r\\n                        \\r\\n                            <c4d-link-list class=\"newsfeed \">\\r\\n                                <c4d-link-list-heading role=\"heading\" aria-level=\"4\" slot=\"heading\">\\r\\n                                    \\n\\n\\n  \\n  \\n      Latest news\\n  \\n\\n\\n\\n\\n    \\n\\n\\r\\n                                </c4d-link-list-heading>\\r\\n                                \\r\\n                                \\r\\n                                    \\r\\n                                    \\r\\n                                        \\n\\n\\r\\n                                    \\r\\n                                \\r\\n                                    \\r\\n                                    \\r\\n                                        \\n\\n\\r\\n                                    \\r\\n                                \\r\\n                                    \\r\\n                                    \\r\\n                                        \\n\\n\\r\\n                                    \\r\\n                                \\r\\n                                    \\r\\n                                    \\r\\n                                        \\n\\n\\r\\n                                    \\r\\n                                \\r\\n                                \\r\\n                                    \\r\\n                                        \\n    <c4d-link-list-item cta-type=\"local\" href=\"https://newsroom.ibm.com/2025-08-26-ibm-and-amd-join-forces-to-build-the-future-of-computing\" aria-label=\"IBM and AMD Join Forces to Build the Future of Computing\" class=\"newsfeed__item\">\\n        <p>IBM and AMD Join Forces to Build the Future of Computing</p>\\n        <c4d-card-footer href=\"https://newsroom.ibm.com/2025-08-26-ibm-and-amd-join-forces-to-build-the-future-of-computing\" cta-type=\"local\" target=\"_self\">\\n            <span slot=\"icon\" class=\"ibm_icon_arrowright_local cds--card__cta c4d-ce--cta__icon\"></span>\\n        </c4d-card-footer>\\n        <span slot=\"icon\" class=\"ibm_icon_arrowright_local cds--card__cta c4d-ce--cta__icon\"></span>\\n    </c4d-link-list-item>\\n    \\n    \\n    <script defer src=\"/etc.clientlibs/adobe-cms/clientlibs/clientlib-link-list.lc-130917473538cd7b623ea0525504c971-lc.min.js\"></script>\\n<script defer src=\"/etc.clientlibs/adobe-cms/clientlibs/clientlib-card.lc-bc3b82ac1add3d5d1322045c4890a270-lc.min.js\"></script>\\n\\n\\n    \\n   \\r\\n                                    \\r\\n                                \\r\\n                                    \\r\\n                                        \\n    <c4d-link-list-item cta-type=\"local\" href=\"https://newsroom.ibm.com/2025-08-20-ibm-and-nasa-release-groundbreaking-open-source-ai-model-on-hugging-face-to-predict-solar-weather-and-help-protect-critical-technology\" aria-label=\"IBM and NASA Release Groundbreaking Open-Source AI Model on Hugging Face to Predict Solar Weather and Help Protect Critical Technology\" class=\"newsfeed__item\">\\n        <p>IBM and NASA Release Groundbreaking Open-Source AI Model on Hugging Face to Predict Solar Weather and Help Protect Critical Technology</p>\\n        <c4d-card-footer href=\"https://newsroom.ibm.com/2025-08-20-ibm-and-nasa-release-groundbreaking-open-source-ai-model-on-hugging-face-to-predict-solar-weather-and-help-protect-critical-technology\" cta-type=\"local\" target=\"_self\">\\n            <span slot=\"icon\" class=\"ibm_icon_arrowright_local cds--card__cta c4d-ce--cta__icon\"></span>\\n        </c4d-card-footer>\\n        <span slot=\"icon\" class=\"ibm_icon_arrowright_local cds--card__cta c4d-ce--cta__icon\"></span>\\n    </c4d-link-list-item>\\n    \\n    \\n    \\n\\n    \\n   \\r\\n                                    \\r\\n                                \\r\\n                                    \\r\\n                                        \\n    <c4d-link-list-item cta-type=\"local\" href=\"https://newsroom.ibm.com/2025-08-18-ibm-and-the-usta-roll-out-ai-powered-fan-experiences-for-2025-us-open\" aria-label=\"IBM and the USTA Roll Out AI-Powered Fan Experiences for 2025 US Open\" class=\"newsfeed__item\">\\n        <p>IBM and the USTA Roll Out AI-Powered Fan Experiences for 2025 US Open</p>\\n        <c4d-card-footer href=\"https://newsroom.ibm.com/2025-08-18-ibm-and-the-usta-roll-out-ai-powered-fan-experiences-for-2025-us-open\" cta-type=\"local\" target=\"_self\">\\n            <span slot=\"icon\" class=\"ibm_icon_arrowright_local cds--card__cta c4d-ce--cta__icon\"></span>\\n        </c4d-card-footer>\\n        <span slot=\"icon\" class=\"ibm_icon_arrowright_local cds--card__cta c4d-ce--cta__icon\"></span>\\n    </c4d-link-list-item>\\n    \\n    \\n    \\n\\n    \\n   \\r\\n                                    \\r\\n                                \\r\\n                                    \\r\\n                                        \\n    <c4d-link-list-item cta-type=\"local\" href=\"https://newsroom.ibm.com/2025-08-18-ibm-study-sports-fans-demand-more-dynamic-digital-content,-powered-by-ai\" aria-label=\"IBM Study: Sports Fans Demand More Dynamic Digital Content, Powered by AI\" class=\"newsfeed__item\">\\n        <p>IBM Study: Sports Fans Demand More Dynamic Digital Content, Powered by AI</p>\\n        <c4d-card-footer href=\"https://newsroom.ibm.com/2025-08-18-ibm-study-sports-fans-demand-more-dynamic-digital-content,-powered-by-ai\" cta-type=\"local\" target=\"_self\">\\n            <span slot=\"icon\" class=\"ibm_icon_arrowright_local cds--card__cta c4d-ce--cta__icon\"></span>\\n        </c4d-card-footer>\\n        <span slot=\"icon\" class=\"ibm_icon_arrowright_local cds--card__cta c4d-ce--cta__icon\"></span>\\n    </c4d-link-list-item>\\n    \\n    \\n    \\n\\n    \\n   \\r\\n                                    \\r\\n                                \\r\\n                                    \\r\\n                                        \\n    <c4d-link-list-item cta-type=\"local\" href=\"https://newsroom.ibm.com/2025-07-30-ibm-report-13-of-organizations-reported-breaches-of-ai-models-or-applications,-97-of-which-reported-lacking-proper-ai-access-controls\" aria-label=\"IBM Report: 13% Of Organizations Reported Breaches Of AI Models Or Applications, 97% Of Which Reported Lacking Proper AI Access Controls\" class=\"newsfeed__item\">\\n        <p>IBM Report: 13% Of Organizations Reported Breaches Of AI Models Or Applications, 97% Of Which Reported Lacking Proper AI Access Controls</p>\\n        <c4d-card-footer href=\"https://newsroom.ibm.com/2025-07-30-ibm-report-13-of-organizations-reported-breaches-of-ai-models-or-applications,-97-of-which-reported-lacking-proper-ai-access-controls\" cta-type=\"local\" target=\"_self\">\\n            <span slot=\"icon\" class=\"ibm_icon_arrowright_local cds--card__cta c4d-ce--cta__icon\"></span>\\n        </c4d-card-footer>\\n        <span slot=\"icon\" class=\"ibm_icon_arrowright_local cds--card__cta c4d-ce--cta__icon\"></span>\\n    </c4d-link-list-item>\\n    \\n    \\n    \\n\\n    \\n   \\r\\n                                    \\r\\n                                \\r\\n                                    \\r\\n                                        \\n    <c4d-link-list-item cta-type=\"local\" href=\"https://newsroom.ibm.com/2025-07-23-IBM-RELEASES-SECOND-QUARTER-RESULTS\" aria-label=\"IBM Releases Second-Quarter Results\" class=\"newsfeed__item\">\\n        <p>IBM Releases Second-Quarter Results</p>\\n        <c4d-card-footer href=\"https://newsroom.ibm.com/2025-07-23-IBM-RELEASES-SECOND-QUARTER-RESULTS\" cta-type=\"local\" target=\"_self\">\\n            <span slot=\"icon\" class=\"ibm_icon_arrowright_local cds--card__cta c4d-ce--cta__icon\"></span>\\n        </c4d-card-footer>\\n        <span slot=\"icon\" class=\"ibm_icon_arrowright_local cds--card__cta c4d-ce--cta__icon\"></span>\\n    </c4d-link-list-item>\\n    \\n    \\n    \\n\\n    \\n   \\r\\n                                    \\r\\n                                \\r\\n                                    \\r\\n                                        \\n    <c4d-link-list-item cta-type=\"local\" href=\"https://newsroom.ibm.com/2025-07-14-nedgia-transforms-its-customer-service-with-a-pioneering-virtual-ai-agent-solution-together-with-ibm-consulting\" aria-label=\"Nedgia Transforms its Customer Service with a Pioneering Virtual AI Agent Solution Together with IBM Consulting\" class=\"newsfeed__item\">\\n        <p>Nedgia Transforms its Customer Service with a Pioneering Virtual AI Agent Solution Together with IBM Consulting</p>\\n        <c4d-card-footer href=\"https://newsroom.ibm.com/2025-07-14-nedgia-transforms-its-customer-service-with-a-pioneering-virtual-ai-agent-solution-together-with-ibm-consulting\" cta-type=\"local\" target=\"_self\">\\n            <span slot=\"icon\" class=\"ibm_icon_arrowright_local cds--card__cta c4d-ce--cta__icon\"></span>\\n        </c4d-card-footer>\\n        <span slot=\"icon\" class=\"ibm_icon_arrowright_local cds--card__cta c4d-ce--cta__icon\"></span>\\n    </c4d-link-list-item>\\n    \\n    \\n    \\n\\n    \\n   \\r\\n                                    \\r\\n                                \\r\\n                                    \\r\\n                                        \\n    <c4d-link-list-item cta-type=\"local\" href=\"https://newsroom.ibm.com/2025-07-10-elior-group-and-ibm-france-announce-a-collaboration-to-make-elior-group-a-company-focused-on-data,-artificial-intelligence-and-agentic-ai\" aria-label=\"Elior Group and IBM France Announce a Collaboration to Make Elior Group a Company Focused on Data, Artificial Intelligence and Agentic AI  \\n\" class=\"newsfeed__item\">\\n        <p>Elior Group and IBM France Announce a Collaboration to Make Elior Group a Company Focused on Data, Artificial Intelligence and Agentic AI  \\n</p>\\n        <c4d-card-footer href=\"https://newsroom.ibm.com/2025-07-10-elior-group-and-ibm-france-announce-a-collaboration-to-make-elior-group-a-company-focused-on-data,-artificial-intelligence-and-agentic-ai\" cta-type=\"local\" target=\"_self\">\\n            <span slot=\"icon\" class=\"ibm_icon_arrowright_local cds--card__cta c4d-ce--cta__icon\"></span>\\n        </c4d-card-footer>\\n        <span slot=\"icon\" class=\"ibm_icon_arrowright_local cds--card__cta c4d-ce--cta__icon\"></span>\\n    </c4d-link-list-item>\\n    \\n    \\n    \\n\\n    \\n   \\r\\n                                    \\r\\n                                \\r\\n                                \\n    <script defer src=\"/etc.clientlibs/adobe-cms/clientlibs/clientlib-cweb-search.lc-0d13f1ad2fc4b43337ad1dee1aff2470-lc.min.js\"></script>\\n\\n\\r\\n                            </c4d-link-list>\\r\\n                        \\r\\n                    \\r\\n                \\r\\n            </div>\\r\\n        </div>\\r\\n    </div>\\r\\n</section></div>\\n\\n        \\n    </div>\\n\\n</div>\\n<div class=\"table-of-contents container responsivegrid\">\\n<c4d-table-of-contents data-cmp-is=\"table-of-contents\" data-autoid=\"c4d--tableofcontents\" class=\"cmp-table-of-contents \" stickyoffset=\"48\" toc-layout=\"horizontal\" toc-hide=\"hidden\">\\n    \\n    \\n    <div id=\"table-of-contents-b422012d4b\" class=\"cmp-table-of-contents\">\\n        \\n        <div class=\"modular-container container responsivegrid\">\\n\\n    \\n    \\n    \\n    <div id=\"modular-container-5d1eac4ca1\" class=\"cmp-container\">\\n        \\n        <div class=\"standalone-title enhanced-title text\">\\r\\n\\r\\n\\r\\n\\r\\n\\r\\n\\r\\n\\r\\n\\r\\n    <h5 class=\"expressive-heading-02 col-8 \">Recommended for you</h5>\\r\\n\\r\\n\\n    \\n\\r\\n</div>\\n<div class=\"image simple-image\">\\n    \\n    \\n    \\n    \\n\\n    \\n    \\n    \\n    <script defer src=\"/etc.clientlibs/adobe-cms/clientlibs/clientlib-image.lc-b316281dc6e71a9ed355f87360425449-lc.min.js\"></script>\\n\\n\\n    \\n\\n\\n</div>\\n\\n        \\n    </div>\\n\\n</div>\\n<div class=\"tile-group-container container responsivegrid\">\\n  <div class=\"cds--col\">\\n    \\r\\n\\r\\n\\r\\n\\r\\n\\r\\n\\r\\n\\r\\n\\r\\n    <h5 class=\"expressive-heading-02  \"></h5>\\r\\n\\r\\n\\n    \\n\\r\\n\\n      <caem-tile-group>\\n        \\n\\n    \\r\\n\\r\\n\\r\\n\\t<caem-tile label=\"Insights\" cta-type=\"local\" href=\"https://www.ibm.com/think/insights/scale-ai-agents-business?lnk=hprc1us\" target=\"_self\" data-video-modal-type=\"media-center\">\\r\\n\\r\\n\\t\\t\\r\\n\\r\\n\\t\\t<div slot=\"image\"><div class=\"image-dm image\">\\n\\n\\n\\t<div data-cmp-hook-image=\"imageV3IBM\" data-cmp-is=\"image\" data-cmp-widths=\"320,384,512,640,768,960,1024,1152,1280,1536,1584\" data-cmp-dmimage data-cmp-src=\"https://assets.ibm.com/is/image/ibm/api-connect-data-fabric?ts=1756367412964&amp;dpr=off\" data-asset-id=\"0454a1c5-a7bb-42bc-bf27-1363b7416468\" data-cmp-filereference=\"/content/dam/worldwide-content/creative-assets/s-migr/ul/g/ba/22/api-connect-data-fabric.png\" id=\"image-dm-6d1aafde92\" data-cmp-data-layer=\"{&#34;image-dm-6d1aafde92&#34;:{&#34;@type&#34;:&#34;adobe-cms/components/content/atoms/image-dm&#34;,&#34;repo:modifyDate&#34;:&#34;2025-08-28T07:50:12Z&#34;,&#34;dc:title&#34;:&#34;API Connect - Data fabric&#34;,&#34;image&#34;:{&#34;repo:id&#34;:&#34;0454a1c5-a7bb-42bc-bf27-1363b7416468&#34;,&#34;repo:modifyDate&#34;:&#34;2025-05-10T05:32:05Z&#34;,&#34;@type&#34;:&#34;image/png&#34;,&#34;repo:path&#34;:&#34;/content/dam/worldwide-content/creative-assets/s-migr/ul/g/ba/22/api-connect-data-fabric.png&#34;,&#34;xdm:tags&#34;:[&#34;properties:orientation/square&#34;],&#34;xdm:smartTags&#34;:{&#34;diagram&#34;:0.84,&#34;celestial event&#34;:0.758,&#34;attachment&#34;:0.759,&#34;astrophotography&#34;:0.828,&#34;collaboration&#34;:0.81,&#34;ellipse&#34;:0.764,&#34;circle&#34;:0.791,&#34;astronomy&#34;:0.763}}}}\" class=\"cmp-image\">\\n\\t\\t<script type=\"application/json\">\\n\\t\\t\\t{\\n\\t\\t\\t\\t\"widths\": [320,384,512,640,768,960,1024,1152,1280,1536,1584],\\n\\t\\t\\t\\t\"maximagesize\": \"5000\",\\n\\t\\t\\t\\t\"aspectratio\": \"\",\\n\\t\\t\\t\\t\"urls\": {\\n\\t\\t\\t\\t\\t\"dynamicmedia\": \"https://assets.ibm.com/is/image/ibm/api-connect-data-fabric\",\\n\\t\\t\\t\\t\\t\"adaptiveservlet\": \"https://www.ibm.com//_jcr_content/root/table_of_contents/tile_group_container/container/tile_card_copy_copy_/image.coreimg.90{.width}.png/1756367412964/api-connect-data-fabric.png\",\\n\\t\\t\\t\\t\\t\"assetdelivery\": \"/adobe/dynamicmedia/deliver/dm-aid--0454a1c5-a7bb-42bc-bf27-1363b7416468/api-connect-data-fabric.png?preferwebp=true\"\\n\\t\\t\\t\\t},\\n\\t\\t\\t\\t\"usecustomcrop\": \"false\",\\n\\t\\t\\t\\t\"customcrops\": {\\n\\t\\t\\t\\t\\t\"1x1\": \"\",\\n\\t\\t\\t\\t\\t\"2x1\": \"\",\\n\\t\\t\\t\\t\\t\"3x2\": \"\",\\n\\t\\t\\t\\t\\t\"4x3\": \"\",\\n\\t\\t\\t\\t\\t\"5x2\": \"\",\\n\\t\\t\\t\\t\\t\"16x9\": \"\"\\n\\t\\t\\t\\t}\\n\\t\\t\\t}\\n\\t\\t</script>\\n\\t\\t\\n\\n\\t\\t\\t\\n\\t\\t\\t\\t\\n\\t\\t\\t\\t\\t\\n\\n\\t\\t\\t\\t\\t<img src=\"https://assets.ibm.com/is/image/ibm/api-connect-data-fabric?ts=1756367412964&dpr=off\" srcset=\"data:image/gif;base64,R0lGODlhAQABAAAAACH5BAEKAAEALAAAAAABAAEAAAICTAEAOw==\" loading=\"lazy\" class=\"cmp-image__image\" itemprop=\"contentUrl\" width=\"1271\" height=\"1271\" alt=\"Two hands scaling a square with AI pictogram\"/>\\n\\t\\t\\t\\t\\n\\n\\t\\t\\t\\t\\n\\n\\t\\t\\t\\n\\t\\t\\n\\t\\t\\n\\n\\t\\t\\n\\n\\t</div>\\n\\t\\n    \\n\\n\\n\\n\\n    <script defer src=\"/etc.clientlibs/adobe-cms/clientlibs/clientlib-lightbox-media-viewer.lc-7159a500a055d047ab3472a33f32de05-lc.min.js\"></script>\\n\\n\\n</div>\\n</div>\\r\\n\\r\\n\\t\\t<div class=\"caem-tile__text\">Start scaling AI agents for your business like a pro</div>\\r\\n\\t\\t\\n    \\n    \\n\\n\\n\\n    \\n\\r\\n\\t\\t<a slot=\"cta\" href=\"https://www.ibm.com/think/insights/scale-ai-agents-business?lnk=hprc1us\" target=\"_self\">\\r\\n\\t\\t\\t<p slot=\"cta\" class=\"caem-tile__link\"></p>\\r\\n\\t\\t</a>\\r\\n\\t</caem-tile>\\r\\n\\r\\n\\t<div class=\"caem-card-svg-source\" hidden><svg xmlns=\"http://www.w3.org/2000/svg\" id=\"accelerated-computing\" viewBox=\"0 0 32 32\"><path d=\"M19,29.36c-3.401,0-6.596-1.506-8.764-4.131l0.556-0.459c2.03,2.459,5.022,3.869,8.208,3.869 c5.867,0,10.64-4.772,10.64-10.64c0-5.867-4.772-10.64-10.64-10.64c-3.186,0-6.177,1.411-8.208,3.87l-0.555-0.459 c2.091-2.532,5.137-4.022,8.403-4.125V5.36H16c-0.199,0-0.36-0.161-0.36-0.36V3c0-0.199,0.161-0.36,0.36-0.36h6 c0.199,0,0.36,0.161,0.36,0.36v2c0,0.199-0.161,0.36-0.36,0.36h-2.64v1.286c6.098,0.191,11,5.211,11,11.354 C30.36,24.264,25.264,29.36,19,29.36z M16.36,4.64h5.28V3.36h-5.28V4.64z M14,23.36H4v-0.72h10V23.36z M12,18.36H2v-0.72h10V18.36z M19.179,18.312l-0.357-0.625l7-4l0.357,0.625L19.179,18.312z M14,13.36H4v-0.72h10V13.36z\"/></svg></div>\\r\\n\\r\\n\\n    \\n\\r\\n\\r\\n\\n    <script defer src=\"/etc.clientlibs/adobe-cms/clientlibs/clientlib-caem-tile.lc-2b4b0c73e2f38a17ea3e271c538bb675-lc.min.js\"></script>\\n\\n\\r\\n\\n\\n    \\r\\n\\r\\n\\r\\n\\t<caem-tile label=\"Solutions\" cta-type=\"local\" href=\"https://www.ibm.com/solutions/ipaas?lnk=hprc2us\" target=\"_self\" data-video-modal-type=\"media-center\">\\r\\n\\r\\n\\t\\t\\r\\n\\r\\n\\t\\t<div slot=\"image\"><div class=\"image-dm image\">\\n\\n\\n\\t<div data-cmp-aspectratio=\"1x1\" data-cmp-hook-image=\"imageV3IBM\" data-cmp-is=\"image\" data-cmp-widths=\"320,384,512,640,768,960,1024,1152,1280,1536,1584\" data-cmp-dmimage data-cmp-src=\"https://assets.ibm.com/is/image/ibm/watsonx-data-technical-illustration-grey10-web-guidebook?ts=1756367418266&amp;dpr=off\" data-asset-id=\"f3bbc02f-e065-4969-84ca-9a9b43cd09dd\" data-cmp-filereference=\"/content/dam/worldwide-content/creative-assets/ibs/ul/g/72/08/watsonx-data-technical-illustration-grey10-web-guidebook.jpg\" id=\"image-dm-6621d11b35\" data-cmp-data-layer=\"{&#34;image-dm-6621d11b35&#34;:{&#34;@type&#34;:&#34;adobe-cms/components/content/atoms/image-dm&#34;,&#34;repo:modifyDate&#34;:&#34;2025-08-28T07:50:18Z&#34;,&#34;dc:title&#34;:&#34;watsonx data technical illustration&#34;,&#34;image&#34;:{&#34;repo:id&#34;:&#34;f3bbc02f-e065-4969-84ca-9a9b43cd09dd&#34;,&#34;repo:modifyDate&#34;:&#34;2025-07-06T18:01:35Z&#34;,&#34;@type&#34;:&#34;image/jpeg&#34;,&#34;repo:path&#34;:&#34;/content/dam/worldwide-content/creative-assets/ibs/ul/g/72/08/watsonx-data-technical-illustration-grey10-web-guidebook.jpg&#34;,&#34;xdm:tags&#34;:[&#34;properties:orientation/square&#34;],&#34;xdm:smartTags&#34;:{&#34;diagram&#34;:0.849,&#34;minimalist photography&#34;:0.872,&#34;computer equipment&#34;:0.827,&#34;organization&#34;:0.762,&#34;graphic design&#34;:0.813,&#34;graphics&#34;:0.765,&#34;network&#34;:0.903}}}}\" class=\"cmp-image\">\\n\\t\\t<script type=\"application/json\">\\n\\t\\t\\t{\\n\\t\\t\\t\\t\"widths\": [320,384,512,640,768,960,1024,1152,1280,1536,1584],\\n\\t\\t\\t\\t\"maximagesize\": \"5000\",\\n\\t\\t\\t\\t\"aspectratio\": \"1x1\",\\n\\t\\t\\t\\t\"urls\": {\\n\\t\\t\\t\\t\\t\"dynamicmedia\": \"https://assets.ibm.com/is/image/ibm/watsonx-data-technical-illustration-grey10-web-guidebook\",\\n\\t\\t\\t\\t\\t\"adaptiveservlet\": \"https://www.ibm.com//_jcr_content/root/table_of_contents/tile_group_container/container/tile_card_2026675993_446952913/image.coreimg.90{.width}.jpeg/1756367418266/watsonx-data-technical-illustration-grey10-web-guidebook.jpeg\",\\n\\t\\t\\t\\t\\t\"assetdelivery\": \"/adobe/dynamicmedia/deliver/dm-aid--f3bbc02f-e065-4969-84ca-9a9b43cd09dd/watsonx-data-technical-illustration-grey10-web-guidebook.jpg?preferwebp=true\"\\n\\t\\t\\t\\t},\\n\\t\\t\\t\\t\"usecustomcrop\": \"true\",\\n\\t\\t\\t\\t\"customcrops\": {\\n\\t\\t\\t\\t\\t\"1x1\": \"https://assets.ibm.com/is/image/ibm/watsonx-data-technical-illustration-grey10-web-guidebook?cropN=0.24269943143692696,0.1763775833253938,0.5175530762737142,0.6035781299732901&wid=1348&hei=1348&fit=crop,1\",\\n\\t\\t\\t\\t\\t\"2x1\": \"\",\\n\\t\\t\\t\\t\\t\"3x2\": \"\",\\n\\t\\t\\t\\t\\t\"4x3\": \"\",\\n\\t\\t\\t\\t\\t\"5x2\": \"\",\\n\\t\\t\\t\\t\\t\"16x9\": \"\"\\n\\t\\t\\t\\t}\\n\\t\\t\\t}\\n\\t\\t</script>\\n\\t\\t\\n\\n\\t\\t\\t\\n\\t\\t\\t\\t\\n\\t\\t\\t\\t\\t\\n\\n\\t\\t\\t\\t\\t<img src=\"https://assets.ibm.com/is/image/ibm/watsonx-data-technical-illustration-grey10-web-guidebook?ts=1756367418266&dpr=off\" srcset=\"data:image/gif;base64,R0lGODlhAQABAAAAACH5BAEKAAEALAAAAAABAAEAAAICTAEAOw==\" loading=\"lazy\" class=\"cmp-image__image\" itemprop=\"contentUrl\" width=\"3660\" height=\"3139\" alt=\"Technical illustration to represent how to best scale and accelerate the impact of AI through watsonx.data\" title=\"Abstract tech illustration with geometric cubes\"/>\\n\\t\\t\\t\\t\\n\\n\\t\\t\\t\\t\\n\\n\\t\\t\\t\\n\\t\\t\\n\\t\\t\\n\\n\\t\\t\\n\\n\\t</div>\\n\\t\\n    \\n\\n\\n\\n\\n    \\n\\n</div>\\n</div>\\r\\n\\r\\n\\t\\t<div class=\"caem-tile__text\">Enable seamless integration across all your apps and data</div>\\r\\n\\t\\t\\n    \\n    \\n\\n\\n\\n    \\n\\r\\n\\t\\t<a slot=\"cta\" href=\"https://www.ibm.com/solutions/ipaas?lnk=hprc2us\" target=\"_self\">\\r\\n\\t\\t\\t<p slot=\"cta\" class=\"caem-tile__link\"></p>\\r\\n\\t\\t</a>\\r\\n\\t</caem-tile>\\r\\n\\r\\n\\t<div class=\"caem-card-svg-source\" hidden><svg xmlns=\"http://www.w3.org/2000/svg\" id=\"accelerated-computing\" viewBox=\"0 0 32 32\"><path d=\"M19,29.36c-3.401,0-6.596-1.506-8.764-4.131l0.556-0.459c2.03,2.459,5.022,3.869,8.208,3.869 c5.867,0,10.64-4.772,10.64-10.64c0-5.867-4.772-10.64-10.64-10.64c-3.186,0-6.177,1.411-8.208,3.87l-0.555-0.459 c2.091-2.532,5.137-4.022,8.403-4.125V5.36H16c-0.199,0-0.36-0.161-0.36-0.36V3c0-0.199,0.161-0.36,0.36-0.36h6 c0.199,0,0.36,0.161,0.36,0.36v2c0,0.199-0.161,0.36-0.36,0.36h-2.64v1.286c6.098,0.191,11,5.211,11,11.354 C30.36,24.264,25.264,29.36,19,29.36z M16.36,4.64h5.28V3.36h-5.28V4.64z M14,23.36H4v-0.72h10V23.36z M12,18.36H2v-0.72h10V18.36z M19.179,18.312l-0.357-0.625l7-4l0.357,0.625L19.179,18.312z M14,13.36H4v-0.72h10V13.36z\"/></svg></div>\\r\\n\\r\\n\\n    \\n\\r\\n\\r\\n\\n    \\n\\r\\n\\n\\n    \\r\\n\\r\\n\\r\\n\\t<caem-tile label=\"Products\" cta-type=\"local\" href=\"https://www.ibm.com/campaign/data-and-ai-trust?lnk=hprc3us\" target=\"_self\" data-video-modal-type=\"media-center\">\\r\\n\\r\\n\\t\\t\\r\\n\\r\\n\\t\\t<div slot=\"image\"><div class=\"image-dm image\">\\n\\n\\n\\t<div data-cmp-hook-image=\"imageV3IBM\" data-cmp-is=\"image\" data-cmp-widths=\"320,384,512,640,768,960,1024,1152,1280,1536,1584\" data-cmp-dmimage data-cmp-src=\"https://assets.ibm.com/is/image/ibm/data-security-ai?ts=1756367418936&amp;dpr=off\" data-asset-id=\"cb17b0b5-7b74-4916-8391-0c1714db10d1\" data-cmp-filereference=\"/content/dam/worldwide-content/creative-assets/ibs/ul/cci/bd/a6/data-security-ai.png\" id=\"image-dm-e53be37ea3\" data-cmp-data-layer=\"{&#34;image-dm-e53be37ea3&#34;:{&#34;@type&#34;:&#34;adobe-cms/components/content/atoms/image-dm&#34;,&#34;repo:modifyDate&#34;:&#34;2025-08-28T07:50:18Z&#34;,&#34;dc:title&#34;:&#34;Secure data with watsonx.data&#34;,&#34;image&#34;:{&#34;repo:id&#34;:&#34;cb17b0b5-7b74-4916-8391-0c1714db10d1&#34;,&#34;repo:modifyDate&#34;:&#34;2025-08-04T18:03:54Z&#34;,&#34;@type&#34;:&#34;image/png&#34;,&#34;repo:path&#34;:&#34;/content/dam/worldwide-content/creative-assets/ibs/ul/cci/bd/a6/data-security-ai.png&#34;,&#34;xdm:tags&#34;:[&#34;properties:orientation/square&#34;],&#34;xdm:smartTags&#34;:{&#34;minimalist photography&#34;:0.873,&#34;clipart&#34;:0.853,&#34;web icon&#34;:0.9,&#34;organization&#34;:0.806,&#34;graphic design&#34;:0.802}}}}\" class=\"cmp-image\">\\n\\t\\t<script type=\"application/json\">\\n\\t\\t\\t{\\n\\t\\t\\t\\t\"widths\": [320,384,512,640,768,960,1024,1152,1280,1536,1584],\\n\\t\\t\\t\\t\"maximagesize\": \"5000\",\\n\\t\\t\\t\\t\"aspectratio\": \"\",\\n\\t\\t\\t\\t\"urls\": {\\n\\t\\t\\t\\t\\t\"dynamicmedia\": \"https://assets.ibm.com/is/image/ibm/data-security-ai\",\\n\\t\\t\\t\\t\\t\"adaptiveservlet\": \"https://www.ibm.com//_jcr_content/root/table_of_contents/tile_group_container/container/tile_card_copy_15295_1739452896/image.coreimg.90{.width}.png/1756367418936/data-security-ai.png\",\\n\\t\\t\\t\\t\\t\"assetdelivery\": \"/adobe/dynamicmedia/deliver/dm-aid--cb17b0b5-7b74-4916-8391-0c1714db10d1/data-security-ai.png?preferwebp=true\"\\n\\t\\t\\t\\t},\\n\\t\\t\\t\\t\"usecustomcrop\": \"false\",\\n\\t\\t\\t\\t\"customcrops\": {\\n\\t\\t\\t\\t\\t\"1x1\": \"\",\\n\\t\\t\\t\\t\\t\"2x1\": \"\",\\n\\t\\t\\t\\t\\t\"3x2\": \"\",\\n\\t\\t\\t\\t\\t\"4x3\": \"\",\\n\\t\\t\\t\\t\\t\"5x2\": \"\",\\n\\t\\t\\t\\t\\t\"16x9\": \"\"\\n\\t\\t\\t\\t}\\n\\t\\t\\t}\\n\\t\\t</script>\\n\\t\\t\\n\\n\\t\\t\\t\\n\\t\\t\\t\\t\\n\\t\\t\\t\\t\\t\\n\\n\\t\\t\\t\\t\\t<img src=\"https://assets.ibm.com/is/image/ibm/data-security-ai?ts=1756367418936&dpr=off\" srcset=\"data:image/gif;base64,R0lGODlhAQABAAAAACH5BAEKAAEALAAAAAABAAEAAAICTAEAOw==\" loading=\"lazy\" class=\"cmp-image__image\" itemprop=\"contentUrl\" width=\"3840\" height=\"3840\" alt=\"Various forms of data\" title=\"Colorful icon grid with diverse visuals\"/>\\n\\t\\t\\t\\t\\n\\n\\t\\t\\t\\t\\n\\n\\t\\t\\t\\n\\t\\t\\n\\t\\t\\n\\n\\t\\t\\n\\n\\t</div>\\n\\t\\n    \\n\\n\\n\\n\\n    \\n\\n</div>\\n</div>\\r\\n\\r\\n\\t\\t<div class=\"caem-tile__text\">Build trust to accelerate smarter, more responsible AI adoption</div>\\r\\n\\t\\t\\n    \\n    \\n\\n\\n\\n    \\n\\r\\n\\t\\t<a slot=\"cta\" href=\"https://www.ibm.com/campaign/data-and-ai-trust?lnk=hprc3us\" target=\"_self\">\\r\\n\\t\\t\\t<p slot=\"cta\" class=\"caem-tile__link\"></p>\\r\\n\\t\\t</a>\\r\\n\\t</caem-tile>\\r\\n\\r\\n\\t<div class=\"caem-card-svg-source\" hidden><svg xmlns=\"http://www.w3.org/2000/svg\" id=\"accelerated-computing\" viewBox=\"0 0 32 32\"><path d=\"M19,29.36c-3.401,0-6.596-1.506-8.764-4.131l0.556-0.459c2.03,2.459,5.022,3.869,8.208,3.869 c5.867,0,10.64-4.772,10.64-10.64c0-5.867-4.772-10.64-10.64-10.64c-3.186,0-6.177,1.411-8.208,3.87l-0.555-0.459 c2.091-2.532,5.137-4.022,8.403-4.125V5.36H16c-0.199,0-0.36-0.161-0.36-0.36V3c0-0.199,0.161-0.36,0.36-0.36h6 c0.199,0,0.36,0.161,0.36,0.36v2c0,0.199-0.161,0.36-0.36,0.36h-2.64v1.286c6.098,0.191,11,5.211,11,11.354 C30.36,24.264,25.264,29.36,19,29.36z M16.36,4.64h5.28V3.36h-5.28V4.64z M14,23.36H4v-0.72h10V23.36z M12,18.36H2v-0.72h10V18.36z M19.179,18.312l-0.357-0.625l7-4l0.357,0.625L19.179,18.312z M14,13.36H4v-0.72h10V13.36z\"/></svg></div>\\r\\n\\r\\n\\n    \\n\\r\\n\\r\\n\\n    \\n\\r\\n\\n\\n    \\r\\n\\r\\n\\r\\n\\t<caem-tile label=\"Report\" cta-type=\"local\" href=\"https://www.ibm.com/thought-leadership/institute-business-value/report/quantum-safe?lnk=hprc4us\" target=\"_self\" data-video-modal-type=\"media-center\">\\r\\n\\r\\n\\t\\t\\r\\n\\r\\n\\t\\t<div slot=\"image\"><div class=\"image-dm image\">\\n\\n\\n\\t<div data-cmp-aspectratio=\"1x1\" data-cmp-hook-image=\"imageV3IBM\" data-cmp-is=\"image\" data-cmp-widths=\"320,384,512,640,768,960,1024,1152,1280,1536,1584\" data-cmp-dmimage data-cmp-src=\"https://assets.ibm.com/is/image/ibm/ibm_quantum_safe_4k_hero_05?ts=1756367423193&amp;dpr=off\" data-asset-id=\"02aa7c7b-7f86-4f28-80cf-2dfb80b1e3f6\" data-cmp-filereference=\"/content/dam/connectedassets-adobe-cms/worldwide-content/creative-assets/s-migr/ul/g/02/aa/ibm_quantum_safe_4k_hero_05.png\" id=\"image-dm-547f447b73\" data-cmp-data-layer=\"{&#34;image-dm-547f447b73&#34;:{&#34;@type&#34;:&#34;adobe-cms/components/content/atoms/image-dm&#34;,&#34;repo:modifyDate&#34;:&#34;2025-08-28T07:50:23Z&#34;,&#34;dc:title&#34;:&#34;IBM Quantum Safe Hero&#34;,&#34;image&#34;:{&#34;repo:id&#34;:&#34;02aa7c7b-7f86-4f28-80cf-2dfb80b1e3f6&#34;,&#34;repo:modifyDate&#34;:&#34;2025-07-10T17:21:30Z&#34;,&#34;@type&#34;:&#34;image/png&#34;,&#34;repo:path&#34;:&#34;/content/dam/connectedassets-adobe-cms/worldwide-content/creative-assets/s-migr/ul/g/02/aa/ibm_quantum_safe_4k_hero_05.png&#34;}}}\" class=\"cmp-image\">\\n\\t\\t<script type=\"application/json\">\\n\\t\\t\\t{\\n\\t\\t\\t\\t\"widths\": [320,384,512,640,768,960,1024,1152,1280,1536,1584],\\n\\t\\t\\t\\t\"maximagesize\": \"5000\",\\n\\t\\t\\t\\t\"aspectratio\": \"1x1\",\\n\\t\\t\\t\\t\"urls\": {\\n\\t\\t\\t\\t\\t\"dynamicmedia\": \"https://assets.ibm.com/is/image/ibm/ibm_quantum_safe_4k_hero_05\",\\n\\t\\t\\t\\t\\t\"adaptiveservlet\": \"https://www.ibm.com//_jcr_content/root/table_of_contents/tile_group_container/container/tile_card_2026675993/image.coreimg.90{.width}.png/1756367423193/ibm-quantum-safe-4k-hero-05.png\",\\n\\t\\t\\t\\t\\t\"assetdelivery\": \"/adobe/dynamicmedia/deliver/dm-aid--02aa7c7b-7f86-4f28-80cf-2dfb80b1e3f6/ibm-quantum-safe-4k-hero-05.png?preferwebp=true\"\\n\\t\\t\\t\\t},\\n\\t\\t\\t\\t\"usecustomcrop\": \"false\",\\n\\t\\t\\t\\t\"customcrops\": {\\n\\t\\t\\t\\t\\t\"1x1\": \"\",\\n\\t\\t\\t\\t\\t\"2x1\": \"\",\\n\\t\\t\\t\\t\\t\"3x2\": \"\",\\n\\t\\t\\t\\t\\t\"4x3\": \"\",\\n\\t\\t\\t\\t\\t\"5x2\": \"\",\\n\\t\\t\\t\\t\\t\"16x9\": \"\"\\n\\t\\t\\t\\t}\\n\\t\\t\\t}\\n\\t\\t</script>\\n\\t\\t\\n\\n\\t\\t\\t\\n\\t\\t\\t\\t\\n\\t\\t\\t\\t\\t\\n\\n\\t\\t\\t\\t\\t<img src=\"https://assets.ibm.com/is/image/ibm/ibm_quantum_safe_4k_hero_05?ts=1756367423193&dpr=off\" srcset=\"data:image/gif;base64,R0lGODlhAQABAAAAACH5BAEKAAEALAAAAAABAAEAAAICTAEAOw==\" loading=\"lazy\" class=\"cmp-image__image\" itemprop=\"contentUrl\" width=\"3840\" height=\"2160\" alt=\"IBM Quantum Safe Hero\"/>\\n\\t\\t\\t\\t\\n\\n\\t\\t\\t\\t\\n\\n\\t\\t\\t\\n\\t\\t\\n\\t\\t\\n\\n\\t\\t\\n\\n\\t</div>\\n\\t\\n    \\n\\n\\n\\n\\n    \\n\\n</div>\\n</div>\\r\\n\\r\\n\\t\\t<div class=\"caem-tile__text\">The quantum clock is ticking: How quantum safe is your organization?</div>\\r\\n\\t\\t\\n    \\n    \\n\\n\\n\\n    \\n\\r\\n\\t\\t<a slot=\"cta\" href=\"https://www.ibm.com/thought-leadership/institute-business-value/report/quantum-safe?lnk=hprc4us\" target=\"_self\">\\r\\n\\t\\t\\t<p slot=\"cta\" class=\"caem-tile__link\"></p>\\r\\n\\t\\t</a>\\r\\n\\t</caem-tile>\\r\\n\\r\\n\\t<div class=\"caem-card-svg-source\" hidden><svg xmlns=\"http://www.w3.org/2000/svg\" id=\"accelerated-computing\" viewBox=\"0 0 32 32\"><path d=\"M19,29.36c-3.401,0-6.596-1.506-8.764-4.131l0.556-0.459c2.03,2.459,5.022,3.869,8.208,3.869 c5.867,0,10.64-4.772,10.64-10.64c0-5.867-4.772-10.64-10.64-10.64c-3.186,0-6.177,1.411-8.208,3.87l-0.555-0.459 c2.091-2.532,5.137-4.022,8.403-4.125V5.36H16c-0.199,0-0.36-0.161-0.36-0.36V3c0-0.199,0.161-0.36,0.36-0.36h6 c0.199,0,0.36,0.161,0.36,0.36v2c0,0.199-0.161,0.36-0.36,0.36h-2.64v1.286c6.098,0.191,11,5.211,11,11.354 C30.36,24.264,25.264,29.36,19,29.36z M16.36,4.64h5.28V3.36h-5.28V4.64z M14,23.36H4v-0.72h10V23.36z M12,18.36H2v-0.72h10V18.36z M19.179,18.312l-0.357-0.625l7-4l0.357,0.625L19.179,18.312z M14,13.36H4v-0.72h10V13.36z\"/></svg></div>\\r\\n\\r\\n\\n    \\n\\r\\n\\r\\n\\n    \\n\\r\\n\\n\\n\\n\\n\\n      </caem-tile-group>\\n  </div>\\n\\n\\n\\n  \\n    <script defer src=\"/etc.clientlibs/adobe-cms/components/content/organisms/tile-group/tile-group-container/clientlibs.lc-92a38a0479519d42cd16961ae5a4bd09-lc.min.js\"></script>\\n\\n\\n\\n</div>\\n<div class=\"50-50-content-block hideHorizontalRule\"><div class=\"cds--50-50-content-block\">\\n  <div class=\"cds--row\">\\n    \\n      <h2 class=\"cds--50-50-content-block__heading cds--col-lg-8 expressive-heading-05\">\\n        \\n\\n\\n\\n  \\n    Developer toolkit\\n\\n\\n\\n\\n\\n\\n    \\n\\n\\n      </h2>\\n    \\n  </div>\\n\\n  <div class=\"cds--row\">\\n    <div class=\"cds--50-50-content-block__item cds--col-lg-8\">\\n      \\n<div class=\"cds--content-block-50-50-card \">\\n    \\n    <div class=\"cds--no-gutter cds--content-block-50-50-card__media\">\\n        \\n\\n\\n\\t\\n\\t\\n    \\n\\n\\n\\n\\n    \\n\\n\\n    </div>\\n    <div class=\"cds--content-block-50-50-card__heading\">\\n        <h4 class=\"expressive-heading-04\">\\n            \\n\\n\\n    \\n\\n  \\n\\n<span class=\"enhanced-title text-color-gradient-90-blue-to-teal\">Build, learn, deploy</span>\\n\\n\\n\\n    \\n\\n\\n\\n\\n\\n\\n\\n    \\n\\n\\n        </h4>\\n    </div>\\n    <div>\\n        <div class=\"cds--content-block-50-50-card__body\">\\n\\n    \\n    \\n    \\n    <div id=\"content-block-container-741f569af4\" class=\"cmp-container\">\\n        \\n        <div class=\"standalone-text rich-text text\">\\r\\n    <span class=\"  normal cms-richtext\">\\r\\n        <p>Build smart, learn fast, win big and stay in control of your AI with governance.</p>\\r\\n\\r\\n    </span>\\r\\n    \\n    \\n\\r\\n\\r\\n</div>\\n<div class=\"link button\">\\n    \\n    \\n        \\n        \\n        \\n        \\n        \\n        \\n        \\n        \\n            <a cta-type=\"local\" href=\"https://www.ibm.com/community/ibm-techxchange-conference/?lnk=hpdev1us\" icon-placement=\"right\" target=\"_blank\" data-link-type=\"local\" data-dynamic-properties=\"{&quot;ctaUrl&quot;:&quot;href&quot;}\" data-video-modal-type=\"media-center\">\\n                \\n                <span class=\"cds--link-text\" data-link-text data-dynamic-inner-content=\"ctaLabel\">Join IBM’s dev conference for labs, skills and certifications</span>\\n                \\n    <!-- LTR - Left to Right version -->\\n    \\n    <svg xmlns=\"http://www.w3.org/2000/svg\" slot=\"icon\" width=\"20\" height=\"20\" focusable=\"false\" fill=\"currentColor\" viewBox=\"0 0 20 20\" aria-hidden=\"true\">\\n        <path d=\"M11.8 2.8L10.8 3.8 16.2 9.3 1 9.3 1 10.7 16.2 10.7 10.8 16.2 11.8 17.2 19 10z\"></path>\\n    </svg>\\n\\n    <!-- RTL - Right to Left version -->\\n    \\n    \\n    \\n    \\n    \\n    \\n    \\n    \\n\\n            </a>\\n        \\n    \\n    \\n    \\n\\n\\n</div>\\n<div class=\"link button\">\\n    \\n    \\n        \\n        \\n        \\n        \\n        \\n        \\n        \\n        \\n            <a cta-type=\"external\" href=\"https://github.com/ibm-granite-community/granite-snack-cookbook?lnk=hpdev2us\" icon-placement=\"right\" target=\"_blank\" data-link-type=\"external\" data-dynamic-properties=\"{&quot;ctaUrl&quot;:&quot;href&quot;}\" data-video-modal-type=\"media-center\">\\n                \\n                <span class=\"cds--link-text\" data-link-text data-dynamic-inner-content=\"ctaLabel\">Get the IBM® Granite® Cookbook</span>\\n                \\n    <!-- LTR - Left to Right version -->\\n    \\n    <!-- RTL - Right to Left version -->\\n    \\n    \\n    \\n    <svg xmlns=\"http://www.w3.org/2000/svg\" slot=\"icon\" width=\"20\" height=\"20\" focusable=\"false\" fill=\"currentColor\" viewBox=\"0 0 32 32\" aria-hidden=\"true\">\\n        <path d=\"M26,28H6a2.0027,2.0027,0,0,1-2-2V6A2.0027,2.0027,0,0,1,6,4H16V6H6V26H26V16h2V26A2.0027,2.0027,0,0,1,26,28Z\"></path>\\n        <path d=\"M20 2L20 4 26.586 4 18 12.586 19.414 14 28 5.414 28 12 30 12 30 2 20 2z\"></path>\\n    </svg>\\n\\n    \\n    \\n    \\n    \\n    \\n\\n            </a>\\n        \\n    \\n    \\n    \\n\\n\\n</div>\\n<div class=\"link button\">\\n    \\n    \\n        \\n        \\n        \\n        \\n        \\n        \\n        \\n        \\n            <a cta-type=\"local\" href=\"https://developer.ibm.com/technologies/artificial-intelligence/?lnk=hpdev3us\" icon-placement=\"right\" target=\"_self\" data-link-type=\"local\" data-dynamic-properties=\"{&quot;ctaUrl&quot;:&quot;href&quot;}\" data-video-modal-type=\"media-center\">\\n                \\n                <span class=\"cds--link-text\" data-link-text data-dynamic-inner-content=\"ctaLabel\">Explore AI courses, APIs, data sets and more</span>\\n                \\n    <!-- LTR - Left to Right version -->\\n    \\n    <svg xmlns=\"http://www.w3.org/2000/svg\" slot=\"icon\" width=\"20\" height=\"20\" focusable=\"false\" fill=\"currentColor\" viewBox=\"0 0 20 20\" aria-hidden=\"true\">\\n        <path d=\"M11.8 2.8L10.8 3.8 16.2 9.3 1 9.3 1 10.7 16.2 10.7 10.8 16.2 11.8 17.2 19 10z\"></path>\\n    </svg>\\n\\n    <!-- RTL - Right to Left version -->\\n    \\n    \\n    \\n    \\n    \\n    \\n    \\n    \\n\\n            </a>\\n        \\n    \\n    \\n    \\n\\n\\n</div>\\n<div class=\"link button\">\\n    \\n    \\n        \\n        \\n        \\n        \\n        \\n        \\n        \\n        \\n            <a cta-type=\"local\" href=\"https://www.ibm.com/granite?lnk=hpdev4us\" icon-placement=\"right\" target=\"_self\" data-link-type=\"local\" data-dynamic-properties=\"{&quot;ctaUrl&quot;:&quot;href&quot;}\" data-video-modal-type=\"media-center\">\\n                \\n                <span class=\"cds--link-text\" data-link-text data-dynamic-inner-content=\"ctaLabel\">Start building with IBM Granite models</span>\\n                \\n    <!-- LTR - Left to Right version -->\\n    \\n    <svg xmlns=\"http://www.w3.org/2000/svg\" slot=\"icon\" width=\"20\" height=\"20\" focusable=\"false\" fill=\"currentColor\" viewBox=\"0 0 20 20\" aria-hidden=\"true\">\\n        <path d=\"M11.8 2.8L10.8 3.8 16.2 9.3 1 9.3 1 10.7 16.2 10.7 10.8 16.2 11.8 17.2 19 10z\"></path>\\n    </svg>\\n\\n    <!-- RTL - Right to Left version -->\\n    \\n    \\n    \\n    \\n    \\n    \\n    \\n    \\n\\n            </a>\\n        \\n    \\n    \\n    \\n\\n\\n</div>\\n\\n        \\n    </div>\\n\\n</div>\\n    </div>\\n</div>\\n\\n    \\n    \\n\\n\\n    </div>\\n    <div class=\"cds--50-50-content-block__item cds--col-lg-8\">\\n      \\n<div class=\"cds--content-block-50-50-card \">\\n    \\n    <div class=\"cds--no-gutter cds--content-block-50-50-card__media\">\\n        \\n\\n\\n\\t\\n\\t\\n    \\n\\n\\n\\n\\n    \\n\\n\\n    </div>\\n    <div class=\"cds--content-block-50-50-card__heading\">\\n        <h4 class=\"expressive-heading-04\">\\n            \\n\\n\\n    \\n\\n  \\n\\n<span class=\"enhanced-title text-color-gradient-90-blue-to-teal\">Why IBM?</span>\\n\\n\\n\\n    \\n\\n\\n\\n\\n\\n\\n\\n    \\n\\n\\n        </h4>\\n    </div>\\n    <div>\\n        <div class=\"cds--content-block-50-50-card__body\">\\n\\n    \\n    \\n    \\n    <div id=\"content-block-container-1e80863b61\" class=\"cmp-container\">\\n        \\n        <div class=\"standalone-text rich-text text\">\\r\\n    <span class=\"  normal cms-richtext\">\\r\\n        <p>See what the analysts have to say and start your hands-on journey.</p>\\r\\n\\r\\n    </span>\\r\\n    \\n    \\n\\r\\n\\r\\n</div>\\n<div class=\"link button\">\\n    \\n    \\n        \\n        \\n        \\n        \\n        \\n        \\n        \\n        \\n            <a cta-type=\"local\" href=\"https://www.ibm.com/new/announcements/openai-s-open-source-models-available-on-ibm-watsonx-ai?lnk=hpdev5us\" icon-placement=\"right\" target=\"_self\" data-link-type=\"local\" data-dynamic-properties=\"{&quot;ctaUrl&quot;:&quot;href&quot;}\" data-video-modal-type=\"media-center\">\\n                \\n                <span class=\"cds--link-text\" data-link-text data-dynamic-inner-content=\"ctaLabel\">New OpenAI open-source models now available on watsonx.ai®</span>\\n                \\n    <!-- LTR - Left to Right version -->\\n    \\n    <svg xmlns=\"http://www.w3.org/2000/svg\" slot=\"icon\" width=\"20\" height=\"20\" focusable=\"false\" fill=\"currentColor\" viewBox=\"0 0 20 20\" aria-hidden=\"true\">\\n        <path d=\"M11.8 2.8L10.8 3.8 16.2 9.3 1 9.3 1 10.7 16.2 10.7 10.8 16.2 11.8 17.2 19 10z\"></path>\\n    </svg>\\n\\n    <!-- RTL - Right to Left version -->\\n    \\n    \\n    \\n    \\n    \\n    \\n    \\n    \\n\\n            </a>\\n        \\n    \\n    \\n    \\n\\n\\n</div>\\n<div class=\"link button\">\\n    \\n    \\n        \\n        \\n        \\n        \\n        \\n        \\n        \\n        \\n            <a cta-type=\"local\" href=\"https://research.ibm.com/blog/granite-vision-ocr-leaderboard?lnk=hpdev6us\" icon-placement=\"right\" target=\"_self\" data-link-type=\"local\" data-dynamic-properties=\"{&quot;ctaUrl&quot;:&quot;href&quot;}\" data-video-modal-type=\"media-center\">\\n                \\n                <span class=\"cds--link-text\" data-link-text data-dynamic-inner-content=\"ctaLabel\">See why Granite Vision tops the SLMs chart in doc understanding</span>\\n                \\n    <!-- LTR - Left to Right version -->\\n    \\n    <svg xmlns=\"http://www.w3.org/2000/svg\" slot=\"icon\" width=\"20\" height=\"20\" focusable=\"false\" fill=\"currentColor\" viewBox=\"0 0 20 20\" aria-hidden=\"true\">\\n        <path d=\"M11.8 2.8L10.8 3.8 16.2 9.3 1 9.3 1 10.7 16.2 10.7 10.8 16.2 11.8 17.2 19 10z\"></path>\\n    </svg>\\n\\n    <!-- RTL - Right to Left version -->\\n    \\n    \\n    \\n    \\n    \\n    \\n    \\n    \\n\\n            </a>\\n        \\n    \\n    \\n    \\n\\n\\n</div>\\n<div class=\"link button\">\\n    \\n    \\n        \\n        \\n        \\n        \\n        \\n        \\n        \\n        \\n            <a cta-type=\"local\" href=\"https://www.ibm.com/new/announcements/governing-ai-with-confidence-our-journey-with-watsonx-governance?lnk=hpdev7us\" icon-placement=\"right\" target=\"_self\" data-link-type=\"local\" data-dynamic-properties=\"{&quot;ctaUrl&quot;:&quot;href&quot;}\" data-video-modal-type=\"media-center\">\\n                \\n                <span class=\"cds--link-text\" data-link-text data-dynamic-inner-content=\"ctaLabel\">Forrester names IBM a Q3 2025 leader in AI Governance Solutions</span>\\n                \\n    <!-- LTR - Left to Right version -->\\n    \\n    <svg xmlns=\"http://www.w3.org/2000/svg\" slot=\"icon\" width=\"20\" height=\"20\" focusable=\"false\" fill=\"currentColor\" viewBox=\"0 0 20 20\" aria-hidden=\"true\">\\n        <path d=\"M11.8 2.8L10.8 3.8 16.2 9.3 1 9.3 1 10.7 16.2 10.7 10.8 16.2 11.8 17.2 19 10z\"></path>\\n    </svg>\\n\\n    <!-- RTL - Right to Left version -->\\n    \\n    \\n    \\n    \\n    \\n    \\n    \\n    \\n\\n            </a>\\n        \\n    \\n    \\n    \\n\\n\\n</div>\\n<div class=\"link button\">\\n    \\n    \\n        \\n        \\n        \\n        \\n        \\n        \\n        \\n        \\n            <a cta-type=\"local\" href=\"https://www.ibm.com/products/watsonx-code-assistant/pricing?lnk=hpdev8us\" icon-placement=\"right\" target=\"_self\" data-link-type=\"local\" data-dynamic-properties=\"{&quot;ctaUrl&quot;:&quot;href&quot;}\" data-video-modal-type=\"media-center\">\\n                \\n                <span class=\"cds--link-text\" data-link-text data-dynamic-inner-content=\"ctaLabel\">Get 25% off watsonx Code Assistant® Essentials</span>\\n                \\n    <!-- LTR - Left to Right version -->\\n    \\n    <svg xmlns=\"http://www.w3.org/2000/svg\" slot=\"icon\" width=\"20\" height=\"20\" focusable=\"false\" fill=\"currentColor\" viewBox=\"0 0 20 20\" aria-hidden=\"true\">\\n        <path d=\"M11.8 2.8L10.8 3.8 16.2 9.3 1 9.3 1 10.7 16.2 10.7 10.8 16.2 11.8 17.2 19 10z\"></path>\\n    </svg>\\n\\n    <!-- RTL - Right to Left version -->\\n    \\n    \\n    \\n    \\n    \\n    \\n    \\n    \\n\\n            </a>\\n        \\n    \\n    \\n    \\n\\n\\n</div>\\n\\n        \\n    </div>\\n\\n</div>\\n    </div>\\n</div>\\n\\n    \\n    \\n\\n\\n    </div>\\n  </div>\\n\\n  <div>\\n    \\n    \\n    \\n        <div role=\"separator\" class=\"cmp-horizontal-rule\"></div>\\n        \\n    \\n\\n    \\n\\n\\n  </div>\\n\\n</div>\\n</div>\\n<div class=\"promotional-banner\">\\n\\n\\n\\n    \\n\\n<div class=\"promotionalBanner\" data-node=\"/content/adobe-cms/us/en/homepage/jcr:content/root/table_of_contents/promotional_banner_c_40902868\" isapicall=\"NonApi\">\\n    <c4d-promo-banner class=\"promotional-banner__container theme-white add-spacing-top add-spacing-bottom\">\\n        \\n            \\n\\n\\n\\t<div data-cmp-aspectratio=\"original\" data-cmp-hook-image=\"imageV3IBM\" slot=\"image\" data-cmp-is=\"image\" data-cmp-widths=\"320,384,512,640,768,960,1024,1152,1280,1536,1584\" data-cmp-dmimage data-cmp-src=\"https://assets.ibm.com/is/image/ibm/big-blue-for-you-promo?ts=1756367427881&amp;dpr=off\" data-asset-id=\"ca5a87c8-2035-4ad5-a70d-950ae11f8a22\" data-cmp-filereference=\"/content/dam/worldwide-content/creative-assets/s-migr/ul/g/c9/e4/big-blue-for-you-promo.png\" id=\"image-dm-4af3c7aad3\" data-cmp-data-layer=\"{&#34;image-dm-4af3c7aad3&#34;:{&#34;@type&#34;:&#34;adobe-cms/components/content/atoms/image-dm&#34;,&#34;repo:modifyDate&#34;:&#34;2025-08-28T07:50:27Z&#34;,&#34;dc:title&#34;:&#34;Big Blue for You promotional banner&#34;,&#34;image&#34;:{&#34;repo:id&#34;:&#34;ca5a87c8-2035-4ad5-a70d-950ae11f8a22&#34;,&#34;repo:modifyDate&#34;:&#34;2025-05-09T12:26:50Z&#34;,&#34;@type&#34;:&#34;image/png&#34;,&#34;repo:path&#34;:&#34;/content/dam/worldwide-content/creative-assets/s-migr/ul/g/c9/e4/big-blue-for-you-promo.png&#34;,&#34;xdm:tags&#34;:[&#34;properties:orientation/landscape&#34;],&#34;xdm:smartTags&#34;:{&#34;coupon&#34;:0.822,&#34;commercial photography&#34;:0.858,&#34;payment card&#34;:0.869,&#34;commerce&#34;:0.821,&#34;retail&#34;:0.831,&#34;shopping bag&#34;:0.829,&#34;marketing&#34;:0.801,&#34;sale&#34;:0.904,&#34;price tag&#34;:0.82,&#34;clearance&#34;:0.798,&#34;rectangle&#34;:0.774,&#34;credit card&#34;:0.853,&#34;consumer goods&#34;:0.927,&#34;transaction&#34;:0.76,&#34;shopping&#34;:0.845}}}}\" class=\"cmp-image\">\\n\\t\\t<script type=\"application/json\">\\n\\t\\t\\t{\\n\\t\\t\\t\\t\"widths\": [320,384,512,640,768,960,1024,1152,1280,1536,1584],\\n\\t\\t\\t\\t\"maximagesize\": \"5000\",\\n\\t\\t\\t\\t\"aspectratio\": \"original\",\\n\\t\\t\\t\\t\"urls\": {\\n\\t\\t\\t\\t\\t\"dynamicmedia\": \"https://assets.ibm.com/is/image/ibm/big-blue-for-you-promo\",\\n\\t\\t\\t\\t\\t\"adaptiveservlet\": \"https://www.ibm.com//_jcr_content/root/table_of_contents/promotional_banner_c_40902868/image.coreimg.90{.width}.png/1756367427881/big-blue-for-you-promo.png\",\\n\\t\\t\\t\\t\\t\"assetdelivery\": \"/adobe/dynamicmedia/deliver/dm-aid--ca5a87c8-2035-4ad5-a70d-950ae11f8a22/big-blue-for-you-promo.png?preferwebp=true\"\\n\\t\\t\\t\\t},\\n\\t\\t\\t\\t\"usecustomcrop\": \"false\",\\n\\t\\t\\t\\t\"customcrops\": {\\n\\t\\t\\t\\t\\t\"1x1\": \"\",\\n\\t\\t\\t\\t\\t\"2x1\": \"\",\\n\\t\\t\\t\\t\\t\"3x2\": \"\",\\n\\t\\t\\t\\t\\t\"4x3\": \"\",\\n\\t\\t\\t\\t\\t\"5x2\": \"\",\\n\\t\\t\\t\\t\\t\"16x9\": \"\"\\n\\t\\t\\t\\t}\\n\\t\\t\\t}\\n\\t\\t</script>\\n\\t\\t\\n\\n\\t\\t\\t\\n\\t\\t\\t\\t\\n\\t\\t\\t\\t\\t\\n\\n\\t\\t\\t\\t\\t<img src=\"https://assets.ibm.com/is/image/ibm/big-blue-for-you-promo?ts=1756367427881&dpr=off\" srcset=\"data:image/gif;base64,R0lGODlhAQABAAAAACH5BAEKAAEALAAAAAABAAEAAAICTAEAOw==\" loading=\"lazy\" class=\"cmp-image__image\" itemprop=\"contentUrl\" width=\"3840\" height=\"1601\" alt=\"Big Blue for You promotional banner\"/>\\n\\t\\t\\t\\t\\n\\n\\t\\t\\t\\t\\n\\n\\t\\t\\t\\n\\t\\t\\n\\t\\t\\n\\n\\t\\t\\n\\n\\t</div>\\n\\t\\n    \\n\\n\\n\\n\\n    \\n\\n\\n\\t        \\n        \\n        \\n\\n        \\n            <span class=\"heading-compact-02\"><p>Big Blue for You</p>\\r\\n</span>\\n        \\n        <div class=\" \"><p>Get 3 months free on your first annual subscription on selected IBM products until 30 September 2025</p>\\r\\n</div>\\n        \\n            \\n    \\n    \\n    \\n    \\n    <a href=\"https://www.ibm.com/products/offers-and-discounts?lnk=hpdo1us\" target=\"_self\" slot=\"cta\">\\n        <c4d-button slot=\"cta\" href=\"https://www.ibm.com/products/offers-and-discounts?lnk=hpdo1us\" target=\"_self\" kind=\"primary\" cta-type=\"local\">\\n            <span>Start saving now</span>\\n            \\n            \\n        </c4d-button>\\n    </a>\\n    \\n    \\n    \\n    \\n\\n    \\n\\n\\n        \\n        \\n    <svg xmlns=\"http://www.w3.org/2000/svg\" class=\"promotional-banner__icon\" slot=\"icon\" width=\"20\" height=\"20\" focusable=\"false\" fill=\"currentColor\" viewBox=\"0 0 20 20\" aria-hidden=\"true\">\\n        <path d=\"M11.8 2.8L10.8 3.8 16.2 9.3 1 9.3 1 10.7 16.2 10.7 10.8 16.2 11.8 17.2 19 10z\"></path>\\n    </svg>\\n\\n    \\n    </c4d-promo-banner>\\n</div>\\n\\n    \\n    <script defer src=\"/etc.clientlibs/adobe-cms/clientlibs/clientlib-countdown.lc-0942231516b4e26a9f204ac6619680e1-lc.min.js\"></script>\\n<script defer src=\"/etc.clientlibs/adobe-cms/clientlibs/clientlib-promo-banner.lc-b140041de6fa0a3335b817d98ecbde23-lc.min.js\"></script>\\n\\n\\n</div>\\n<div class=\"card-group-pictogram-full-width card-group-pictogram themed-block theme-white\">\\n    <div class=\"cds--content-block\">\\n        <div class=\"cds--full-width-intro-container\">\\n            \\n\\n<div class=\"intro-section--flex fullwidth-intro-section\">\\n    <div class=\"intro-section--heading-wrapper\">\\n        <h2 class=\"expressive-heading-05 \">\\n            \\n\\n\\n\\n  \\n    Lead in the AI era with IBM\\n\\n\\n\\n\\n\\n\\n    \\n\\n\\n        </h2>\\n    </div>\\n    <div class=\"intro-section--content-wrapper\">\\n        <span class=\"expressive-heading-03\">\\n            <div class=\"cms-richtext \" id=\"rich-text-06b35d63d7\" data-dynamic-inner-content=\"description\">\\n    <p>From next-generation AI to cutting-edge\\xa0<a href=\"https://www.ibm.com/software?lnk&#61;hpfp1us\">software</a>, our deep expertise across industries can help you reinvent how your business works in the age of AI.</p>\\r\\n\\n    \\n    \\n    \\n    \\n\\n</div>\\n        </span>\\n\\n        \\n            <c4d-link-list type=\"vertical\">\\n                \\n                    \\n    \\n    \\n    \\n    \\n\\n    \\n    \\n    <script defer src=\"/etc.clientlibs/adobe-cms/clientlibs/clientlib-cibm-cta.lc-eae4808ae355470bf35ca99fe799db42-lc.min.js\"></script>\\n\\n\\n    \\n   \\n\\n                \\n                \\n                    \\n    \\n    \\n    \\n    \\n\\n    \\n    \\n    \\n\\n    \\n   \\n\\n                \\n            </c4d-link-list>\\n        \\n\\n        \\n    </div>\\n</div>\\n\\n\\n    \\n    \\n\\n\\n        </div>\\n        \\n            \\n                <c4d-card-group grid-mode=\"border\" cards-per-row=\"4\" data-autoid=\"c4d--card-group\" style=\"--c4d--card-group--cards-in-row:4\" class=\"themed-pictogram themed-pictogram--blue-teal-gradient\">\\n                    \\n\\n    \\n    \\n    \\n    \\n    \\n        \\n        \\n            \\n            \\n            <c4d-card-group-item color-scheme grid-mode=\"condensed\" data-video-modal-type=\"media-center\" cta-type=\"local\" data-autoid=\"c4d--card-group-item\" href=\"https://www.ibm.com/solutions/ai-agents?lnk=hpfp2us\" target=\"_self\" pictogram-placement=\"bottom\" size>\\n                <c4d-card-heading aria-level=\"3\" data-autoid=\"c4d--card-heading\" role=\"heading\" slot=\"heading\">\\n                    \\n                    AI agents</c4d-card-heading>\\n                <svg slot=\"pictogram\" class=\"cds--card__pictogram\" style=\"--colorized-background:url(\\'#g3\\'); fill: var(--colorized-background)\" focusable=\"false\" height=\"48\" width=\"48\" role=\"img\">\\n                    <svg xmlns=\"http://www.w3.org/2000/svg\" id=\"ai\" viewBox=\"0 0 32 32\"><path d=\"M16.195,31.36c-6.421,0-12.169-4.007-14.399-10.002 C1.051,21.408,0.373,20.771,0.372,20c0-0.75,0.61-1.36,1.36-1.36s1.36,0.61,1.36,1.36c0,0.474-0.243,0.892-0.611,1.135 c2.133,5.698,7.604,9.505,13.714,9.505c6.446,0,11.919-4.301,13.773-10.22c-1.448,2.06-3.877,3.44-6.565,3.44 c-3.822,0-7.066-2.785-7.664-6.525C15.113,17.212,14.64,16.661,14.64,16c0-0.584,0.37-1.083,0.888-1.275 c-0.608-3.421-3.615-5.962-7.125-5.962c-3.947,0-7.04,3.176-7.042,7.231c0,0.002,0,0.004,0,0.006H0.64c0-0.002,0-0.004,0-0.007 C0.644,7.526,7.445,0.64,15.805,0.64c6.42,0,12.168,4.006,14.399,10.001c0.777-0.034,1.425,0.587,1.425,1.358 c0,0.75-0.61,1.36-1.36,1.36s-1.36-0.61-1.36-1.36c0-0.473,0.243-0.891,0.611-1.135C27.387,5.166,21.916,1.36,15.805,1.36 c-6.319,0-11.704,4.134-13.659,9.873c1.402-1.949,3.662-3.19,6.256-3.19c3.881,0,7.204,2.826,7.846,6.62 C16.88,14.779,17.36,15.335,17.36,16c0,0.589-0.376,1.092-0.901,1.28c0.567,3.363,3.496,5.859,6.943,5.859 c3.857,0,7.127-3.118,7.235-6.851c0.001-0.096,0.002-0.192,0.002-0.289h0.721c0,0.033,0,0.065-0.001,0.098h0.001 c0,0.069-0.001,0.138-0.003,0.207C31.196,24.634,24.456,31.36,16.195,31.36z M1.732,19.36c-0.353,0-0.64,0.287-0.64,0.64 s0.287,0.64,0.64,0.64s0.64-0.287,0.64-0.64S2.085,19.36,1.732,19.36z M16,15.36c-0.353,0-0.64,0.287-0.64,0.64 s0.287,0.64,0.64,0.64s0.64-0.287,0.64-0.64S16.353,15.36,16,15.36z M30.269,11.36c-0.353,0-0.64,0.287-0.64,0.64 s0.287,0.64,0.64,0.64s0.64-0.287,0.64-0.64S30.621,11.36,30.269,11.36z\"/></svg>\\n                </svg>\\n                <p>Automate your complex workflows with AI agents and assistants</p>\\n                <a slot=\"footer\" href=\"https://www.ibm.com/solutions/ai-agents?lnk=hpfp2us\" target=\"_self\">\\n                    <c4d-card-footer color-scheme target=\"_self\" cta-type=\"local\" data-autoid=\"c4d--card-footer\" href=\"https://www.ibm.com/solutions/ai-agents?lnk=hpfp2us\" icon-placement=\"right\" parent-href=\"https://www.ibm.com/solutions/ai-agents?lnk=hpfp2us\" slot=\"footer\">\\n                        \\n                    </c4d-card-footer>\\n                </a>\\n            </c4d-card-group-item>\\n        \\n    \\n    \\n    \\n\\n    \\n    \\n    \\n\\n    \\n   \\n    \\n        \\n        \\n            \\n            \\n            <c4d-card-group-item color-scheme grid-mode=\"condensed\" data-video-modal-type=\"media-center\" cta-type=\"local\" data-autoid=\"c4d--card-group-item\" href=\"https://www.ibm.com/solutions/data-and-ai?lnk=hpfp3us\" target=\"_self\" pictogram-placement=\"bottom\" size>\\n                <c4d-card-heading aria-level=\"3\" data-autoid=\"c4d--card-heading\" role=\"heading\" slot=\"heading\">\\n                    \\n                    Data for AI</c4d-card-heading>\\n                <svg slot=\"pictogram\" class=\"cds--card__pictogram\" style=\"--colorized-background:url(\\'#g3\\'); fill: var(--colorized-background)\" focusable=\"false\" height=\"48\" width=\"48\" role=\"img\">\\n                    <svg xmlns=\"http://www.w3.org/2000/svg\" id=\"unstructured-data\" viewBox=\"0 0 32 32\"><path d=\"M30,31.36h-2c-0.199,0-0.36-0.161-0.36-0.36 v-0.64H15.36V31c0,0.199-0.161,0.36-0.36,0.36h-2c-0.199,0-0.36-0.161-0.36-0.36v-0.64H3.36V31c0,0.199-0.161,0.36-0.36,0.36H1 c-0.199,0-0.36-0.161-0.36-0.36v-2c0-0.199,0.161-0.36,0.36-0.36h2c0.199,0,0.36,0.161,0.36,0.36v0.64h9.28v-0.49l-9.789-9.79H1 c-0.199,0-0.36-0.161-0.36-0.36v-2c0-0.199,0.161-0.36,0.36-0.36h2c0.199,0,0.36,0.161,0.36,0.36v1.851l9.789,9.789H15 c0.199,0,0.36,0.161,0.36,0.36v0.64h12.28V29c0-0.199,0.161-0.36,0.36-0.36h2c0.199,0,0.36,0.161,0.36,0.36v2 C30.36,31.199,30.199,31.36,30,31.36z M28.36,30.64h1.279v-1.28H28.36V30.64z M13.36,30.64h1.28v-1.28h-1.28V30.64z M1.36,30.64 h1.28v-1.28H1.36V30.64z M1.36,18.64h1.28v-1.28H1.36V18.64z M27,27.36h-2c-0.199,0-0.36-0.161-0.36-0.36v-1.851l-9.789-9.79H13 c-0.199,0-0.36-0.161-0.36-0.36v-1.851L2.851,3.36H1C0.801,3.36,0.64,3.199,0.64,3V1c0-0.199,0.161-0.36,0.36-0.36h2 c0.199,0,0.36,0.161,0.36,0.36v0.64h12.28V1c0-0.199,0.161-0.36,0.36-0.36h2c0.199,0,0.36,0.161,0.36,0.36v0.64h9.279V1 c0-0.199,0.161-0.36,0.36-0.36h2c0.199,0,0.36,0.161,0.36,0.36v2c0,0.199-0.161,0.36-0.36,0.36h-2c-0.199,0-0.36-0.161-0.36-0.36 V2.36H18.36v0.491l9.789,9.789H30c0.199,0,0.36,0.161,0.36,0.36v2c0,0.199-0.161,0.36-0.36,0.36h-2c-0.199,0-0.36-0.161-0.36-0.36 v-1.851L17.851,3.36H16c-0.199,0-0.36-0.161-0.36-0.36V2.36H3.36v0.491l9.789,9.789H15c0.199,0,0.36,0.161,0.36,0.36v1.851 l9.79,9.789H27c0.199,0,0.36,0.161,0.36,0.36v2C27.36,27.199,27.199,27.36,27,27.36z M25.36,26.64h1.279v-1.28H25.36V26.64z M28.36,14.64h1.279v-1.28H28.36V14.64z M13.36,14.64h1.28v-1.28h-1.28V14.64z M28.36,2.64h1.279V1.36H28.36V2.64z M16.36,2.64h1.28 V1.36h-1.28V2.64z M1.36,2.64h1.28V1.36H1.36V2.64z\"/></svg>\\n                </svg>\\n                <p>Access, integrate, govern and secure all your enterprise data from one place—wherever it resides</p>\\n                <a slot=\"footer\" href=\"https://www.ibm.com/solutions/data-and-ai?lnk=hpfp3us\" target=\"_self\">\\n                    <c4d-card-footer color-scheme target=\"_self\" cta-type=\"local\" data-autoid=\"c4d--card-footer\" href=\"https://www.ibm.com/solutions/data-and-ai?lnk=hpfp3us\" icon-placement=\"right\" parent-href=\"https://www.ibm.com/solutions/data-and-ai?lnk=hpfp3us\" slot=\"footer\">\\n                        \\n                    </c4d-card-footer>\\n                </a>\\n            </c4d-card-group-item>\\n        \\n    \\n    \\n    \\n\\n    \\n    \\n    \\n\\n    \\n   \\n    \\n        \\n        \\n            \\n            \\n            <c4d-card-group-item color-scheme grid-mode=\"condensed\" data-video-modal-type=\"media-center\" cta-type=\"local\" data-autoid=\"c4d--card-group-item\" href=\"https://www.ibm.com/solutions/automation?lnk=hpfp4us\" target=\"_self\" pictogram-placement=\"bottom\" size>\\n                <c4d-card-heading aria-level=\"3\" data-autoid=\"c4d--card-heading\" role=\"heading\" slot=\"heading\">\\n                    \\n                    Automation</c4d-card-heading>\\n                <svg slot=\"pictogram\" class=\"cds--card__pictogram\" style=\"--colorized-background:url(\\'#g3\\'); fill: var(--colorized-background)\" focusable=\"false\" height=\"48\" width=\"48\" role=\"img\">\\n                    <svg xmlns=\"http://www.w3.org/2000/svg\" id=\"automation--decision\" viewBox=\"0 0 32 32\"><path d=\"M27.255,19.255L30.509,16l-3.254-3.254l-0.51,0.509l2.386,2.386H16.149L9.36,8.85V5.36h19.771 l-2.386,2.386l0.51,0.509L30.509,5l-3.254-3.254l-0.51,0.509l2.386,2.386H9C8.801,4.64,8.64,4.801,8.64,5v3.85l-6.895,6.896 c-0.141,0.141-0.141,0.368,0,0.509L8.64,23.15V27c0,0.199,0.161,0.36,0.36,0.36h20.131l-2.386,2.385l0.51,0.51L30.509,27 l-3.254-3.255l-0.51,0.51l2.386,2.385H9.36v-3.49l6.789-6.79h12.982l-2.386,2.385L27.255,19.255z M9,22.491L2.509,16L9,9.508 L15.491,16L9,22.491z\"/></svg>\\n                </svg>\\n                <p>Discover how automation solutions increase productivity while managing costs\\r\\n</p>\\n                <a slot=\"footer\" href=\"https://www.ibm.com/solutions/automation?lnk=hpfp4us\" target=\"_self\">\\n                    <c4d-card-footer color-scheme target=\"_self\" cta-type=\"local\" data-autoid=\"c4d--card-footer\" href=\"https://www.ibm.com/solutions/automation?lnk=hpfp4us\" icon-placement=\"right\" parent-href=\"https://www.ibm.com/solutions/automation?lnk=hpfp4us\" slot=\"footer\">\\n                        \\n                    </c4d-card-footer>\\n                </a>\\n            </c4d-card-group-item>\\n        \\n    \\n    \\n    \\n\\n    \\n    \\n    \\n\\n    \\n   \\n    \\n        \\n        \\n            \\n            \\n            <c4d-card-group-item color-scheme grid-mode=\"condensed\" data-video-modal-type=\"media-center\" cta-type=\"local\" data-autoid=\"c4d--card-group-item\" href=\"https://www.ibm.com/solutions/hybrid-cloud?lnk=hpfp5us\" target=\"_self\" pictogram-placement=\"bottom\" size>\\n                <c4d-card-heading aria-level=\"3\" data-autoid=\"c4d--card-heading\" role=\"heading\" slot=\"heading\">\\n                    \\n                    Hybrid cloud</c4d-card-heading>\\n                <svg slot=\"pictogram\" class=\"cds--card__pictogram\" style=\"--colorized-background:url(\\'#g3\\'); fill: var(--colorized-background)\" focusable=\"false\" height=\"48\" width=\"48\" role=\"img\">\\n                    <svg xmlns=\"http://www.w3.org/2000/svg\" id=\"cloud--infrastructure-management\" viewBox=\"0 0 32 32\"><path d=\"M29,30.36 c-1.302,0-2.36-1.059-2.36-2.36c0-1.179,0.869-2.159,2-2.333V22.36H16.36v3.307c1.131,0.174,2,1.154,2,2.333 c0,1.302-1.059,2.36-2.36,2.36s-2.36-1.059-2.36-2.36c0-1.179,0.869-2.159,2-2.333V22.36H3.36v3.307c1.131,0.174,2,1.154,2,2.333 c0,1.302-1.059,2.36-2.36,2.36S0.64,29.302,0.64,28c0-1.179,0.869-2.159,2-2.333V22c0-0.199,0.161-0.36,0.36-0.36h12.64V18h0.72 v3.64H29c0.199,0,0.36,0.161,0.36,0.36v3.667c1.131,0.174,2,1.154,2,2.333C31.36,29.302,30.302,30.36,29,30.36z M29,26.36 c-0.904,0-1.64,0.735-1.64,1.64s0.735,1.64,1.64,1.64s1.64-0.735,1.64-1.64S29.904,26.36,29,26.36z M16,26.36 c-0.904,0-1.64,0.735-1.64,1.64s0.736,1.64,1.64,1.64c0.904,0,1.64-0.735,1.64-1.64S16.904,26.36,16,26.36z M3,26.36 c-0.904,0-1.64,0.735-1.64,1.64S2.096,29.64,3,29.64S4.64,28.904,4.64,28S3.904,26.36,3,26.36z M26,16.36H16 c-0.199,0-0.36-0.161-0.36-0.36V7c0-0.199,0.161-0.36,0.36-0.36h10c0.199,0,0.36,0.161,0.36,0.36v9 C26.36,16.199,26.199,16.36,26,16.36z M16.36,15.64h9.28v-2.28h-9.28V15.64z M16.36,12.64h9.28v-2.28h-9.28V12.64z M16.36,9.64h9.28 V7.36h-9.28V9.64z M14.667,16.36h-4.051c-2.743,0-4.975-2.286-4.975-5.097c0-3.073,2.583-5.533,5.569-5.165 c1.358-2.358,3.13-3.458,5.56-3.458c1.922,0,3.674,0.903,4.934,2.543l-0.57,0.438c-1.121-1.458-2.67-2.262-4.364-2.262 c-2.213,0-3.818,1.05-5.052,3.304c-0.074,0.135-0.225,0.21-0.378,0.182c-2.604-0.454-4.98,1.738-4.98,4.418 c0,2.414,1.909,4.377,4.255,4.377h4.051L14.667,16.36L14.667,16.36z M18.5,14.86h-1v-0.72h1V14.86z M18.5,11.86h-1v-0.72h1V11.86z M18.5,8.86h-1V8.14h1V8.86z\"/></svg>\\n                </svg>\\n                <p>Manage your hybrid cloud environment to run workloads where and when you need them</p>\\n                <a slot=\"footer\" href=\"https://www.ibm.com/solutions/hybrid-cloud?lnk=hpfp5us\" target=\"_self\">\\n                    <c4d-card-footer color-scheme target=\"_self\" cta-type=\"local\" data-autoid=\"c4d--card-footer\" href=\"https://www.ibm.com/solutions/hybrid-cloud?lnk=hpfp5us\" icon-placement=\"right\" parent-href=\"https://www.ibm.com/solutions/hybrid-cloud?lnk=hpfp5us\" slot=\"footer\">\\n                        \\n                    </c4d-card-footer>\\n                </a>\\n            </c4d-card-group-item>\\n        \\n    \\n    \\n    \\n\\n    \\n    \\n    \\n\\n    \\n   \\n    \\n        \\n        \\n            \\n            \\n            <c4d-card-group-item color-scheme grid-mode=\"condensed\" data-video-modal-type=\"media-center\" cta-type=\"local\" data-autoid=\"c4d--card-group-item\" href=\"https://www.ibm.com/solutions/ai-models?lnk=hpfp6us\" target=\"_self\" pictogram-placement=\"bottom\" size>\\n                <c4d-card-heading aria-level=\"3\" data-autoid=\"c4d--card-heading\" role=\"heading\" slot=\"heading\">\\n                    \\n                    AI models</c4d-card-heading>\\n                <svg slot=\"pictogram\" class=\"cds--card__pictogram\" style=\"--colorized-background:url(\\'#g3\\'); fill: var(--colorized-background)\" focusable=\"false\" height=\"48\" width=\"48\" role=\"img\">\\n                    <svg xmlns=\"http://www.w3.org/2000/svg\" id=\"app--developer\" viewBox=\"0 0 32 32\"><path d=\"M3.254,9.254L2.746,8.746L3.991,7.5L2.746,6.254l0.509-0.509L5.009,7.5L3.254,9.254z M3,2 C2.724,2,2.5,2.224,2.5,2.5S2.724,3,3,3s0.5-0.224,0.5-0.5S3.276,2,3,2z M5.5,2.5C5.5,2.776,5.276,3,5,3S4.5,2.776,4.5,2.5 S4.724,2,5,2S5.5,2.224,5.5,2.5z M7.5,2.5C7.5,2.776,7.276,3,7,3S6.5,2.776,6.5,2.5S6.724,2,7,2S7.5,2.224,7.5,2.5z M18.5,6.5 C18.5,6.776,18.276,7,18,7s-0.5-0.224-0.5-0.5S17.724,6,18,6S18.5,6.224,18.5,6.5z M20.5,6.5C20.5,6.776,20.276,7,20,7 s-0.5-0.224-0.5-0.5S19.724,6,20,6S20.5,6.224,20.5,6.5z M22.5,6.5C22.5,6.776,22.276,7,22,7s-0.5-0.224-0.5-0.5S21.724,6,22,6 S22.5,6.224,22.5,6.5z M5.5,24.5C5.5,24.776,5.276,25,5,25s-0.5-0.224-0.5-0.5S4.724,24,5,24S5.5,24.224,5.5,24.5z M13,14.36H1 c-0.199,0-0.36-0.161-0.36-0.36V1c0-0.199,0.161-0.36,0.36-0.36h12c0.199,0,0.36,0.161,0.36,0.36v13 C13.36,14.199,13.199,14.36,13,14.36z M12.64,4.36H1.36v9.28h11.28C12.64,13.64,12.64,4.36,12.64,4.36z M12.64,1.36H1.36v2.281 h11.28C12.64,3.641,12.64,1.36,12.64,1.36z M31.36,5v17c0,0.199-0.161,0.36-0.36,0.36H19.691c-0.301,0.471-0.69,0.885-1.152,1.215 c2.875,1.05,4.819,3.778,4.819,6.902l0.002,0.521L22.639,31l-0.002-0.522c0-3.078-2.09-5.729-5.083-6.45 c-0.15-0.035-0.26-0.163-0.274-0.316s0.07-0.299,0.211-0.361c1.315-0.592,2.165-1.9,2.165-3.334c0-2.017-1.64-3.657-3.656-3.657 c-2.018,0-3.66,1.64-3.66,3.657c0,1.434,0.85,2.742,2.166,3.334c0.141,0.062,0.225,0.208,0.211,0.361s-0.125,0.281-0.274,0.316 c-2.993,0.721-5.084,3.372-5.084,6.449l0.001,0.521L8.64,31l-0.001-0.522c0-3.125,1.943-5.854,4.819-6.903 c-1.138-0.812-1.838-2.134-1.838-3.559c0-2.292,1.772-4.178,4.02-4.362V5c0-0.199,0.161-0.36,0.36-0.36h15 C31.199,4.64,31.36,4.801,31.36,5z M30.64,8.36H16.36v7.295c2.246,0.184,4.017,2.07,4.017,4.362c0,0.566-0.11,1.115-0.315,1.623 H30.64V8.36z M30.64,5.36H16.36v2.28h14.28V5.36z M22,11.64h-4v0.72h4V11.64z M23.64,17.5c0-1.577,1.283-2.86,2.86-2.86 s2.86,1.283,2.86,2.86s-1.283,2.86-2.86,2.86S23.64,19.077,23.64,17.5z M28.242,16.266l-1.383,1.383l-0.004,1.955 c1.01-0.171,1.784-1.046,1.784-2.104C28.64,17.04,28.49,16.615,28.242,16.266z M24.36,17.5c0,1.055,0.769,1.928,1.774,2.103 l0.006-2.253l1.592-1.593c-0.349-0.248-0.773-0.397-1.233-0.397C25.32,15.36,24.36,16.32,24.36,17.5z M8,9.64H5v0.72h3V9.64z M3.5,21.36h3v-0.72h-3V21.36z M3.5,19.36h3v-0.72h-3V19.36z M22,13.64h-4v0.72h4V13.64z M29,11.64h-4v0.72h4V11.64z M29,9.64h-4 v0.72h4V9.64z M22,9.64h-4v0.72h4V9.64z M8.36,17.584v7.832c0,0.521-0.423,0.944-0.944,0.944H2.584 c-0.521,0-0.944-0.424-0.944-0.944v-7.832c0-0.521,0.423-0.944,0.944-0.944h4.832C7.937,16.64,8.36,17.063,8.36,17.584z M7.64,23.36 H2.36v2.056c0,0.123,0.101,0.224,0.224,0.224h4.832c0.124,0,0.224-0.101,0.224-0.224C7.64,25.416,7.64,23.36,7.64,23.36z M7.64,17.584c0-0.123-0.101-0.224-0.224-0.224H2.584c-0.124,0-0.224,0.101-0.224,0.224v5.056h5.28 C7.64,22.64,7.64,17.584,7.64,17.584z\"/></svg>\\n                </svg>\\n                <p>Get started with cost-efficient AI models, tailored for business and optimized for scale</p>\\n                <a slot=\"footer\" href=\"https://www.ibm.com/solutions/ai-models?lnk=hpfp6us\" target=\"_self\">\\n                    <c4d-card-footer color-scheme target=\"_self\" cta-type=\"local\" data-autoid=\"c4d--card-footer\" href=\"https://www.ibm.com/solutions/ai-models?lnk=hpfp6us\" icon-placement=\"right\" parent-href=\"https://www.ibm.com/solutions/ai-models?lnk=hpfp6us\" slot=\"footer\">\\n                        \\n                    </c4d-card-footer>\\n                </a>\\n            </c4d-card-group-item>\\n        \\n    \\n    \\n    \\n\\n    \\n    \\n    \\n\\n    \\n   \\n    \\n        \\n        \\n            \\n            \\n            <c4d-card-group-item color-scheme grid-mode=\"condensed\" data-video-modal-type=\"media-center\" cta-type=\"local\" data-autoid=\"c4d--card-group-item\" href=\"https://www.ibm.com/solutions/analytics?lnk=hpfp7us\" target=\"_self\" pictogram-placement=\"bottom\" size>\\n                <c4d-card-heading aria-level=\"3\" data-autoid=\"c4d--card-heading\" role=\"heading\" slot=\"heading\">\\n                    \\n                    Analytics</c4d-card-heading>\\n                <svg slot=\"pictogram\" class=\"cds--card__pictogram\" style=\"--colorized-background:url(\\'#g3\\'); fill: var(--colorized-background)\" focusable=\"false\" height=\"48\" width=\"48\" role=\"img\">\\n                    <svg xmlns=\"http://www.w3.org/2000/svg\" id=\"predictive-analytics\" viewBox=\"0 0 32 32\"><path d=\"M31,31.36H1c-0.199,0-0.36-0.161-0.36-0.36 V1h0.72v29.64h4.28v-7.328c-0.576-0.158-1-0.687-1-1.312c0-0.75,0.61-1.36,1.36-1.36c0.364,0,0.694,0.144,0.938,0.377l3.702-2.221 v-8.484c-0.576-0.158-1-0.686-1-1.312c0-0.75,0.61-1.36,1.36-1.36S12.36,8.25,12.36,9c0,0.625-0.424,1.153-1,1.312v8.053l3.33-1.998 c-0.032-0.116-0.05-0.239-0.05-0.366c0-0.75,0.61-1.36,1.36-1.36c0.364,0,0.695,0.144,0.939,0.377l3.701-2.221V6.312 c-0.575-0.158-1-0.686-1-1.312c0-0.75,0.61-1.36,1.36-1.36S22.36,4.25,22.36,5c0,0.625-0.425,1.153-1,1.312v6.053l3.33-1.998 c-0.033-0.117-0.05-0.24-0.05-0.367c0-0.75,0.61-1.36,1.36-1.36s1.36,0.61,1.36,1.36c0,0.625-0.425,1.153-1,1.312V30.64H31V31.36z M21.36,30.64h4.279V11.312c-0.22-0.061-0.418-0.175-0.578-0.328l-3.701,2.221V30.64z M16.36,30.64h4.28V13.636l-3.33,1.998 c0.033,0.116,0.05,0.239,0.05,0.366c0,0.625-0.425,1.153-1,1.312V30.64z M11.36,30.64h4.28V17.312 c-0.22-0.061-0.418-0.175-0.579-0.328l-3.702,2.221V30.64H11.36z M6.36,30.64h4.28V19.636l-3.33,1.998 C7.343,21.75,7.36,21.873,7.36,22c0,0.625-0.424,1.153-1,1.312V30.64z M6,21.36c-0.353,0-0.64,0.287-0.64,0.64S5.647,22.64,6,22.64 S6.64,22.353,6.64,22S6.353,21.36,6,21.36z M16,15.36c-0.353,0-0.64,0.287-0.64,0.64s0.287,0.64,0.64,0.64s0.64-0.287,0.64-0.64 S16.353,15.36,16,15.36z M26,9.36c-0.353,0-0.64,0.287-0.64,0.64s0.287,0.64,0.64,0.64s0.64-0.287,0.64-0.64S26.353,9.36,26,9.36z M11,8.36c-0.353,0-0.64,0.287-0.64,0.64S10.647,9.64,11,9.64S11.64,9.353,11.64,9S11.353,8.36,11,8.36z M21,4.36 c-0.353,0-0.64,0.287-0.64,0.64S20.647,5.64,21,5.64S21.64,5.353,21.64,5S21.353,4.36,21,4.36z\"/></svg>\\n                </svg>\\n                <p>Support data-driven decisions for your business</p>\\n                <a slot=\"footer\" href=\"https://www.ibm.com/solutions/analytics?lnk=hpfp7us\" target=\"_self\">\\n                    <c4d-card-footer color-scheme target=\"_self\" cta-type=\"local\" data-autoid=\"c4d--card-footer\" href=\"https://www.ibm.com/solutions/analytics?lnk=hpfp7us\" icon-placement=\"right\" parent-href=\"https://www.ibm.com/solutions/analytics?lnk=hpfp7us\" slot=\"footer\">\\n                        \\n                    </c4d-card-footer>\\n                </a>\\n            </c4d-card-group-item>\\n        \\n    \\n    \\n    \\n\\n    \\n    \\n    \\n\\n    \\n   \\n    \\n        \\n        \\n            \\n            \\n            <c4d-card-group-item color-scheme grid-mode=\"condensed\" data-video-modal-type=\"media-center\" cta-type=\"local\" data-autoid=\"c4d--card-group-item\" href=\"https://www.ibm.com/solutions/security?lnk=hpfp8us\" target=\"_self\" pictogram-placement=\"bottom\" size>\\n                <c4d-card-heading aria-level=\"3\" data-autoid=\"c4d--card-heading\" role=\"heading\" slot=\"heading\">\\n                    \\n                    Security and identity</c4d-card-heading>\\n                <svg slot=\"pictogram\" class=\"cds--card__pictogram\" style=\"--colorized-background:url(\\'#g3\\'); fill: var(--colorized-background)\" focusable=\"false\" height=\"48\" width=\"48\" role=\"img\">\\n                    <svg xmlns=\"http://www.w3.org/2000/svg\" id=\"secure--profile\" viewBox=\"0 0 32 32\"><path d=\"M23.14,25.415v-1.988c-0.373-0.145-0.64-0.503-0.64-0.927c0-0.552,0.448-1,1-1s1,0.448,1,1 c0,0.424-0.266,0.782-0.64,0.927v1.988c0,0.199-0.161,0.36-0.36,0.36S23.14,25.614,23.14,25.415z M31.36,16v15 c0,0.199-0.161,0.36-0.36,0.36H16c-0.199,0-0.36-0.161-0.36-0.36V19h0.72v11.64h14.28V16.36H1c-0.199,0-0.36-0.161-0.36-0.36V1 c0-0.199,0.161-0.36,0.36-0.36h15c0.199,0,0.36,0.161,0.36,0.36v12h-0.72V1.36H1.36v14.28h2.28v-2.639 c0-1.926,1.166-3.659,2.908-4.427C5.978,8.04,5.643,7.293,5.643,6.5c0-1.577,1.283-2.86,2.86-2.86s2.86,1.283,2.86,2.86 c0,0.794-0.335,1.542-0.907,2.075c1.74,0.77,2.904,2.502,2.904,4.426v2.639h6.28V11.5c0-2.128,1.731-3.86,3.859-3.86 c2.129,0,3.861,1.731,3.861,3.86l-0.001,4.14H31C31.199,15.64,31.36,15.801,31.36,16z M12.64,13.001c0-1.837-1.25-3.47-3.041-3.97 c-0.141-0.04-0.244-0.16-0.261-0.306C9.321,8.58,9.395,8.439,9.523,8.369c0.69-0.379,1.12-1.095,1.12-1.869 c0-1.18-0.96-2.14-2.14-2.14s-2.14,0.96-2.14,2.14c0,0.773,0.429,1.489,1.119,1.868c0.128,0.07,0.201,0.211,0.184,0.357 C7.648,8.87,7.545,8.991,7.404,9.03C5.612,9.529,4.36,11.162,4.36,13.001v2.639h8.28C12.64,15.64,12.64,13.001,12.64,13.001z M26.64,11.5c0-1.731-1.408-3.14-3.14-3.14s-3.14,1.409-3.14,3.14v4.14h6.278L26.64,11.5z\"/></svg>\\n                </svg>\\n                <p>Secure hybrid cloud and AI with data and identity-centric cybersecurity solutions</p>\\n                <a slot=\"footer\" href=\"https://www.ibm.com/solutions/security?lnk=hpfp8us\" target=\"_self\">\\n                    <c4d-card-footer color-scheme target=\"_self\" cta-type=\"local\" data-autoid=\"c4d--card-footer\" href=\"https://www.ibm.com/solutions/security?lnk=hpfp8us\" icon-placement=\"right\" parent-href=\"https://www.ibm.com/solutions/security?lnk=hpfp8us\" slot=\"footer\">\\n                        \\n                    </c4d-card-footer>\\n                </a>\\n            </c4d-card-group-item>\\n        \\n    \\n    \\n    \\n\\n    \\n    \\n    \\n\\n    \\n   \\n    \\n        \\n        \\n            \\n            \\n            <c4d-card-group-item color-scheme grid-mode=\"condensed\" data-video-modal-type=\"media-center\" cta-type=\"local\" data-autoid=\"c4d--card-group-item\" href=\"https://www.ibm.com/consulting?lnk=hpfp9us\" target=\"_self\" pictogram-placement=\"bottom\" size>\\n                <c4d-card-heading aria-level=\"3\" data-autoid=\"c4d--card-heading\" role=\"heading\" slot=\"heading\">\\n                    \\n                    Consulting</c4d-card-heading>\\n                <svg slot=\"pictogram\" class=\"cds--card__pictogram\" style=\"--colorized-background:url(\\'#g3\\'); fill: var(--colorized-background)\" focusable=\"false\" height=\"48\" width=\"48\" role=\"img\">\\n                    <svg xmlns=\"http://www.w3.org/2000/svg\" id=\"group\" viewBox=\"0 0 32 32\"><path d=\"M24.36,31h-0.72v-7.5c0-3.552-2.414-6.604-5.872-7.424c-0.15-0.036-0.261-0.163-0.275-0.316 c-0.015-0.154,0.071-0.3,0.212-0.363c1.517-0.675,2.496-2.181,2.496-3.836c0-2.316-1.884-4.201-4.2-4.201S11.8,9.244,11.8,11.561 c0,1.655,0.98,3.162,2.496,3.836c0.141,0.063,0.227,0.209,0.212,0.363c-0.014,0.153-0.125,0.281-0.275,0.316 c-3.458,0.82-5.872,3.872-5.872,7.424V31H7.64v-7.5c0-3.592,2.257-6.718,5.585-7.879c-1.326-0.907-2.146-2.421-2.146-4.061 c0-1.964,1.157-3.664,2.826-4.452C14.101,6.617,14.2,6.097,14.2,5.561c0-2.316-1.884-4.201-4.2-4.201S5.799,3.244,5.799,5.561 c0,1.656,0.98,3.162,2.496,3.836C8.437,9.46,8.521,9.606,8.507,9.76c-0.014,0.153-0.125,0.281-0.275,0.316 C4.774,10.896,2.36,13.948,2.36,17.5V25H1.64v-7.5c0-3.592,2.257-6.718,5.585-7.879C5.899,8.714,5.08,7.2,5.08,5.561 c0-2.713,2.207-4.92,4.92-4.92s4.92,2.207,4.92,4.92c0,0.422-0.052,0.836-0.157,1.237c0.791-0.205,1.683-0.205,2.473,0 c-0.104-0.401-0.157-0.815-0.157-1.237c0-2.713,2.208-4.92,4.921-4.92s4.921,2.207,4.921,4.92c0,1.64-0.82,3.154-2.146,4.061 c3.329,1.161,5.586,4.287,5.586,7.879V25H29.64v-7.5c0-3.552-2.414-6.604-5.872-7.424c-0.15-0.036-0.261-0.163-0.275-0.316 c-0.015-0.154,0.071-0.3,0.212-0.363C25.221,8.722,26.2,7.216,26.2,5.561c0-2.316-1.884-4.201-4.2-4.201s-4.2,1.884-4.2,4.201 c0,0.536,0.099,1.056,0.295,1.548c1.669,0.789,2.826,2.488,2.826,4.452c0,1.64-0.82,3.154-2.146,4.061 c3.329,1.161,5.586,4.287,5.586,7.879L24.36,31L24.36,31z\"/></svg>\\n                </svg>\\n                <p>Engage with IBM Consulting® to design, build and operate high-performing businesses</p>\\n                <a slot=\"footer\" href=\"https://www.ibm.com/consulting?lnk=hpfp9us\" target=\"_self\">\\n                    <c4d-card-footer color-scheme target=\"_self\" cta-type=\"local\" data-autoid=\"c4d--card-footer\" href=\"https://www.ibm.com/consulting?lnk=hpfp9us\" icon-placement=\"right\" parent-href=\"https://www.ibm.com/consulting?lnk=hpfp9us\" slot=\"footer\">\\n                        \\n                    </c4d-card-footer>\\n                </a>\\n            </c4d-card-group-item>\\n        \\n    \\n    \\n    \\n\\n    \\n    \\n    \\n\\n    \\n   \\n    \\n\\n\\n                </c4d-card-group>\\n            \\n        \\n        \\n    </div>\\n\\n    \\n    \\n    \\n    <script defer src=\"/etc.clientlibs/adobe-cms/clientlibs/clientlib-card-group.lc-74c5feffb19a193e2dcc022e4e2db734-lc.min.js\"></script>\\n\\n\\n    \\n \\n<svg class=\"cds--visually-hidden\">\\n    <defs>\\n        <linearGradient id=\"g1\" x1=\"0%\" y1=\"0%\" x2=\"0%\" y2=\"100%\">\\n            <stop offset=\"0%\" stop-color=\"#0F62FE\"></stop>\\n            <stop offset=\"100%\" stop-color=\"#8A3FFC\"></stop>\\n        </linearGradient>\\n        <linearGradient id=\"g1-dark\" x1=\"0%\" y1=\"0%\" x2=\"0%\" y2=\"100%\">\\n            <stop offset=\"0%\" stop-color=\"#4589FF\"></stop>\\n            <stop offset=\"100%\" stop-color=\"#A56EFF\"></stop>\\n        </linearGradient>\\n        <linearGradient id=\"g2\" x1=\"0%\" y1=\"0%\" x2=\"0%\" y2=\"100%\">\\n            <stop offset=\"0%\" stop-color=\"#0F62FE\"></stop>\\n            <stop offset=\"100%\" stop-color=\"#78A9FF\"></stop>\\n        </linearGradient>\\n        <linearGradient id=\"g2-dark\" x1=\"0%\" y1=\"0%\" x2=\"0%\" y2=\"100%\">\\n            <stop offset=\"0%\" stop-color=\"#0F62FE\"></stop>\\n            <stop offset=\"100%\" stop-color=\"#78A9FF\"></stop>\\n        </linearGradient>\\n        <linearGradient id=\"g3\" x1=\"0%\" y1=\"0%\" x2=\"0%\" y2=\"100%\">\\n            <stop offset=\"0%\" stop-color=\"#0F62FE\"></stop>\\n            <stop offset=\"100%\" stop-color=\"#08BDBA\"></stop>\\n        </linearGradient>\\n        <linearGradient id=\"g3-dark\" x1=\"0%\" y1=\"0%\" x2=\"0%\" y2=\"100%\">\\n            <stop offset=\"0%\" stop-color=\"#4589FF\"></stop>\\n            <stop offset=\"100%\" stop-color=\"#08BDBA\"></stop>\\n        </linearGradient>\\n        <linearGradient id=\"g4\" x1=\"0%\" y1=\"0%\" x2=\"0%\" y2=\"100%\">\\n            <stop offset=\"0%\" stop-color=\"#0F62FE\"></stop>\\n            <stop offset=\"100%\" stop-color=\"#FF7EB6\"></stop>\\n        </linearGradient>\\n        <linearGradient id=\"g4-dark\" x1=\"0%\" y1=\"0%\" x2=\"0%\" y2=\"100%\">\\n            <stop offset=\"0%\" stop-color=\"#4589FF\"></stop>\\n            <stop offset=\"100%\" stop-color=\"#EE5396\"></stop>\\n        </linearGradient>\\n        <linearGradient id=\"g5\" x1=\"0%\" y1=\"0%\" x2=\"0%\" y2=\"100%\">\\n            <stop offset=\"0%\" stop-color=\"#FA4D56\"></stop>\\n            <stop offset=\"100%\" stop-color=\"#A56EFF\"></stop>\\n        </linearGradient>\\n        <linearGradient id=\"g5-dark\" x1=\"0%\" y1=\"0%\" x2=\"0%\" y2=\"100%\">\\n            <stop offset=\"0%\" stop-color=\"#FA4D56\"></stop>\\n            <stop offset=\"100%\" stop-color=\"#A56EFF\"></stop>\\n        </linearGradient>\\n    </defs>\\n</svg></div>\\n<div class=\"cta-section thin-stat themed-block theme-white\">\\n\\n\\n\\n\\n  \\n\\n\\n<c4d-cta-block class=\"   title-plus-3-items-layout\">\\n    <c4d-content-block-heading class=\"\">\\n        \\n        \\n\\n     \\n    Inside IBM\\n\\n\\n\\n\\n    \\n\\n\\n    </c4d-content-block-heading>\\n    \\n    \\n    \\n\\n\\n\\n    <c4d-cta-block-item-row no-border>\\n        \\n\\n    \\n    \\n    \\n    \\n\\n<c4d-cta-block-item>\\n    \\n    \\n    \\n\\n    \\n    <c4d-content-item-heading>\\n        \\n\\n\\n\\n  \\n    Our company\\n\\n\\n\\n\\n\\n\\n    \\n\\n\\n    </c4d-content-item-heading>\\n    <c4d-content-item-copy>\\n        <c4d-content-item-paragraph>\\n            <div class=\"cms-richtext \" id=\"rich-text-fa074a9752\" data-dynamic-inner-content=\"description\">\\n    <p>Explore IBM history and culture of putting technology to work in the real world.</p>\\r\\n\\n    \\n    \\n    \\n    \\n\\n</div>\\n        </c4d-content-item-paragraph>\\n    </c4d-content-item-copy>\\n    \\n    \\n    \\n        \\n        \\n        \\n        <a slot=\"footer\" href=\"https://www.ibm.com/about?lnk=hpii1us\" target=\"_self\" style=\"display: contents\">\\n            <c4d-text-cta cta-type=\"local\" icon-placement=\"right\" href=\"https://www.ibm.com/about?lnk=hpii1us\" target=\"_self\" data-dynamic-properties=\"{&quot;ctaUrl&quot;:&quot;href&quot;}\" data-dynamic-inner-content=\"ctaLabel\" data-video-modal-type=\"media-center\">About IBM\\n                \\n            </c4d-text-cta>\\n        </a>\\n    \\n    \\n    \\n\\n   \\n\\n    \\n    \\n    \\n        \\n        \\n        \\n        <a slot=\"footer\" href=\"https://www.ibm.com/history?lnk=hpii1us\" target=\"_self\" style=\"display: contents\">\\n            <c4d-text-cta cta-type=\"local\" icon-placement=\"right\" href=\"https://www.ibm.com/history?lnk=hpii1us\" target=\"_self\" data-dynamic-properties=\"{&quot;ctaUrl&quot;:&quot;href&quot;}\" data-dynamic-inner-content=\"ctaLabel\" data-video-modal-type=\"media-center\">Our history\\n                \\n            </c4d-text-cta>\\n        </a>\\n    \\n    \\n    \\n\\n   \\n\\n</c4d-cta-block-item>\\n\\n    \\n    <script defer src=\"/etc.clientlibs/adobe-cms/clientlibs/clientlib-cta-block.lc-3e461f495f8b73541dc9dd3fe6eb97b6-lc.min.js\"></script>\\n\\n\\n    \\n    <script defer src=\"/etc.clientlibs/adobe-cms/components/content/molecules/cta-section-item/clientlibs.lc-2060af6a02129514e2fb4157e283d55f-lc.min.js\"></script>\\n\\n\\n\\n\\n<c4d-cta-block-item>\\n    \\n    \\n    \\n\\n    \\n    <c4d-content-item-heading>\\n        \\n\\n\\n\\n  \\n    Our innovations\\n\\n\\n\\n\\n\\n\\n    \\n\\n\\n    </c4d-content-item-heading>\\n    <c4d-content-item-copy>\\n        <c4d-content-item-paragraph>\\n            <div class=\"cms-richtext \" id=\"rich-text-77395c58ee\" data-dynamic-inner-content=\"description\">\\n    <p>Visit the IBM lab and see what&#39;s in store for the future of\\xa0computing.</p>\\r\\n\\n    \\n    \\n    \\n    \\n\\n</div>\\n        </c4d-content-item-paragraph>\\n    </c4d-content-item-copy>\\n    \\n    \\n    \\n        \\n        \\n        \\n        <a slot=\"footer\" href=\"https://research.ibm.com?lnk=hpii1us\" target=\"_blank\" style=\"display: contents\">\\n            <c4d-text-cta cta-type=\"external\" icon-placement=\"right\" href=\"https://research.ibm.com?lnk=hpii1us\" target=\"_blank\" data-dynamic-properties=\"{&quot;ctaUrl&quot;:&quot;href&quot;}\" data-dynamic-inner-content=\"ctaLabel\" data-video-modal-type=\"media-center\">IBM Research®\\n                \\n            </c4d-text-cta>\\n        </a>\\n    \\n    \\n    \\n\\n   \\n\\n    \\n    \\n    \\n        \\n        \\n        \\n        <a slot=\"footer\" href=\"https://www.ibm.com/quantum?lnk=hpii1us\" target=\"_self\" style=\"display: contents\">\\n            <c4d-text-cta cta-type=\"local\" icon-placement=\"right\" href=\"https://www.ibm.com/quantum?lnk=hpii1us\" target=\"_self\" data-dynamic-properties=\"{&quot;ctaUrl&quot;:&quot;href&quot;}\" data-dynamic-inner-content=\"ctaLabel\" data-video-modal-type=\"media-center\">Quantum computing\\n                \\n            </c4d-text-cta>\\n        </a>\\n    \\n    \\n    \\n\\n   \\n\\n</c4d-cta-block-item>\\n\\n    \\n    \\n\\n    \\n    \\n\\n\\n\\n<c4d-cta-block-item>\\n    \\n    \\n    \\n\\n    \\n    <c4d-content-item-heading>\\n        \\n\\n\\n\\n  \\n    Our people\\n\\n\\n\\n\\n\\n\\n    \\n\\n\\n    </c4d-content-item-heading>\\n    <c4d-content-item-copy>\\n        <c4d-content-item-paragraph>\\n            <div class=\"cms-richtext \" id=\"rich-text-4b244d2cb1\" data-dynamic-inner-content=\"description\">\\n    <p>See what it takes to become an IBMer or build your skills with our educational courses.</p>\\r\\n\\n    \\n    \\n    \\n    \\n\\n</div>\\n        </c4d-content-item-paragraph>\\n    </c4d-content-item-copy>\\n    \\n    \\n    \\n        \\n        \\n        \\n        <a slot=\"footer\" href=\"https://www.ibm.com/careers?lnk=hpii1us\" target=\"_self\" style=\"display: contents\">\\n            <c4d-text-cta cta-type=\"local\" icon-placement=\"right\" href=\"https://www.ibm.com/careers?lnk=hpii1us\" target=\"_self\" data-dynamic-properties=\"{&quot;ctaUrl&quot;:&quot;href&quot;}\" data-dynamic-inner-content=\"ctaLabel\" data-video-modal-type=\"media-center\">Become an IBMer\\n                \\n            </c4d-text-cta>\\n        </a>\\n    \\n    \\n    \\n\\n   \\n\\n    \\n    \\n    \\n        \\n        \\n        \\n        <a slot=\"footer\" href=\"https://skillsbuild.org?lnk=hpii1us\" target=\"_blank\" style=\"display: contents\">\\n            <c4d-text-cta cta-type=\"external\" icon-placement=\"right\" href=\"https://skillsbuild.org?lnk=hpii1us\" target=\"_blank\" data-dynamic-properties=\"{&quot;ctaUrl&quot;:&quot;href&quot;}\" data-dynamic-inner-content=\"ctaLabel\" data-video-modal-type=\"media-center\">Start learning\\n                \\n            </c4d-text-cta>\\n        </a>\\n    \\n    \\n    \\n\\n   \\n\\n</c4d-cta-block-item>\\n\\n    \\n    \\n\\n    \\n    \\n\\n\\n    \\n\\n\\n    </c4d-cta-block-item-row>\\n\\n\\n    \\n    \\n\\n\\n\\n</c4d-cta-block>\\n\\n<!-- Author markup -->\\n\\n\\n    \\n    \\n\\n\\n</div>\\n<div class=\"urx-form-content-block\">\\n\\n\\n<div class=\"urx-form-content-block__container  themed-block theme-white \">\\n    <div class=\"urx-form-content-block__container--left \">\\n        \\n            \\n            \\n            \\n            \\n            \\n        \\n        <div class=\"urx-form-content-block__container--left__image \">\\n            \\n\\n\\n\\t<div data-cmp-aspectratio=\"16x9\" data-cmp-hook-image=\"imageV3IBM\" data-cmp-is=\"image\" data-cmp-widths=\"320,384,512,640,768,960,1024,1152,1280,1536,1584\" data-cmp-dmimage data-cmp-src=\"https://assets.ibm.com/is/image/ibm/202502_ibm_z-inside_ibm_tp_day_02_4888?ts=1756367436477&amp;dpr=off\" data-asset-id=\"4a23182b-8e6d-4267-ba1e-64d69762cf1f\" data-cmp-filereference=\"/content/dam/worldwide-content/creative-assets/ibs/ul/g/66/ef/202502_ibm_z-inside_ibm_tp_day_02_4888.jpg\" id=\"image-dm-0f0499b73c\" data-cmp-data-layer=\"{&#34;image-dm-0f0499b73c&#34;:{&#34;@type&#34;:&#34;adobe-cms/components/content/atoms/image-dm&#34;,&#34;repo:modifyDate&#34;:&#34;2025-08-28T07:50:36Z&#34;,&#34;dc:title&#34;:&#34;IBM PoughKeepsie Lab&#34;,&#34;image&#34;:{&#34;repo:id&#34;:&#34;4a23182b-8e6d-4267-ba1e-64d69762cf1f&#34;,&#34;repo:modifyDate&#34;:&#34;2025-05-10T05:28:56Z&#34;,&#34;@type&#34;:&#34;image/jpeg&#34;,&#34;repo:path&#34;:&#34;/content/dam/worldwide-content/creative-assets/ibs/ul/g/66/ef/202502_ibm_z-inside_ibm_tp_day_02_4888.jpg&#34;,&#34;xdm:tags&#34;:[&#34;properties:orientation/landscape&#34;],&#34;xdm:smartTags&#34;:{&#34;server&#34;:0.757,&#34;computer equipment&#34;:0.825,&#34;business photography&#34;:0.932,&#34;electronic equipment&#34;:0.763,&#34;laptop&#34;:0.772,&#34;aerospace engineering&#34;:0.808,&#34;network&#34;:0.835,&#34;computer&#34;:0.79,&#34;duplicator&#34;:0.771,&#34;person&#34;:1.0,&#34;security system&#34;:0.764,&#34;client&#34;:0.798,&#34;man&#34;:1.0}}}}\" class=\"cmp-image\">\\n\\t\\t<script type=\"application/json\">\\n\\t\\t\\t{\\n\\t\\t\\t\\t\"widths\": [320,384,512,640,768,960,1024,1152,1280,1536,1584],\\n\\t\\t\\t\\t\"maximagesize\": \"5000\",\\n\\t\\t\\t\\t\"aspectratio\": \"16x9\",\\n\\t\\t\\t\\t\"urls\": {\\n\\t\\t\\t\\t\\t\"dynamicmedia\": \"https://assets.ibm.com/is/image/ibm/202502_ibm_z-inside_ibm_tp_day_02_4888\",\\n\\t\\t\\t\\t\\t\"adaptiveservlet\": \"https://www.ibm.com//_jcr_content/root/table_of_contents/urx_form_content_blo/image.coreimg.90{.width}.jpeg/1756367436477/202502-ibm-z-inside-ibm-tp-day-02-4888.jpeg\",\\n\\t\\t\\t\\t\\t\"assetdelivery\": \"/adobe/dynamicmedia/deliver/dm-aid--4a23182b-8e6d-4267-ba1e-64d69762cf1f/202502-ibm-z-inside-ibm-tp-day-02-4888.jpg?preferwebp=true\"\\n\\t\\t\\t\\t},\\n\\t\\t\\t\\t\"usecustomcrop\": \"false\",\\n\\t\\t\\t\\t\"customcrops\": {\\n\\t\\t\\t\\t\\t\"1x1\": \"\",\\n\\t\\t\\t\\t\\t\"2x1\": \"\",\\n\\t\\t\\t\\t\\t\"3x2\": \"\",\\n\\t\\t\\t\\t\\t\"4x3\": \"\",\\n\\t\\t\\t\\t\\t\"5x2\": \"\",\\n\\t\\t\\t\\t\\t\"16x9\": \"\"\\n\\t\\t\\t\\t}\\n\\t\\t\\t}\\n\\t\\t</script>\\n\\t\\t\\n\\n\\t\\t\\t\\n\\t\\t\\t\\t\\n\\t\\t\\t\\t\\t\\n\\n\\t\\t\\t\\t\\t<img src=\"https://assets.ibm.com/is/image/ibm/202502_ibm_z-inside_ibm_tp_day_02_4888?ts=1756367436477&dpr=off\" srcset=\"data:image/gif;base64,R0lGODlhAQABAAAAACH5BAEKAAEALAAAAAABAAEAAAICTAEAOw==\" loading=\"lazy\" class=\"cmp-image__image\" itemprop=\"contentUrl\" width=\"3840\" height=\"2560\"/>\\n\\t\\t\\t\\t\\n\\n\\t\\t\\t\\t\\n\\n\\t\\t\\t\\n\\t\\t\\n\\t\\t\\n\\n\\t\\t\\n\\n\\t</div>\\n\\t\\n    \\n\\n\\n\\n\\n    \\n\\n\\n            \\n        </div>\\n    </div>\\n    <div class=\"urx-form-content-block__container--right theme-white\">\\n        \\n        <div no-toc>\\n \\n \\n  <script type=\"application/javascript\" src=\"https://www.ibm.com/account/ibmidutil/widget/js/loader.js\"></script>\\n  <script type=\"application/javascript\" src=\"https://www.ibm.com/account/ibmidutil/widget/js/main.js\"></script>\\n \\n \\n \\n <div id=\"urx-form1\"></div>\\n <input type=\"hidden\" id=\"ibm-widget-form-id\" value=\"news-urx-53332\"/>\\n <input type=\"hidden\" id=\"ibm-widget-form-env\" value=\"production\"/>\\n <input type=\"hidden\" id=\"ibm-widget-form-theme\" value=\"light\"/>\\n <input type=\"hidden\" id=\"ibm-widget-form-bpId\"/>\\n <input type=\"hidden\" id=\"ibm-widget-form-locale\" value=\"us-en\"/>\\n <input type=\"hidden\" id=\"ibm-widget-form-template-name\" value=\"/conf/adobe-cms-editable/settings/wcm/templates/full-width-layout\"/>\\n <input type=\"hidden\" id=\"ibm-widget-form-page-title\" value=\"Homepage\"/>\\n\\n <script>\\n  var templatePath = document.getElementById(\"ibm-widget-form-template-name\").value;\\n  var pageTitle = document.getElementById(\"ibm-widget-form-page-title\").value;\\n  var templateName = templatePath.split(\\'/\\').pop();\\n\\nfunction cleanUrl(url) {\\n    let modifiedUrl = url;\\n    if (url.startsWith(\"www\")) {\\n        modifiedUrl = modifiedUrl.replace(/^www\\\\.?/, \"\");\\n    }\\n    return modifiedUrl;\\n}\\n  const regEx = new RegExp(\"/[A-Za-z]{2}\\\\-[A-Za-z]{2}/\");\\n  function camelCaseToSpacesUrx(str) {\\n  return str.replace(/([a-z])([A-Z])/g, \\'$1 $2\\').toLowerCase();\\n}\\n  document.loadWidgets([\\n     {\\n       instanceId: \"urx-form1\",\\n       formid: document.getElementById(\"ibm-widget-form-id\").value,\\n       locale: document.getElementById(\"ibm-widget-form-locale\").value,\\n       environment: document.getElementById(\"ibm-widget-form-env\").value , // Options: \\'stage\\',\\'production\\',\\'preview\\'.\\n       onRenderFinish: (domElement) => console.debug(\\'The widget has finished rendering: \\', domElement),\\n       renderFunctionName: \"renderUrxWidget\",\\n       bpid: document.getElementById(\"ibm-widget-form-bpId\").value, // Optional. pass bpid to pre-fill business partner name and ID.\\n       design: {\\n         column: 3,\\n         theme: document.getElementById(\"ibm-widget-form-theme\").value , // dark\\n         singleStep: true,\\n       },\\n       triggerManually: false,\\n       onUrxFormSubmit: function (params, callback) { // Optional\\n         // params: Form data & targetUrl\\n         // Example promise function\\n         let formData = params;\\n         const form = document.getElementsByTagName(\\'form\\')[0];\\n         const firstInput = form.querySelector(\\'input\\');\\n         const fieldNameUrx = firstInput ? firstInput.name : \\'\\';\\n         var formattedFieldNameUrx = camelCaseToSpacesUrx(fieldNameUrx);\\n        const urlUrxForm=document.URL;\\n     \\tconst partsUrxForm = urlUrxForm.split(\"/\");\\n     \\tconst sectionOneUrxForm=partsUrxForm[3].split(\"?\")[0];\\n     \\tvar formElement = document.getElementById(\"urx-form1\");\\n     \\tadobeDataLayer.push({\\n     \\t    \"event\": \"formComplete\",\\n     \\t    \"_ibm\": {\\n     \\t        \"form\": {\\n     \\t            \"formComplete\": {\\n     \\t                \"value\": 1\\n     \\t            },\\n     \\t            \"formProductName\": window.urxMeta.productName,\\n     \\t            \"formName\": window.urxMeta.formName,\\n     \\t            \"type\": window.urxMeta.formType,\\n     \\t            \"platform\": \"urx\",\\n     \\t            \"id\": document.getElementById(\"ibm-widget-form-id\").value,\\n     \\t            \"source\": \"Embedded\",\\n     \\t            \"fieldName\": formattedFieldNameUrx,\\n     \\t            \"stepName\": \"step 1|account information\",\\n     \\t            \"stepNumber\": 1\\n     \\t        },\\n     \\t       \"click\": {\\n     \\t            \"linkTileNumber\": 1\\n     \\t        }\\n\\n     \\t    },\\n     \\t    \"web\": {\\n     \\t        \"webPageDetails\": {\\n     \\t            \"URL\": document.URL,\\n     \\t            \"name\": cleanUrl(window.location.host) + \" | \" + templateName + \" | \" + pageTitle\\n     \\t        },\\n     \\t         \"webInteraction\": {\\n     \\t             \"type\": \"other\",\\n     \\t             \"URL\": document.URL,\\n     \\t             \"name\": \"Homepage\", // Interaction name or label\\n     \\t             \"region\": document.getElementById(\"ibm-widget-form-locale\").value\\n\\n     \\t        }\\n\\n     \\t    }\\n     \\t});\\n\\n\\n         setTimeout(function (params){\\n           // do whatever you want to do with the data\\n           callback(); // trigger callback so that URX redirect the user to the target page\\n           // If you do not call this callback withing 10 seconds, urx will automatically redirect the user to the target url\\n         }, 2000);\\n       },\\n       formLoaded: function() {\\n       // This function will gets triggered when form is loaded.\\n       },\\n       onUrxFormSubmitSuccess: function (params) {\\n           // This function will gets triggered when form submitted successfully.\\n           console.log(\\'success callback data\\', params)\\n           window.location.href = params.targetUrl;\\n           // jQuery(\\'#urx-form2\\').hide();\\n           // jQuery(\\'#urx-form2\\').html(\\'<h1 class=\"ibm-h1\">Thank you! </h1><p>This message is being shown by the custom code written in the callback function \"onUrxFormSubmitSuccess\"</p>\\').show();\\n       },\\n       userActionEvent: function (action, payload){\\n       // userActionEvent callback function\\n       // action: action name, example: REG_FORM_SUBMITTED, FORM_SUBMIT_FAIL, ACTIVE_SESSION_IDENTIFIED,\\n       // payload: user info or other data. example: { email: \\'xxx@ccc.com\\', firstName: \\'John\\', lastName: \\'Doe\\', countr: \\'IN\\'}\\n\\n          console.info(\\'userActionEvent\\', action, payload);\\n       },\\n     }\\n  ]);\\n </script>\\n <script>\\n  // Ensure window._ibmAnalytics exists before extending it\\n  window._ibmAnalytics = window._ibmAnalytics || {};\\n\\n  // Ensure window._ibmAnalytics.settings exists before reference it\\n  window._ibmAnalytics.settings = window._ibmAnalytics.settings || {};\\n\\n  window._ibmAnalytics.settings.name = \"URX\";\\n\\n  function urxUserConsentCallback(){\\n     if(typeof window.enableUrxLinkedIn === \\'function\\'){\\n       window.enableUrxLinkedIn();\\n     }\\n   }\\n\\n   let urx = {\\n    \"onLoad\": [[\"dl.fn-promise.subscribe\", \"waitForUserConsent\", window.urxUserConsentCallback]]\\n   };\\n\\n   // Merge objects\\n   window._ibmAnalytics = Object.assign({}, window._ibmAnalytics, urx);\\n </script>\\n <script type=\"text/javascript\">\\n  window.addEventListener(\\'load\\', function () {\\n    const urlUrx = document.URL;\\n    const partsUrx = urlUrx.split(\"/\");\\n    const sectionOneUrx = partsUrx[3].split(\"?\")[0];\\n    var formElementLoad = document.getElementById(\"urx-form1\");\\n\\n    setTimeout(() => {\\n      adobeDataLayer.push({\\n         \"event\": \"formLoad\",\\n         \"_ibm\": {\\n            \"form\": {\\n              \"formLoad\": {\\n                \"value\": 1\\n              },\\n              \"formProductName\": window.urxMeta.productName,\\n              \"formName\": window.urxMeta.formName,\\n              \"type\": window.urxMeta.formType,\\n              \"platform\": \"urx\",\\n              \"id\": document.getElementById(\"ibm-widget-form-id\").value,\\n              \"source\": \"Embedded\"\\n            }\\n         },\\n         \"web\": {\\n            \"webPageDetails\": {\\n               \"URL\": document.URL,\\n               \"name\": cleanUrl(window.location.host) + \" | \" + templateName + \" | \" + pageTitle,\\n               \"siteSection\": sectionOneUrx\\n            }\\n         }\\n      });\\n    }, 2000);\\n  });\\n\\n  window.addEventListener(\\'load\\', function() {\\n    setTimeout(function() {\\n        const form = document.forms[0];\\n        const fields = form.querySelectorAll(\\'input, select\\');\\n        const triggeredFields = new Set();\\n\\n        function camelCaseToSpaces(str) {\\n            return str.replace(/([a-z])([A-Z])/g, \\'$1 $2\\').toLowerCase();\\n        }\\n\\n        function getFieldIdentifier(field) {\\n            return field.name || field.id || \"unknown\";\\n        }\\n\\n        function handleFieldBlur(event) {\\n            const field = event.target;\\n            const fieldIdentifier = getFieldIdentifier(field);\\n            if (triggeredFields.has(fieldIdentifier)) return;\\n\\n            triggeredFields.add(fieldIdentifier);\\n            const formattedFieldName = camelCaseToSpaces(fieldIdentifier);\\n\\n            adobeDataLayer.push({\\n                \"event\": \"formStart\",\\n                \"_ibm\": {\\n                    \"form\": {\\n                        \"formStart\": {\\n                            \"value\": 1\\n                        },\\n                        \"formProductName\": window.urxMeta.productName,\\n                        \"formName\": window.urxMeta.formName,\\n                        \"type\": window.urxMeta.formType,\\n                        \"platform\": \"urx\",\\n                        \"id\": document.getElementById(\"ibm-widget-form-id\").value,\\n                        \"source\": \"Embedded\",\\n                        \"fieldName\": formattedFieldName,\\n                        \"stepName\": \"step 1|account information\",\\n                        \"stepNumber\": 1\\n                    },\\n                    \"click\": {\\n                        \"linkTileNumber\": 1\\n                    }\\n                },\\n                \"web\": {\\n                    \"webPageDetails\": {\\n                        \"URL\": document.URL,\\n                        \"name\": cleanUrl(window.location.host) + \" | \" + templateName + \" | \" + pageTitle\\n                    },\\n                    \"webInteraction\": {\\n                        \"type\": \"other\",\\n                        \"URL\": document.URL,\\n                        \"name\": \"Homepage\",\\n                        \"region\": document.getElementById(\"ibm-widget-form-locale\").value\\n                    }\\n                }\\n            });\\n        }\\n\\n        for (var i = 0; i < fields.length; i++) {\\n            fields[i].addEventListener(\\'click\\', handleFieldBlur);\\n        }\\n    }, 2000);\\n  });\\n </script>\\n</div>\\n    </div>\\n</div>\\n\\n    \\n\\n\\n</div>\\n<div class=\"article-content-slot\">\\n\\n\\n</div>\\n<div class=\"article-content-slot\">\\n\\n\\n</div>\\n\\n        \\n    </div>\\n\\n</c4d-table-of-contents>\\n\\n    \\n    <script defer src=\"/etc.clientlibs/adobe-cms/clientlibs/clientlib-table-of-contents.lc-265c7d4b2de60964b38345f423032a47-lc.min.js\"></script>\\n\\n</div>\\n<div class=\"footer\">\\r\\n\\r\\n\\r\\n    <div>\\r\\n\\r\\n\\r\\n\\r\\n    <c4d-footer-container selected-language=\"\" size=\"regular\" data-footer-json=\"{&#34;footerMenu&#34;:[{&#34;title&#34;:&#34;Discover&#34;,&#34;links&#34;:[{&#34;title&#34;:&#34;Products&#34;,&#34;url&#34;:&#34;https://www.ibm.com/products?lnk=flatitem&#34;},{&#34;title&#34;:&#34;Consulting services&#34;,&#34;url&#34;:&#34;https://www.ibm.com/consulting?lnk=flatitem&#34;},{&#34;title&#34;:&#34;Industries&#34;,&#34;url&#34;:&#34;https://www.ibm.com/industries?lnk=flatitem&#34;},{&#34;title&#34;:&#34;Case studies&#34;,&#34;url&#34;:&#34;https://www.ibm.com/case-studies?lnk=flatitem&#34;},{&#34;title&#34;:&#34;Financing&#34;,&#34;url&#34;:&#34;https://www.ibm.com/financing?lnk=flatitem&#34;},{&#34;title&#34;:&#34;Research&#34;,&#34;url&#34;:&#34;https://research.ibm.com/?lnk=flatitem&#34;}]},{&#34;title&#34;:&#34;Follow&#34;,&#34;links&#34;:[{&#34;title&#34;:&#34;LinkedIn&#34;,&#34;url&#34;:&#34;https://www.linkedin.com/company/ibm&#34;},{&#34;title&#34;:&#34;X&#34;,&#34;url&#34;:&#34;https://www.twitter.com/ibm&#34;},{&#34;title&#34;:&#34;Instagram&#34;,&#34;url&#34;:&#34;https://www.instagram.com/ibm&#34;},{&#34;title&#34;:&#34;YouTube&#34;,&#34;url&#34;:&#34;https://www.youtube.com/@IBM&#34;},{&#34;title&#34;:&#34;Podcasts&#34;,&#34;url&#34;:&#34;https://www.ibm.com/think/podcasts&#34;}]},{&#34;title&#34;:&#34;Connect&#34;,&#34;links&#34;:[{&#34;title&#34;:&#34;Business partners&#34;,&#34;url&#34;:&#34;https://www.ibm.com/partnerplus/directory/companies&#34;},{&#34;title&#34;:&#34;Documentation&#34;,&#34;url&#34;:&#34;https://www.ibm.com/docs/en?lnk=flathl&#34;},{&#34;title&#34;:&#34;Events&#34;,&#34;url&#34;:&#34;https://www.ibm.com/events/&#34;},{&#34;title&#34;:&#34;Subscription center&#34;,&#34;url&#34;:&#34;https://www.ibm.com/subscribe/&#34;},{&#34;title&#34;:&#34;Support&#34;,&#34;url&#34;:&#34;https://www.ibm.com/mysupport/s/?language=en_US&amp;lnk=flathl&#34;},{&#34;title&#34;:&#34;TechXchange community&#34;,&#34;url&#34;:&#34;https://community.ibm.com/community/user/home?lnk=fpo&#34;}]},{&#34;title&#34;:&#34;About&#34;,&#34;links&#34;:[{&#34;title&#34;:&#34;Overview&#34;,&#34;url&#34;:&#34;https://www.ibm.com/about/?lnk=flatitem&#34;},{&#34;title&#34;:&#34;Careers&#34;,&#34;url&#34;:&#34;https://www.ibm.com/careers/us-en?lnk=flathl&#34;},{&#34;title&#34;:&#34;Investor relations&#34;,&#34;url&#34;:&#34;https://www.ibm.com/investor?lnk=flatitem&#34;},{&#34;title&#34;:&#34;Leadership&#34;,&#34;url&#34;:&#34;https://newsroom.ibm.com/executive-bios&#34;},{&#34;title&#34;:&#34;Newsroom&#34;,&#34;url&#34;:&#34;https://newsroom.ibm.com/?lnk=flatitem&#34;},{&#34;title&#34;:&#34;Security, privacy and trust&#34;,&#34;url&#34;:&#34;https://www.ibm.com/trust?lnk=flatitem&#34;}]}],&#34;footerThin&#34;:[{&#34;title&#34;:&#34;Contact IBM&#34;,&#34;url&#34;:&#34;https://www.ibm.com/contact/global&#34;},{&#34;title&#34;:&#34;Privacy&#34;,&#34;url&#34;:&#34;https://www.ibm.com/us-en/privacy&#34;},{&#34;title&#34;:&#34;Terms of use&#34;,&#34;url&#34;:&#34;https://www.ibm.com/legal?lnk=flg-tous-usen&#34;},{&#34;title&#34;:&#34;Accessibility&#34;,&#34;url&#34;:&#34;https://www.ibm.com/able/?lnk=flg-acce-usen&#34;}]}\"></c4d-footer-container>\\r\\n\\r\\n\\r\\n    \\n    <script defer src=\"/etc.clientlibs/adobe-cms/clientlibs/clientlib-footer.lc-e95dd891a434af35a9a31ff012961efc-lc.min.js\"></script>\\n\\n\\r\\n\\r\\n<script type=\"text/javascript\">\\r\\n    document.addEventListener(\"DOMContentLoaded\", function () {\\r\\n        const localeButton = document.querySelector(\"c4d-locale-button\");\\r\\n        if (localeButton) {\\r\\n            localeButton.style.display = \"none\";\\r\\n        }\\r\\n    });\\r\\n</script>\\r\\n</div>\\r\\n\\r\\n\\r\\n\\r\\n\\r\\n    \\n    \\n</div>\\n\\n        \\n    </div>\\n\\n</div>\\n\\n</c4d-video-cta-container>\\n<div class=\"video-modal-overlay\" aria-hidden=\"true\">\\n    <div class=\"video-modal-overlay__dialog\">\\n        <div class=\"video-modal-overlay__dialog--body\">\\n            <div class=\"video-modal-overlay__dialog--body__close-btn\">\\n                <svg width=\"24\" height=\"24\" viewBox=\"0 0 24 24\" fill=\"none\" xmlns=\"http://www.w3.org/2000/svg\">\\n                    <rect width=\"24\" height=\"24\" fill=\"white\" fill-opacity=\"0.01\" style=\"mix-blend-mode:multiply\"/>\\n                    <path id=\"Vector\" d=\"M13.0606 12L19.5 5.56058L18.4394 4.5L12 10.9394L5.56072 4.5L4.5 5.56058L10.9394 12L4.5 18.4394L5.56072 19.5L12 13.0606L18.4394 19.5L19.5 18.4394L13.0606 12Z\" fill=\"#161616\"/>\\n                </svg>\\n            </div>\\n            <div class=\"video-modal-overlay__dialog--body-content\">\\n\\n                <div class=\"video-modal-overlay__loading-container\">\\n                    <cds-loading></cds-loading>\\n                </div>\\n\\n                <div class=\"video-wms hide\">\\n                    <iframe class=\"video-modal-content\" data-original-src=\"https://video.ibm.com/embed/$[wmsChanneId]?volume=0&autoplay=true&controls=true\" src=\"\" webkitallowfullscreen allowfullscreen frameborder=\"no\" referrerpolicy=\"no-referrer-when-downgrade\"></iframe>\\n\\n                </div>\\n\\n                <div class=\"video-media-center hide\">\\n                    <c4d-video-player-container video-id=\"\" aspect-ratio=\"16x9\" auto-play muted playing-mode=\"inline\"></c4d-video-player-container>\\n                </div>\\n            </div>\\n        </div>\\n    </div>\\n</div>\\n\\n\\n    \\n    <script defer src=\"/etc.clientlibs/adobe-cms/clientlibs/clientlib-video-player.lc-48c943b2629d1be090d42aa4742dad54-lc.min.js\"></script>\\n<script defer src=\"/etc.clientlibs/adobe-cms/clientlibs/clientlib-cweb-loading.lc-ca618eb7785b83e9cfb87f1d1683e7cd-lc.min.js\"></script>\\n\\n\\n\\n\\n<c4d-lightbox-video-player-container></c4d-lightbox-video-player-container>\\n\\n    \\n    \\n\\n\\n    \\n    \\n    \\n<script src=\"/etc.clientlibs/adobe-cms/clientlibs/clientlib-idlBundle.lc-f6e56fb79df3212866086786bd84703d-lc.min.js\"></script>\\n\\n\\n\\n    \\n\\n\\n    \\n    <script src=\"/etc.clientlibs/adobe-cms/clientlibs/clientlib-base.lc-af096d2ee96db104c83e042c4f605e19-lc.min.js\"></script>\\n<script src=\"/etc.clientlibs/adobe-cms/clientlibs/clientlib-components-main.lc-a31f30e2f2f18bb3e9e40082e52c3227-lc.min.js\"></script>\\n<script src=\"/etc.clientlibs/adobe-cms/clientlibs/clientlib-idlStyles.lc-e7451d2fbef177f424b3ec622db54f51-lc.min.js\"></script>\\n<script src=\"/etc.clientlibs/adobe-cms/components/content/atoms/image-dm/clientlibs/site.lc-cdf1f98956703ddaa9b16a5d74875d46-lc.min.js\"></script>\\n\\n\\n\\n\\n\\n<script src=\"https://www.ibm.com/common/digitaladvisor/cm-app/latest/cm-app.min.js\" defer async></script>\\n\\n\\n\\n    \\n    <script defer src=\"/etc.clientlibs/adobe-cms/clientlibs/clientlib-cweb-code-snippet.lc-d1f19e3766d5ef4bb40f94c6a51b5bbf-lc.min.js\"></script>\\n\\n\\n\\n    \\n    \\n    <script defer src=\"/etc.clientlibs/adobe-cms/clientlibs/clientlib-pdfviewer.lc-5ce3caa19f9ba8fd42f9f97caabf9d34-lc.min.js\"></script>\\n\\n\\n    \\n\\n\\n    \\n    <script async defer src=\"/etc.clientlibs/adobe-cms/clientlibs/clientlib-adobe-data-layer.lc-a27dd47fa802878abcfd8cfc0ead27f8-lc.min.js\"></script>\\n\\n\\n\\n    \\n\\n    \\n\\n    \\n\\n\\n\\n    \\n    \\n<script src=\"/etc.clientlibs/core/wcm/components/commons/datalayer/v1/clientlibs/core.wcm.components.commons.datalayer.v1.lc-70264651675213ed7f7cc5a02a00f621-lc.min.js\"></script>\\n\\n\\n\\n\\n    \\n\\n\\n\\n\\n<!-- Added for Adobe analytics implementation ADCMS-5834\\n<script type=\"text/javascript\">\\n\\n    adobeDataLayer.push({\\n        \"event\": \"linkClick\",\\n        \"web\": {\\n            \"webPageDetails\": {\\n                \"URL\": document.URL,\\n                \"name\": \"home\"\\n            },\\n            \"webInteraction\": {\\n                \"linkClick\":\"event\",\\n                \"value\":\"1\",\\n                \"type\": \"other\",\\n                \"URL\": document.URL,\\n                \"name\": \"linkClick: \" +  document.URL\\n            }\\n        },\\n    })\\n</script>  !-->\\n\\n<!-- Added for Adobe analytics implementation ADCMS-5834 & ADCMS-6152 !-->\\n<script type=\"text/javascript\">\\n    document.addEventListener(\"DOMContentLoaded\", function() {\\n        var templatePath = \"\\\\/conf\\\\/adobe\\\\u002Dcms\\\\u002Deditable\\\\/settings\\\\/wcm\\\\/templates\\\\/full\\\\u002Dwidth\\\\u002Dlayout\";\\n        var templateName = templatePath.split(\\'/\\').pop();\\n        const currentUrl = document.URL;\\n        const [baseUrl, queryString] = currentUrl.split(\\'?\\');\\n        const urlWithoutProtocolAndDomain = baseUrl.replace(/^https?:\\\\/\\\\/[^\\\\/]+\\\\//, \\'\\');\\n        const segments = urlWithoutProtocolAndDomain.split(\\'/\\').filter(segment => segment);\\n        const localePattern = /^[a-z]{2}-[a-z]{2}$/;\\n        const cleanedSegments = segments.filter(segment => !localePattern.test(segment));\\n        const firstSegment = cleanedSegments[0] || \"\";\\n        const secondSegment = cleanedSegments[1] || \"\";\\n        const thirdSegment = cleanedSegments[2] || \"\";\\n        const lastModified = \"Thu Aug 28 07:50:36 UTC 2025\";\\n        var isoDate=\"\";\\n        if (lastModified.includes(\"UTC\")) {\\n               const date = new Date(lastModified);\\n               isoDate = date.toISOString();\\n        } else {\\n                 isoDate = lastModified;\\n        }\\n\\n        if (currentUrl.includes(\"/products\")) {\\n            callProductPageLoadEvent();\\n        }\\n\\n        function callProductPageLoadEvent(){\\n            adobeDataLayer.push({\\n                \"event\": \"productPageLoad\",\\n                \"commerce\": {\\n                    \"productViews\": {\\n                        \"value\": 1\\n                     }\\n                },\\n                \"productListItems\": {\\n                    \"name\": secondSegment,\\n                    \"productCategories\": {\\n                        \"categoryName\": thirdSegment\\n                    }\\n                },\\n                \"web\": {\\n                    \"webPageDetails\": {\\n                        \"URL\": document.URL,\\n                        \"name\": cleanUrl(window.location.host) + \" | \" + templateName + \" | Homepage\",\\n                        \"siteSection\": firstSegment\\n                    },\\n                    \"webReferrer\": {\\n                        \"URL\": document.referrer\\n                    }\\n                }\\n            });\\n        }\\n\\n        function getCookieByName(name) {\\n            const cookieArr = document.cookie.split(\\';\\');\\n            for (let i = 0; i < cookieArr.length; i++) {\\n                const cookie = cookieArr[i].trim();\\n                if (cookie.startsWith(name + \"=\")) {\\n                    return cookie.substring(name.length + 1);\\n                }\\n            }\\n            return null;\\n        }\\n\\n        function getContextCookie(name) {\\n  \\t\\t    const cookieArr = document.cookie.split(\\';\\');\\n            for (let i = 0; i < cookieArr.length; i++) {\\n              const cookie = cookieArr[i].trim();\\n              if (cookie.startsWith(name + \"=\")) {\\n                  const value = cookie.substring(name.length + 1);\\n                  if (value.includes(\"0:\")) return \"false\";\\n                  return (value.includes(\"2:\") || value.includes(\"1:\")) ? \"true\" : \"false\";\\n              }\\n            }\\n            return \"false\";\\n        }\\n\\n        function cleanUrl(url) {\\n            let modifiedUrl = url;\\n            if (modifiedUrl.startsWith(\"www\")) {\\n                modifiedUrl = modifiedUrl.replace(/^www\\\\.?/, \"\");\\n            }\\n            return modifiedUrl;\\n        }\\n\\n        /* */\\n\\n        window.addEventListener(\\'load\\', function () {\\n            setTimeout(initializeDDSTracking, 1000);\\n        });\\n\\n        if (!window.ddsVideoTrackingInitialized) {\\n            window.ddsVideoTrackingInitialized = false;\\n        }\\n\\n        function initializeDDSTracking() {\\n            if (window.ddsVideoTrackingInitialized) return;\\n            window.ddsVideoTrackingInitialized = true;\\n            var videoPlayers = document.querySelectorAll(\\'caem-video-player, c4d-video-player\\');\\n            //console.log(\\'Found \\' + videoPlayers.length + \\' video players.\\');\\n            for (var i = 0; i < videoPlayers.length; i++) {\\n                (function (videoPlayer, index) {\\n                    var videoName = videoPlayer.getAttribute(\\'name\\') || \"Video \" + (index + 1);\\n                    var playingMode = videoPlayer.getAttribute(\\'playing-mode\\') || \"\";\\n                    //console.log(\\'Processing video player: \\' + videoName);\\n                    function pushVideoEvent(eventType) {\\n                        //console.log(\\'Pushing event: \\' + eventType + \\' for \\' + videoName);\\n                            adobeDataLayer.push({\\n                                \"event\": eventType,\\n                                    \"_ibm\": {\\n                                        \"video\": {\\n                                            \"videoName\": videoName,\\n                                            \"videoType\": \"mp4\",\\n                                            \"videoPublishDate\": isoDate,\\n                                            \"videoEditDate\": isoDate,\\n                                            \"videoPlaylistName\": \"\",\\n                                            \"videoPlayType\": playingMode,\\n                                            \"videoTagKeywords\": \"video-container\",\\n                                            [eventType]: {\\n                                                  \"value\": 1\\n                                            }\\n                                        },\\n                                        \"user\": {\\n                                            \"userAgent\": navigator.userAgent,\\n                                            \"loginStatus\": digitalData.user.segment.isAuthenticated ? \"logged in\" : \"logged out\"\\n                                        }\\n                                    },\\n                                    \"web\": {\\n                                        \"webPageDetails\": {\\n                                             \"URL\": document.URL,\\n                                             \"name\": cleanUrl(window.location.host) + \" | \" + templateName + \" | \" + \"Homepage\" ,\\n                                             \"siteSection\": firstSegment\\n                                        },\\n                                        \"webReferrer\": {\\n                                            \"URL\": document.referrer\\n                                        }\\n                                    }\\n                            });\\n                    }\\n\\n                function checkForVideo(container) {\\n                    var iframe = container.querySelector(\\'iframe\\');\\n                    if (!iframe) return null;\\n\\n                    try {\\n                            return iframe.contentDocument ? iframe.contentDocument.querySelector(\\'video\\') : null;\\n                        } catch (e) {\\n                            console.error(\\'Unable to access iframe content for \\' + videoName + \\':\\', e);\\n                            return null;\\n                        }\\n                }\\n\\n                function trackVideoProgress(video) {\\n                    if (video.hasTracking) return;\\n                    video.hasTracking = true;\\n\\n                    var milestones = {\\n                        reachedStart: false,\\n                        reached25: false,\\n                        reached50: false,\\n                        reached75: false,\\n                        completed: false\\n                    };\\n\\n                    var handleFirstPlay = function () {\\n                            if (!milestones.reachedStart) {\\n                                milestones.reachedStart = true;\\n                                pushVideoEvent(\"videoStart\");\\n                            }\\n                    };\\n\\n                    video.addEventListener(\"playing\", handleFirstPlay, {\\n                        once: true\\n                    });\\n\\n                    if (!video.paused) {\\n                        handleFirstPlay();\\n                    }\\n\\n                    video.addEventListener(\"timeupdate\", function () {\\n                        var percentageWatched = (video.currentTime / video.duration) * 100;\\n\\n                        if (percentageWatched >= 25 && !milestones.reached25) {\\n                            milestones.reached25 = true;\\n                            pushVideoEvent(\"video25\");\\n                        }\\n\\n                        if (percentageWatched >= 50 && !milestones.reached50) {\\n                            milestones.reached50 = true;\\n                            pushVideoEvent(\"video50\");\\n                        }\\n\\n                        if (percentageWatched >= 75 && !milestones.reached75) {\\n                            milestones.reached75 = true;\\n                            pushVideoEvent(\"video75\");\\n                        }\\n\\n                        if (percentageWatched >= 100 && !milestones.completed) {\\n                            milestones.completed = true;\\n                            video.removeEventListener(\"timeupdate\", arguments.callee);\\n                            pushVideoEvent(\"videoComplete\");\\n                        }\\n                    });\\n                }\\n\\n                function setupVideoTracking() {\\n                    setTimeout(function () {\\n                        var container = videoPlayer.querySelector(\\'.kWidgetIframeContainer\\');\\n                        if (!container) {\\n                            console.log(\\'No video container found inside \\' + videoName);\\n                            return;\\n                        }\\n\\n                        var video = checkForVideo(container);\\n                        if (video) {\\n                            if (videoPlayer.hasAttribute(\\'background-mode\\')) {\\n                                    //console.log(\\'Skipping tracking for background-mode video: \\' + videoName);\\n                                    return;\\n                            }\\n                            trackVideoProgress(video);\\n                        } else {\\n                            console.log(\\'No video found inside \\' + videoName);\\n                        }\\n                    }, 3000);\\n                }\\n\\n                var container = videoPlayer.querySelector(\\'.kWidgetIframeContainer\\');\\n                if (container && checkForVideo(container)) {\\n                    setupVideoTracking();\\n                } else {\\n                         videoPlayer.addEventListener(\\'click\\', function () {\\n                            if (!videoPlayer.videoTrackingStarted) {\\n                                   videoPlayer.videoTrackingStarted = true;\\n                                    setupVideoTracking();\\n                            }\\n                        }, { once: true });\\n                }\\n\\n              })(videoPlayers[i], i);\\n            }\\n        }\\n        /*  */\\n\\n        function getVisitDepth() {\\n            let pageVisitCount = sessionStorage.getItem(\\'pageVisitCount\\');\\n            pageVisitCount = pageVisitCount ? parseInt(pageVisitCount, 10) : 0;\\n            pageVisitCount++;\\n            sessionStorage.setItem(\\'pageVisitCount\\', pageVisitCount);\\n            return pageVisitCount;\\n        }\\n\\n        function getAmPm() {\\n            const date = new Date();\\n            const hours = date.getHours();\\n            return hours >= 12 ? \"PM\" : \"AM\";\\n        }\\n\\n        function getCurrentDay() {\\n            const date = new Date();\\n            return new Intl.DateTimeFormat(\\'en-US\\', { weekday: \\'long\\' }).format(date);\\n        }\\n\\n        function getDayOfMonth() {\\n            const date = new Date();\\n            return date.getDate();\\n        }\\n\\n        function getDayOfWeekAsInteger() {\\n            const date = new Date();\\n            return date.getDay();\\n        }\\n\\n        function getDayOfYear() {\\n            const date = new Date();\\n            const startOfYear = new Date(date.getFullYear(), 0, 1);\\n            const diffInMillis = date - startOfYear;\\n            const dayOfYear = Math.floor(diffInMillis / (1000 * 60 * 60 * 24)) + 1;\\n            return dayOfYear;\\n        }\\n\\n        function getCurrentHour() {\\n            var currentHour = new Date().getHours();\\n            var formattedHour = (currentHour === 0 ? 24 : currentHour);\\n            return formattedHour + \":00\";\\n        }\\n\\n        function getCurrentHourInADay() {\\n            const date = new Date();\\n            let hours = date.getHours();\\n            const period = hours >= 12 ? \"PM\" : \"AM\";\\n            hours = hours % 12 || 12;\\n            return hours +\":00\" +\" \" + period;\\n        }\\n\\n        function getCurrentMinute() {\\n            const date = new Date();\\n            return date.getMinutes();\\n        }\\n\\n        function getCurrentMonth() {\\n            const date = new Date();\\n            return date.getMonth() + 1;\\n        }\\n\\n        function printCurrentMonthName() {\\n            const months = [\"January\", \"February\", \"March\", \"April\", \"May\", \"June\",\\n                    \"July\", \"August\", \"September\", \"October\", \"November\", \"December\"];\\n            const date = new Date();\\n            const monthName = months[date.getMonth()];\\n            return monthName;\\n        }\\n\\n        function getQuarter(date = new Date()) {\\n            var year = date.getFullYear();\\n            var quarters = [\\n                            { start: \"Jan\", end: \"Mar\" },\\n                            { start: \"Apr\", end: \"Jun\" },\\n                            { start: \"Jul\", end: \"Sep\" },\\n                            { start: \"Oct\", end: \"Dec\" }\\n                           ];\\n\\n            var quarterIndex = Math.floor(date.getMonth() / 3);\\n            var start = quarters[quarterIndex].start;\\n            var end = quarters[quarterIndex].end;\\n            return start + \" \" + year + \" - \" + end + \" \" + year;\\n        }\\n\\n        function getCurrentQuarter() {\\n            const date = new Date();\\n            const month = date.getMonth();\\n            const quarter = Math.floor(month / 3) + 1;\\n            return quarter;\\n        }\\n\\n        function getCurrentWeek() {\\n            const date = new Date();\\n            const startOfYear = new Date(date.getFullYear(), 0, 1);\\n            const diff = date - startOfYear;\\n            const oneWeekInMillis = 1000 * 60 * 60 * 24 * 7;\\n            const weekNumber = Math.ceil(diff / oneWeekInMillis);\\n            return weekNumber;\\n        }\\n\\n        function getDayType() {\\n            const date = new Date();\\n            const dayOfWeek = date.getDay();\\n             if (dayOfWeek === 0 || dayOfWeek === 6) {\\n                return \"Weekend\";\\n             } else {\\n                        return \"Weekday\";\\n                    }\\n        }\\n\\n        function getCurrentYear() {\\n            const date = new Date();\\n            return date.getFullYear();\\n        }\\n\\n        function generateUtCodesObject() {\\n            const utCodesMeta = document.querySelector(\\'meta[name=\"ut-codes\"]\\');\\n            const utCodesIdMeta = document.querySelector(\\'meta[name=\"ut-codes-id\"]\\');\\n            if (utCodesMeta && utCodesIdMeta) {\\n                const utCodesContent = utCodesMeta.getAttribute(\\'content\\');\\n                const utCodesIdContent = utCodesIdMeta.getAttribute(\\'content\\');\\n                const utCodesArray = utCodesContent.split(\" > \");\\n                const utCodesIdArray = utCodesIdContent.split(\" > \");\\n                let utCodes = {};\\n                utCodesArray.forEach((code, index) => {\\n                    const firstTwoLetters = code.substring(0, 2);\\n                    let prefix = \\'\\';\\n                    switch (firstTwoLetters) {\\n                        case \\'10\\':\\n                        prefix = \\'BusinessUnit\\';\\n                        break;\\n                        case \\'15\\':\\n                        prefix = \\'LineOfBusiness\\';\\n                        break;\\n                        case \\'17\\':\\n                        prefix = \\'Market\\';\\n                        break;\\n                        case \\'20\\':\\n                        prefix = \\'OfferingPortfolio\\';\\n                        break;\\n                        case \\'30\\':\\n                        prefix = \\'Offering\\';\\n                        break;\\n                        default:\\n                        prefix = \\'Unknown\\';\\n                    }\\n\\n                    const codeKey = \\'ut\\' + firstTwoLetters + prefix;\\n                    const codeName = code + \\':\\' + (utCodesIdArray[index] || \"\");\\n                    utCodes[codeKey] = codeName;\\n                });\\n\\n                return utCodes;\\n            }\\n\\n            return {};\\n        }\\n\\n        function isFirstPageVisited() {\\n            const domainKey = \\'firstPageVisited_\\' + window.location.hostname;\\n            if (!localStorage.getItem(domainKey)) {\\n                localStorage.setItem(domainKey, \\'true\\');\\n                return true;\\n            }\\n            return false;\\n        }\\n\\n        function getQueryParamWithKey(paramName) {\\n            const urlObj = new URL(window.location.href);\\n            const value = urlObj.searchParams.get(paramName);\\n            if (urlObj.searchParams.has(paramName)) {\\n                return paramName + \\'=\\' + value;\\n            }\\n            return \\'\\';\\n        }\\n\\n        function getQueryParam(name) {\\n            const queryString = window.location.search.substring(1);\\n            if (name === \\'?\\') {\\n                return queryString;\\n            }\\n\\n            const urlParams = new URLSearchParams(queryString);\\n            return urlParams.get(name);\\n        }\\n\\n        const utCodes = generateUtCodesObject();\\n        const pmpDataScript = \"{\\\\x22platforms\\\\x22:[]}\";\\n        let pmpItems = [];\\n        if (pmpDataScript) {\\n               try {\\n                   pmpItems = JSON.parse(pmpDataScript);\\n               } catch (e) {\\n                      console.error(\"error: \" + e);\\n               }\\n        }\\n\\n        adobeDataLayer.push({\\n            \"event\": \"pageLoad\",\\n            \"_ibm\": {\\n                \"page\": {\\n                    utCodes: utCodes,\\n                    \"pageQueryString\":{\\n                            \"pageQueryString\": getQueryParam(\\'?\\') || \"\" ,\\n                            \"utm_content\": getQueryParam(\\'utm_content\\') || \"\",\\n                            \"utm_term\": getQueryParam(\\'utm_term\\') || \"\",\\n                            \"utm_medium\": getQueryParam(\\'utm_medium\\') || \"\",\\n                            \"utm_source\": getQueryParam(\\'utm_source\\') || \"\",\\n                            \"utm_campaign\": getQueryParam(\\'utm_campaign\\') || \"\",\\n                            \"utm_id\": getQueryParam(\\'utm_id\\') || \"\",\\n                            \"p1\": getQueryParam(\\'p1\\') || \"\",\\n                            \"p2\": getQueryParam(\\'p2\\') || \"\",\\n                            \"p3\": getQueryParam(\\'p3\\') || \"\",\\n                            \"p4\": getQueryParam(\\'p4\\') || \"\",\\n                            \"p5\": getQueryParam(\\'p5\\') || \"\",\\n                            \"p6\": getQueryParam(\\'p6\\') || \"\",\\n                            \"p7\": getQueryParam(\\'p7\\') || \"\",\\n                            \"p8\": getQueryParam(\\'p8\\') || \"\",\\n                            \"p9\": getQueryParam(\\'p9\\') || \"\",\\n                    },\\n                    \"firstPageFlag\": isFirstPageVisited(),\\n                    \"internalCampaign\": getQueryParamWithKey(\"intcmp\"),\\n                    \"siteSection2\": secondSegment,\\n                    \"siteSection3\": thirdSegment,\\n                    \"pageType\": templateName,\\n                    \"domain\": cleanUrl(window.location.host),\\n                    \"siteLanguage\": \"en\",\\n                    \"pageName\": \"Homepage\",\\n                    \"siteCountry\": \"us\"\\n                },\\n\\n                \"siteActivity\": {\\n                    \"visitDepth\": getVisitDepth()\\n        \\t    },\\n                \"timeParting\": {\\n                    \"t_AmPM\": getAmPm(),\\n                    \"t_Day\": getCurrentDay(),\\n                    \"t_DayOfMonth\": getDayOfMonth(),\\n                    \"t_DayOfWeek\": getDayOfWeekAsInteger(),\\n                    \"t_DayOfYear\": getDayOfYear(),\\n                    \"t_Hour\": getCurrentHour(),\\n \\t\\t            \"t_HourOfDay\": getCurrentHourInADay(),\\n                    \"t_Minute\": getCurrentMinute(),\\n                    \"t_Month\": getCurrentMonth(),\\n                    \"t_MonthOfYear\": printCurrentMonthName(),\\n                    \"t_Quarter\": getQuarter(date = new Date()),\\n                    \"t_QuarterOfYear\": getCurrentQuarter(),\\n                    \"t_Week\": getCurrentWeek(),\\n                    \"t_Weekday_Weekend\": getDayType(),\\n                    \"t_Year\": getCurrentYear()\\n        \\t    }\\n\\n            },\\n            paidMediaPlatforms: pmpItems.platforms || [],\\n            \"web\": {\\n                \"webPageDetails\": {\\n                    \"pageViews\": { \"value\": 1 },\\n                    \"URL\": document.URL,\\n                    \"name\": cleanUrl(window.location.host) + \" | \" + templateName + \" | Homepage\",\\n                    \"siteSection\": firstSegment\\n                },\\n                \"webReferrer\": {\\n                    \"URL\": document.referrer\\n                }\\n            }\\n        });\\n\\n        document.addEventListener(\\'click\\', function(event) {\\n            if (event.target.closest(\\'.WACLauncher__ButtonContainer\\')) {\\n                handleClick(event);\\n            }\\n        });\\n\\n        function handleClick(event) {\\n            adobeDataLayer.push({\\n                \"event\": \"contactLoad\",\\n                \"_ibm\": {\\n                    \"contact\": {\\n                        \"contactBotClick\": { \"value\": 1 },\\n                        \"contactExperienceType\": \"Support or Sales\",\\n                        \"contactLanguage\": \"en\",\\n                        \"contactCountry\": \"us\"\\n                    },\\n                    \"click\": {\\n                        \"linkTileNumber\": 1\\n                    }\\n                },\\n                \"web\": {\\n                    \"webPageDetails\": {\\n                        \"URL\": document.URL,\\n                        \"name\": cleanUrl(window.location.host) + \" | \" + templateName + \" | Homepage\",\\n                    },\\n                    \"webInteraction\": {\\n                        \"name\": \"contactLoad\",\\n                        \"URL\": document.URL,\\n                        \"type\": \"other\"\\n                    }\\n                }\\n            });\\n        }\\n\\n        const legalNavItems = document.getElementsByTagName(\\'c4d-legal-nav-item\\');\\n        for (let item of legalNavItems) {\\n            const hrefValue = item.getAttribute(\\'href\\');\\n            if (hrefValue && hrefValue.includes(\\'/contact\\')) {\\n                item.addEventListener(\\'click\\', function(event) {\\n                     handleClick(event);\\n                });\\n            }\\n        }\\n\\n        const mastheadItems = document.getElementsByTagName(\\'c4d-masthead-contact\\');\\n        for (let item of mastheadItems) {\\n            if (item.getAttribute(\\'data-ibm-contact\\') === \\'contact-link\\') {\\n                item.addEventListener(\\'click\\', function(event) {\\n                    handleClick(event);\\n\\n                });\\n            }\\n        }\\n    });\\n</script>\\n\\n<script type=\"text/javascript\"  src=\"/BklgmMsRUjxPpCAmxh0a/EcibfpX4mQhmfQuYG3/dyB-VF8vAQ/BSh/Tey8zB0sB\"></script><link rel=\"stylesheet\" type=\"text/css\"  href=\"/BklgmMsRUjxPpCAmxh0a/8ribY7/FHhqVF8vAQ/ZV1/jCSxQDyJZ\"><script  src=\"/BklgmMsRUjxPpCAmxh0a/8ribY7/FHhqVF8vAQ/WFQ/SAiN5a04p\" async defer></script><div id=\"sec-overlay\" style=\"display:none;\"><div id=\"sec-container\"></div></div></body>\\n</html>'"
      ]
     },
     "execution_count": 73,
     "metadata": {},
     "output_type": "execute_result"
    }
   ],
   "source": [
    "data"
   ]
  },
  {
   "cell_type": "markdown",
   "metadata": {},
   "source": [
    "We create a <code>BeautifulSoup</code> object using the <code>BeautifulSoup</code> constructor \n"
   ]
  },
  {
   "cell_type": "code",
   "execution_count": 74,
   "metadata": {},
   "outputs": [],
   "source": [
    "soup = BeautifulSoup(data,\"html.parser\")  # create a soup object using the variable 'data'"
   ]
  },
  {
   "cell_type": "markdown",
   "metadata": {},
   "source": [
    "Scrape all links\n"
   ]
  },
  {
   "cell_type": "code",
   "execution_count": 77,
   "metadata": {},
   "outputs": [
    {
     "name": "stdout",
     "output_type": "stream",
     "text": [
      "https://www.ibm.com/sports/usopen?lnk=hpls1us\n",
      "https://www.ibm.com/think/insights/lets-create-smarter-business?lnk=hpls2us\n",
      "https://www.ibm.com/think/insights/scale-ai-agents-business?lnk=hprc1us\n",
      "https://www.ibm.com/solutions/ipaas?lnk=hprc2us\n",
      "https://www.ibm.com/campaign/data-and-ai-trust?lnk=hprc3us\n",
      "https://www.ibm.com/thought-leadership/institute-business-value/report/quantum-safe?lnk=hprc4us\n",
      "https://www.ibm.com/community/ibm-techxchange-conference/?lnk=hpdev1us\n",
      "https://github.com/ibm-granite-community/granite-snack-cookbook?lnk=hpdev2us\n",
      "https://developer.ibm.com/technologies/artificial-intelligence/?lnk=hpdev3us\n",
      "https://www.ibm.com/granite?lnk=hpdev4us\n",
      "https://www.ibm.com/new/announcements/openai-s-open-source-models-available-on-ibm-watsonx-ai?lnk=hpdev5us\n",
      "https://research.ibm.com/blog/granite-vision-ocr-leaderboard?lnk=hpdev6us\n",
      "https://www.ibm.com/new/announcements/governing-ai-with-confidence-our-journey-with-watsonx-governance?lnk=hpdev7us\n",
      "https://www.ibm.com/products/watsonx-code-assistant/pricing?lnk=hpdev8us\n",
      "https://www.ibm.com/products/offers-and-discounts?lnk=hpdo1us\n",
      "https://www.ibm.com/software?lnk=hpfp1us\n",
      "https://www.ibm.com/solutions/ai-agents?lnk=hpfp2us\n",
      "https://www.ibm.com/solutions/data-and-ai?lnk=hpfp3us\n",
      "https://www.ibm.com/solutions/automation?lnk=hpfp4us\n",
      "https://www.ibm.com/solutions/hybrid-cloud?lnk=hpfp5us\n",
      "https://www.ibm.com/solutions/ai-models?lnk=hpfp6us\n",
      "https://www.ibm.com/solutions/analytics?lnk=hpfp7us\n",
      "https://www.ibm.com/solutions/security?lnk=hpfp8us\n",
      "https://www.ibm.com/consulting?lnk=hpfp9us\n",
      "https://www.ibm.com/about?lnk=hpii1us\n",
      "https://www.ibm.com/history?lnk=hpii1us\n",
      "https://research.ibm.com?lnk=hpii1us\n",
      "https://www.ibm.com/quantum?lnk=hpii1us\n",
      "https://www.ibm.com/careers?lnk=hpii1us\n",
      "https://skillsbuild.org?lnk=hpii1us\n"
     ]
    }
   ],
   "source": [
    "for link in soup.find_all('a',href=True):  # in html anchor/link is represented by the tag <a>\n",
    "\n",
    "    print(link.get('href'))\n"
   ]
  },
  {
   "cell_type": "markdown",
   "metadata": {},
   "source": [
    "## Scrape  all images  Tags \n"
   ]
  },
  {
   "cell_type": "code",
   "execution_count": 80,
   "metadata": {},
   "outputs": [
    {
     "name": "stdout",
     "output_type": "stream",
     "text": [
      "https://assets.ibm.com/is/image/ibm/api-connect-data-fabric?ts=1756367412964&dpr=off\n",
      "https://assets.ibm.com/is/image/ibm/watsonx-data-technical-illustration-grey10-web-guidebook?ts=1756367418266&dpr=off\n",
      "https://assets.ibm.com/is/image/ibm/data-security-ai?ts=1756367418936&dpr=off\n",
      "https://assets.ibm.com/is/image/ibm/ibm_quantum_safe_4k_hero_05?ts=1756367423193&dpr=off\n",
      "https://assets.ibm.com/is/image/ibm/big-blue-for-you-promo?ts=1756367427881&dpr=off\n",
      "https://assets.ibm.com/is/image/ibm/202502_ibm_z-inside_ibm_tp_day_02_4888?ts=1756367436477&dpr=off\n"
     ]
    }
   ],
   "source": [
    "for link in soup.find_all('img'):# in html image is represented by the tag <img>\n",
    "    print(link)\n",
    "    print(link.get('src'))"
   ]
  },
  {
   "cell_type": "markdown",
   "metadata": {},
   "source": [
    "### Scrape data from HTML tables\n"
   ]
  },
  {
   "cell_type": "code",
   "execution_count": 81,
   "metadata": {},
   "outputs": [],
   "source": [
    "#The below url contains an html table with data about colors and color codes.\n",
    "url = \"https://cf-courses-data.s3.us.cloud-object-storage.appdomain.cloud/IBM-DA0321EN-SkillsNetwork/labs/datasets/HTMLColorCodes.html\""
   ]
  },
  {
   "cell_type": "markdown",
   "metadata": {},
   "source": [
    "Before proceeding to scrape a web site, you need to examine the contents and the way data is organized on the website. Open the above url in your browser and check how many rows and columns there are in the color table.\n"
   ]
  },
  {
   "cell_type": "code",
   "execution_count": 82,
   "metadata": {},
   "outputs": [],
   "source": [
    "# get the contents of the webpage in text format and store in a variable called data\n",
    "data  = requests.get(url).text"
   ]
  },
  {
   "cell_type": "code",
   "execution_count": 83,
   "metadata": {},
   "outputs": [],
   "source": [
    "soup = BeautifulSoup(data,\"html.parser\")"
   ]
  },
  {
   "cell_type": "code",
   "execution_count": 84,
   "metadata": {},
   "outputs": [],
   "source": [
    "#find a html table in the web page\n",
    "table = soup.find('table') # in html table is represented by the tag <table>"
   ]
  },
  {
   "cell_type": "code",
   "execution_count": null,
   "metadata": {},
   "outputs": [],
   "source": [
    "#Get all rows from the table\n",
    "for row in table.find_all('tr'): # in html table row is represented by the tag <tr>\n",
    "    # Get all columns in each row.\n",
    "    cols = row.find_all('td') # in html a column is represented by the tag <td>\n",
    "    color_name = cols[2].string # store the value in column 3 as color_name\n",
    "    color_code = cols[3].string # store the value in column 4 as color_code\n",
    "    print(\"{}--->{}\".format(color_name,color_code))"
   ]
  },
  {
   "cell_type": "markdown",
   "metadata": {},
   "source": [
    "## Authors\n"
   ]
  },
  {
   "cell_type": "markdown",
   "metadata": {},
   "source": [
    "Ramesh Sannareddy\n"
   ]
  },
  {
   "cell_type": "markdown",
   "metadata": {},
   "source": [
    "### Other Contributors\n"
   ]
  },
  {
   "cell_type": "markdown",
   "metadata": {},
   "source": [
    "Rav Ahuja\n"
   ]
  },
  {
   "cell_type": "markdown",
   "metadata": {},
   "source": [
    "## Change Log\n"
   ]
  },
  {
   "cell_type": "markdown",
   "metadata": {},
   "source": [
    "|  Date (YYYY-MM-DD) |  Version | Changed By  |  Change Description |\n",
    "|---|---|---|---|\n",
    "| 2020-10-17  | 0.1  | Joseph Santarcangelo  Created initial version of the lab |\n"
   ]
  },
  {
   "cell_type": "markdown",
   "metadata": {},
   "source": [
    " Copyright &copy; 2020 IBM Corporation. This notebook and its source code are released under the terms of the [MIT License](https://cognitiveclass.ai/mit-license/).\n"
   ]
  }
 ],
 "metadata": {
  "kernelspec": {
   "display_name": "Python 3 (ipykernel)",
   "language": "python",
   "name": "python3"
  },
  "language_info": {
   "codemirror_mode": {
    "name": "ipython",
    "version": 3
   },
   "file_extension": ".py",
   "mimetype": "text/x-python",
   "name": "python",
   "nbconvert_exporter": "python",
   "pygments_lexer": "ipython3",
   "version": "3.12.8"
  },
  "prev_pub_hash": "4bd41ec31a04e92055061bae48ef051a4c99713703c2d99e7d2dadcb7150b66b"
 },
 "nbformat": 4,
 "nbformat_minor": 4
}
